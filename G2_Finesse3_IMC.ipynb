{
  "cells": [
    {
      "cell_type": "markdown",
      "id": "e90e297a",
      "metadata": {
        "id": "e90e297a"
      },
      "source": [
        "# Finesse Tutorial: Investigating the effect of an input mode cleaner on laser frequency noise\n",
        "\n",
        "\n",
        "Alina Soflau, Yashwant Bothra, Enzo Tapia, Andreas Freise, Nikhef, 14.10.2025\n",
        "\n",
        "This notebook was used in the IMPRS School \"Gravity at the Extreme: from Theory to Observation\"< October 2025>"
      ]
    },
    {
      "cell_type": "markdown",
      "id": "78e2a74b",
      "metadata": {
        "id": "78e2a74b"
      },
      "source": [
        "### Overview\n",
        "\n",
        "\n",
        "We study how the Input Mode Cleaner (IMC) affects laser frequency noise in a realistic interferometric gravitational-wave detector model. We begin with a dual-recycled Fabry–Pérot Michelson interferometer (DRFPMI), that is, a Michelson interferometer with Fabry–Pérot arm cavities, a Power Recycling Mirror (PRM), and a Signal Recycling Mirror (SRM). At first, the interferometer has no Input Mode Cleaner (IMC) and no Output Mode Cleaner (OMC). We then add the IMC and re-evaluate the system’s response to laser frequency fluctuations.\n",
        "\n",
        "\n",
        "### In this notebook you will learn to:\n",
        "\n",
        "\n",
        "- Apply the transfer function formalism to laser frequency noise;\n",
        "\n",
        "- Model an Input Mode Cleaner in Finesse 3 and understand its optical layout;\n",
        "\n",
        "- Compare the strain-equivalent noise spectra due to laser frequency noise, for a real interferometer model with and without an Input Mode Cleaner (IMC).\n"
      ]
    },
    {
      "cell_type": "markdown",
      "id": "4a5fb782",
      "metadata": {
        "id": "4a5fb782"
      },
      "source": [
        "\n",
        "### 1. Background\n",
        "\n",
        "\n",
        "Gravitational-wave interferometers such as LIGO and Virgo are extremely sensitive to laser frequency noise. If unfiltered, this noise can mimic a true gravitational-wave signal by changing the phase of the light that reaches the detectors.\n",
        "\n",
        "When we talk about laser frequency noise, we mean that the laser’s optical frequency is not perfectly constant in time, but oscillates slightly around its nominal (central) value. If the laser normally emits light at frequency $\\nu_0$, then a sinusoidal modulation at a frequency $\\nu_m$ and with a modulation depth $\\Delta \\nu$ can be expressed as:\n",
        "\n",
        "$$ \\nu(t)=\n",
        "\\nu_0 + \\delta \\nu(t)=\n",
        "\\nu_0+  {\\Delta \\nu}  \\cdot \\sin (2 \\pi f_{\\text{m}}t) $$\n",
        "\n",
        "\n",
        "\n",
        "A change $ \\nu(t)= \\nu_0+ \\delta \\nu(t) $\n",
        "corresponds to a change in phase of the input field:\n",
        "$$ E_{\\mathrm{in}}(t) =\n",
        "E_0 e^{i(2\\pi \\nu_0 t + \\delta \\phi(t))}. $$\n",
        "\n",
        "Here\n",
        "$$\n",
        "\\delta \\phi(t)= 2 \\pi \\Delta \\nu \\int \\sin (2 \\pi f_{\\text{m}}t) dt =\n",
        "- \\dfrac{\\Delta \\nu}{ f_{\\text{m}}} \\cos (2 \\pi f_{\\text{m}}t)\n",
        "\n",
        "$$  \n",
        "\n",
        "Because the interferometer output is determined by the interference between the beams returning from its two arms, fluctuations in the laser frequency alter the interference condition, and thus the detected signal.\n",
        "\n",
        "\n"
      ]
    },
    {
      "cell_type": "markdown",
      "id": "3f3843b9",
      "metadata": {
        "id": "3f3843b9"
      },
      "source": [
        "### 2. Transfer functions computation\n",
        "\n",
        "For a given laser frequency noise spectrum $\\text{N}_f(f)$, the equivalent strain noise seen at the detector can be written as:\n",
        "\n",
        "$$ S_h(f) =\n",
        "\\left| \\frac{H_f(f)}{H_s(f)} \\right| N_f(f), $$\n",
        "\n",
        "where:\n",
        "\n",
        "- $\\text{N}_f(f)$ is the amplitude spectral density (ASD) of the laser frequency noise, with units of $\\text{Hz}/{\\sqrt{\\text{Hz}}}$;\n",
        "\n",
        "- $\\text{H}_f(f)$ is the transfer function from laser frequency modulation to detector output, with units W/$\\sqrt{\\text{Hz}}$;\n",
        "\n",
        "- $\\text{H}_s(f)$ is the gravitational-wave signal transfer function, with units W/h.\n",
        "\n",
        "From dimensional analysis we indeed have:\n",
        "\n",
        "$$\\frac{[\\text{Hz}/\\sqrt{\\text{Hz}}] [W/\\text{Hz}]}{[W/h]} = \\frac{h}{\\sqrt{Hz}}$$\n",
        "\n",
        "\n",
        "This means that, to evaluate the effect of laser frequency noise on the detector output, given a noise spectrum $\\text{N}_f$(f), we must compute two independent transfer functions: one describing how the interferometer responds to a laser frequency modulation, and another describing its response to a gravitational-wave strain.\n"
      ]
    },
    {
      "cell_type": "markdown",
      "id": "8c3f790e",
      "metadata": {
        "id": "8c3f790e"
      },
      "source": [
        "\n",
        "### 3. The Input Mode Cleaner\n",
        "\n",
        "You may already be familiar with linear optical cavities, such as the Fabry–Pérot (FP) type, which consist of two mirrors. In such cavities, light bounces back and forth along a straight path, and the design is mainly used to amplify optical power. Here, we deal with a triangular cavity, the IMC, formed by three mirrors (denoted MC1, MC2, and MC3) and three optical paths between them (L12, L13, L23). Some key differences between linear and triangular cavities are:\n",
        "\n",
        "\n",
        "- In a linear cavity, the reflected beam propagates back along the same axis as the incoming beam; in a triangular cavity, the reflected light exits through a different port, so the spatial separation between input and reflected beams makes control easier.\n",
        "\n",
        "- Linear cavities are more power-efficient, since each round trip involves only two reflections (reduced losses).\n",
        "\n",
        "- A triangular geometry allows a long optical path to be folded into a smaller physical space. This is essential since otherwise the setup would be too large, and too expensive.\n",
        "\n",
        "\n",
        "The IMC is placed between the laser and the main interferometer. Its purpose is to act as the first stage of beam cleaning, by:\n",
        "\n",
        "- filtering out higher-order spatial modes,\n",
        "- reducing the laser frequency noise, a feature that we explore in detail in this notebook.\n",
        "\n",
        "More specifically, the IMC acts as a low-pass filter for the laser’s frequency noise: it transmits the slow variations but suppresses the rapid ones, so the output beam has reduced high-frequency noise.\n",
        "\n",
        "\n",
        "\n",
        "How “rapid” a variation is depends on how long the light remains stored in the cavity. The storage time quantifies how long the optical field remains stored in the cavity before decaying to 1/e of its original value; during that time, each newly arriving wavefront overlaps and interferes with the field already stored.\n",
        "\n",
        "- When the laser frequency (and therefore the instantaneous phase) varies slowly (low $f_{\\text{sig}}$), each new wavefront that enters is almost in phase with the ones that are already stored; the many reflections add coherently and intracavity field builds up.\n",
        "\n",
        "- When the laser frequency varies rapidly (high $f_{\\text{sig}}$), however, the phase of each new wavefront is already significantly different from the phase of the waves already circulating. Then we endup with an intracavity field that has many waves with different frequencies, that can interfere destructively.\n",
        "\n",
        "\n",
        "We can compute the average number of round trips a photon makes before escaping, as:\n",
        "\n",
        "\n",
        "$$  N= \\dfrac{ \\text{ time spent inside}}{\\text{time per round trip }}=\n",
        "\n",
        "\\dfrac{ \\tau_c}{ L_{\\text{tot}}/c}=\n",
        "\n",
        "\\dfrac{ \\tau_c \\cdot c }{L_{\\text{tot}}}\n",
        "\n",
        "$$\n",
        "\n",
        "\n",
        "$$ \\tau_c =\n",
        "\\dfrac{ 1}{\\text{FWHM} \\cdot \\pi} $$\n",
        "\n",
        "This storage time corresponds to a frequency called 'frequency pole':\n",
        "\n",
        "$$ f_p = \\dfrac{1}{2 \\pi \\tau_c} $$\n",
        "\n",
        "that marks the transition between the two regimes.\n"
      ]
    },
    {
      "cell_type": "markdown",
      "id": "a6cf6ab6",
      "metadata": {
        "id": "a6cf6ab6"
      },
      "source": [
        "### 4. Modeling the IMC in Finesse\n",
        "\n",
        "A mirror component has only two ports. That means we can only connect one incoming and one outgoing beam, which is perfect for a linear cavity, in which light bounces back and forth between the two mirrors. To model a triangular cavity in Finesse, we use beam splitter components, because they provide multiple ports (p1,p2,p3,p4, oriented clockwise), allowing us to connect the optical paths properly and close the cavity loop."
      ]
    },
    {
      "cell_type": "code",
      "execution_count": 1,
      "id": "198df86e",
      "metadata": {
        "id": "198df86e",
        "outputId": "58384462-915b-4352-94a5-7fc3122be07d",
        "colab": {
          "base_uri": "https://localhost:8080/"
        }
      },
      "outputs": [
        {
          "output_type": "stream",
          "name": "stdout",
          "text": [
            "Collecting finesse\n",
            "  Downloading finesse-3.0a33-cp312-cp312-manylinux_2_17_x86_64.manylinux2014_x86_64.whl.metadata (44 kB)\n",
            "\u001b[?25l     \u001b[90m━━━━━━━━━━━━━━━━━━━━━━━━━━━━━━━━━━━━━━━━\u001b[0m \u001b[32m0.0/44.2 kB\u001b[0m \u001b[31m?\u001b[0m eta \u001b[36m-:--:--\u001b[0m\r\u001b[2K     \u001b[90m━━━━━━━━━━━━━━━━━━━━━━━━━━━━━━━━━━━━━━━━\u001b[0m \u001b[32m44.2/44.2 kB\u001b[0m \u001b[31m1.8 MB/s\u001b[0m eta \u001b[36m0:00:00\u001b[0m\n",
            "\u001b[?25hRequirement already satisfied: numpy>=1.20 in /usr/local/lib/python3.12/dist-packages (from finesse) (2.0.2)\n",
            "Requirement already satisfied: scipy>=1.4 in /usr/local/lib/python3.12/dist-packages (from finesse) (1.16.2)\n",
            "Requirement already satisfied: matplotlib>=3.5 in /usr/local/lib/python3.12/dist-packages (from finesse) (3.10.0)\n",
            "Requirement already satisfied: networkx>=2.4 in /usr/local/lib/python3.12/dist-packages (from finesse) (3.5)\n",
            "Collecting sly>=0.4 (from finesse)\n",
            "  Downloading sly-0.5-py3-none-any.whl.metadata (373 bytes)\n",
            "Requirement already satisfied: click>=7.1 in /usr/local/lib/python3.12/dist-packages (from finesse) (8.3.0)\n",
            "Collecting click-default-group>=1.2.2 (from finesse)\n",
            "  Downloading click_default_group-1.2.4-py2.py3-none-any.whl.metadata (2.8 kB)\n",
            "Collecting control>=0.9 (from finesse)\n",
            "  Downloading control-0.10.2-py3-none-any.whl.metadata (7.6 kB)\n",
            "Requirement already satisfied: sympy>=1.6 in /usr/local/lib/python3.12/dist-packages (from finesse) (1.13.3)\n",
            "Requirement already satisfied: more-itertools>=8.7 in /usr/local/lib/python3.12/dist-packages (from finesse) (10.8.0)\n",
            "Requirement already satisfied: tqdm>=4.40 in /usr/local/lib/python3.12/dist-packages (from finesse) (4.67.1)\n",
            "Requirement already satisfied: h5py>=3.0 in /usr/local/lib/python3.12/dist-packages (from finesse) (3.14.0)\n",
            "Collecting deprecated>=1.2 (from finesse)\n",
            "  Downloading Deprecated-1.2.18-py2.py3-none-any.whl.metadata (5.7 kB)\n",
            "Collecting pyspellchecker>=0.6 (from finesse)\n",
            "  Downloading pyspellchecker-0.8.3-py3-none-any.whl.metadata (9.5 kB)\n",
            "Collecting quantiphy>=2.15 (from finesse)\n",
            "  Downloading quantiphy-2.20-py3-none-any.whl.metadata (7.7 kB)\n",
            "Requirement already satisfied: dill in /usr/local/lib/python3.12/dist-packages (from finesse) (0.3.8)\n",
            "Collecting pathos (from finesse)\n",
            "  Downloading pathos-0.3.4-py3-none-any.whl.metadata (11 kB)\n",
            "Requirement already satisfied: wrapt<2,>=1.10 in /usr/local/lib/python3.12/dist-packages (from deprecated>=1.2->finesse) (1.17.3)\n",
            "Requirement already satisfied: contourpy>=1.0.1 in /usr/local/lib/python3.12/dist-packages (from matplotlib>=3.5->finesse) (1.3.3)\n",
            "Requirement already satisfied: cycler>=0.10 in /usr/local/lib/python3.12/dist-packages (from matplotlib>=3.5->finesse) (0.12.1)\n",
            "Requirement already satisfied: fonttools>=4.22.0 in /usr/local/lib/python3.12/dist-packages (from matplotlib>=3.5->finesse) (4.60.1)\n",
            "Requirement already satisfied: kiwisolver>=1.3.1 in /usr/local/lib/python3.12/dist-packages (from matplotlib>=3.5->finesse) (1.4.9)\n",
            "Requirement already satisfied: packaging>=20.0 in /usr/local/lib/python3.12/dist-packages (from matplotlib>=3.5->finesse) (25.0)\n",
            "Requirement already satisfied: pillow>=8 in /usr/local/lib/python3.12/dist-packages (from matplotlib>=3.5->finesse) (11.3.0)\n",
            "Requirement already satisfied: pyparsing>=2.3.1 in /usr/local/lib/python3.12/dist-packages (from matplotlib>=3.5->finesse) (3.2.5)\n",
            "Requirement already satisfied: python-dateutil>=2.7 in /usr/local/lib/python3.12/dist-packages (from matplotlib>=3.5->finesse) (2.9.0.post0)\n",
            "Requirement already satisfied: mpmath<1.4,>=1.1.0 in /usr/local/lib/python3.12/dist-packages (from sympy>=1.6->finesse) (1.3.0)\n",
            "Collecting ppft>=1.7.7 (from pathos->finesse)\n",
            "  Downloading ppft-1.7.7-py3-none-any.whl.metadata (12 kB)\n",
            "Collecting dill (from finesse)\n",
            "  Downloading dill-0.4.0-py3-none-any.whl.metadata (10 kB)\n",
            "Collecting pox>=0.3.6 (from pathos->finesse)\n",
            "  Downloading pox-0.3.6-py3-none-any.whl.metadata (8.0 kB)\n",
            "Collecting multiprocess>=0.70.18 (from pathos->finesse)\n",
            "  Downloading multiprocess-0.70.18-py312-none-any.whl.metadata (7.5 kB)\n",
            "Requirement already satisfied: six>=1.5 in /usr/local/lib/python3.12/dist-packages (from python-dateutil>=2.7->matplotlib>=3.5->finesse) (1.17.0)\n",
            "Downloading finesse-3.0a33-cp312-cp312-manylinux_2_17_x86_64.manylinux2014_x86_64.whl (43.9 MB)\n",
            "\u001b[2K   \u001b[90m━━━━━━━━━━━━━━━━━━━━━━━━━━━━━━━━━━━━━━━━\u001b[0m \u001b[32m43.9/43.9 MB\u001b[0m \u001b[31m23.0 MB/s\u001b[0m eta \u001b[36m0:00:00\u001b[0m\n",
            "\u001b[?25hDownloading click_default_group-1.2.4-py2.py3-none-any.whl (4.1 kB)\n",
            "Downloading control-0.10.2-py3-none-any.whl (578 kB)\n",
            "\u001b[2K   \u001b[90m━━━━━━━━━━━━━━━━━━━━━━━━━━━━━━━━━━━━━━━━\u001b[0m \u001b[32m578.3/578.3 kB\u001b[0m \u001b[31m23.7 MB/s\u001b[0m eta \u001b[36m0:00:00\u001b[0m\n",
            "\u001b[?25hDownloading Deprecated-1.2.18-py2.py3-none-any.whl (10.0 kB)\n",
            "Downloading pyspellchecker-0.8.3-py3-none-any.whl (7.2 MB)\n",
            "\u001b[2K   \u001b[90m━━━━━━━━━━━━━━━━━━━━━━━━━━━━━━━━━━━━━━━━\u001b[0m \u001b[32m7.2/7.2 MB\u001b[0m \u001b[31m69.5 MB/s\u001b[0m eta \u001b[36m0:00:00\u001b[0m\n",
            "\u001b[?25hDownloading quantiphy-2.20-py3-none-any.whl (41 kB)\n",
            "\u001b[2K   \u001b[90m━━━━━━━━━━━━━━━━━━━━━━━━━━━━━━━━━━━━━━━━\u001b[0m \u001b[32m41.3/41.3 kB\u001b[0m \u001b[31m1.6 MB/s\u001b[0m eta \u001b[36m0:00:00\u001b[0m\n",
            "\u001b[?25hDownloading sly-0.5-py3-none-any.whl (28 kB)\n",
            "Downloading pathos-0.3.4-py3-none-any.whl (82 kB)\n",
            "\u001b[2K   \u001b[90m━━━━━━━━━━━━━━━━━━━━━━━━━━━━━━━━━━━━━━━━\u001b[0m \u001b[32m82.3/82.3 kB\u001b[0m \u001b[31m4.2 MB/s\u001b[0m eta \u001b[36m0:00:00\u001b[0m\n",
            "\u001b[?25hDownloading dill-0.4.0-py3-none-any.whl (119 kB)\n",
            "\u001b[2K   \u001b[90m━━━━━━━━━━━━━━━━━━━━━━━━━━━━━━━━━━━━━━━━\u001b[0m \u001b[32m119.7/119.7 kB\u001b[0m \u001b[31m4.2 MB/s\u001b[0m eta \u001b[36m0:00:00\u001b[0m\n",
            "\u001b[?25hDownloading multiprocess-0.70.18-py312-none-any.whl (150 kB)\n",
            "\u001b[2K   \u001b[90m━━━━━━━━━━━━━━━━━━━━━━━━━━━━━━━━━━━━━━━━\u001b[0m \u001b[32m150.3/150.3 kB\u001b[0m \u001b[31m9.1 MB/s\u001b[0m eta \u001b[36m0:00:00\u001b[0m\n",
            "\u001b[?25hDownloading pox-0.3.6-py3-none-any.whl (29 kB)\n",
            "Downloading ppft-1.7.7-py3-none-any.whl (56 kB)\n",
            "\u001b[2K   \u001b[90m━━━━━━━━━━━━━━━━━━━━━━━━━━━━━━━━━━━━━━━━\u001b[0m \u001b[32m56.8/56.8 kB\u001b[0m \u001b[31m2.7 MB/s\u001b[0m eta \u001b[36m0:00:00\u001b[0m\n",
            "\u001b[?25hInstalling collected packages: sly, quantiphy, pyspellchecker, ppft, pox, dill, deprecated, click-default-group, multiprocess, pathos, control, finesse\n",
            "  Attempting uninstall: dill\n",
            "    Found existing installation: dill 0.3.8\n",
            "    Uninstalling dill-0.3.8:\n",
            "      Successfully uninstalled dill-0.3.8\n",
            "  Attempting uninstall: multiprocess\n",
            "    Found existing installation: multiprocess 0.70.16\n",
            "    Uninstalling multiprocess-0.70.16:\n",
            "      Successfully uninstalled multiprocess-0.70.16\n",
            "\u001b[31mERROR: pip's dependency resolver does not currently take into account all the packages that are installed. This behaviour is the source of the following dependency conflicts.\n",
            "datasets 4.0.0 requires dill<0.3.9,>=0.3.0, but you have dill 0.4.0 which is incompatible.\n",
            "datasets 4.0.0 requires multiprocess<0.70.17, but you have multiprocess 0.70.18 which is incompatible.\u001b[0m\u001b[31m\n",
            "\u001b[0mSuccessfully installed click-default-group-1.2.4 control-0.10.2 deprecated-1.2.18 dill-0.4.0 finesse-3.0a33 multiprocess-0.70.18 pathos-0.3.4 pox-0.3.6 ppft-1.7.7 pyspellchecker-0.8.3 quantiphy-2.20 sly-0.5\n"
          ]
        }
      ],
      "source": [
        "# install pypi wheel only on google colab\n",
        "!env | grep -q 'colab' && pip install finesse || echo 'Not on google colab, assuming finesse already installed'"
      ]
    },
    {
      "cell_type": "code",
      "execution_count": 2,
      "id": "403308f7",
      "metadata": {
        "id": "403308f7"
      },
      "outputs": [],
      "source": [
        "import matplotlib.pyplot as plt\n",
        "import numpy as np\n",
        "\n",
        "import finesse\n",
        "from finesse.analysis.actions import Xaxis\n",
        "finesse.init_plotting()"
      ]
    },
    {
      "cell_type": "markdown",
      "id": "b9596e19",
      "metadata": {
        "id": "b9596e19"
      },
      "source": [
        "# Task 1. Compute the strain sensitivity arising from laser frequency noise\n",
        "\n",
        "We start with a dual recycled Fabry Perot Michelson that doesn't include yet the IMC."
      ]
    },
    {
      "cell_type": "code",
      "execution_count": 3,
      "id": "59737d46",
      "metadata": {
        "id": "59737d46"
      },
      "outputs": [],
      "source": [
        "base = finesse.Model()\n",
        "\n",
        "base.parse(\"\"\"\n",
        "l LI P=125\n",
        "s s1 LI.p1 PRM.p1 L=0\n",
        "\n",
        "# Power recycling mirror\n",
        "m PRM T=0.03 L=37.5u phi=90 #loss is 37.5 x 10^-6\n",
        "s prc PRM.p2 bs1.p1 L=53\n",
        "\n",
        "# Central beamsplitter\n",
        "bs bs1 R=0.5 T=0.5 phi=0 alpha=45\n",
        "\n",
        "# X-arm\n",
        "s sx bs1.p3 ITMX.p1 L=4.5\n",
        "m ITMX T=0.014 L=37.5u phi=89.997\n",
        "s Lx ITMX.p2 ETMX.p1 L=3995\n",
        "m ETMX T=0 L=37.5u phi=89.997\n",
        "\n",
        "# Y-arm\n",
        "s sy bs1.p2 ITMY.p1 L=4.45\n",
        "m ITMY T=0.014 L=37.5u phi=3m\n",
        "s Ly ITMY.p2 ETMY.p1 L=3995\n",
        "m ETMY T=0 L=37.5u phi=3m\n",
        "\n",
        "# Signal recycling mirror\n",
        "s src bs1.p4 SRM.p1 L=50.525\n",
        "m SRM T=0.2 L=37.5u phi=-90\n",
        "\n",
        "# These commands give the mirrors a mass\n",
        "# by default they are infinitely heavy\n",
        "free_mass ITMX_sus ITMX.mech mass=40\n",
        "free_mass ETMX_sus ETMX.mech mass=40\n",
        "free_mass ITMY_sus ITMY.mech mass=40\n",
        "free_mass ETMY_sus ETMY.mech mass=40\n",
        "\n",
        "\"\"\")"
      ]
    },
    {
      "cell_type": "markdown",
      "id": "52fa86f9",
      "metadata": {
        "id": "52fa86f9"
      },
      "source": [
        "Goals: compute the two transfer functions needed to express the effect of laser frequency noise in strain-equivalent units: (i) GW signal transfer function, $\\text{H}_s(f)$, and (ii)  the laser frequency noise transfer function, $\\text{H}_{\\text{f, no IMC}}(f)$.\n",
        "\n",
        "\n",
        "\n",
        "Questions:\n",
        "\n",
        "1) Where in the interferometer do we inject the laser frequency modulation?\n",
        "2) What are the units of measure of $\\text{H}_{\\text{s, no IMC}}(f)$ and $\\text{H}_{\\text{f, no IMC}}(f)$?\n",
        "3) What does it physically mean to “modulate the laser frequency”?"
      ]
    },
    {
      "cell_type": "code",
      "execution_count": 4,
      "id": "c3c79b89",
      "metadata": {
        "id": "c3c79b89"
      },
      "outputs": [],
      "source": [
        "# Frequency range for transfer function computation\n",
        "fstart = 5\n",
        "fstop = 1e5\n",
        "Npoints = 400\n",
        "\n",
        "\n",
        "# ------------------------------------------------------------\n",
        "# 1. Compute the GW signal transfer function Hs(f)\n",
        "# A GW makes the distance between the mirrors to oscillate. While one arm is stretched, the other is squeezed\n",
        "# We pretend a gravitational wave is passing through here, and modulate the space length\n",
        "# Ly.h -> apply a modulation to the Y arm space; Lx.h -> apply a modulation to the X arm space\n",
        "# phases are 0° in Y and 180° in X, to create the differential effect:one arm will become short, the other long.\n",
        "# If I have zero phase, length(t)= length+ A* cos(2pi*f*t)\n",
        "# If I have 180° phase, length(t)= length-A*cos(2pi*f*t), so 180° is a minus sign.\n",
        "# ------------------------------------------------------------\n",
        "\n",
        "# Make another deepcopy of the base model\n",
        "base1 = base.deepcopy()\n",
        "\n",
        "\n",
        "#  - Start a signal simulation\n",
        "#  - Inject a GW-like modulation (modulate both arms with 180° phase shift)\n",
        "#  - Measure the output signal at SRM.p2.o\n",
        "base1.parse(\"\"\"\n",
        "fsig(1)\n",
        "sgen sig1 Ly.h 1 0\n",
        "sgen sig2 Lx.h 1 180\n",
        "pd1 TF SRM.p2.o f=fsig.f\n",
        "\"\"\")\n",
        "\n",
        "#  Run the simulation and extract results\n",
        "out1 = base1.run(Xaxis('fsig.f', 'log', fstart, fstop, Npoints))\n",
        "# We store the frequency and magnitude of the transfer function [W/h]\n",
        "# (In general we need to store the magnitude and phase of the transfer\n",
        "# functions but we only need the magnitude for these examples.)\n",
        "f_1, Hs_noIMC = out1.x1, np.abs(out1['TF'])\n",
        "\n",
        "\n",
        "\n",
        "# ------------------------------------------------------------\n",
        "# 2. Compute the laser frequency noise transfer function Hf(f)\n",
        "# ------------------------------------------------------------\n",
        "\n",
        "# Make a deepcopy of the base interferometer model\n",
        "base2 = base.deepcopy()\n",
        "\n",
        "#  - Start a signal simulation\n",
        "#  - Inject a laser frequency modulation with initial amplitude = 1 (normalized), initial phase = 0°\n",
        "#  - Measure the output signal at the output port SRM.p2.o\n",
        "base2.parse(\"\"\"\n",
        "fsig(1)\n",
        "sgen sig1 LI.frq 1 0\n",
        "pd1 TF SRM.p2.o f=fsig.f\n",
        "\"\"\")\n",
        "\n",
        "# Run the simulation and store the transfer function data\n",
        "out2 = base2.run(Xaxis('fsig.f', 'log', fstart, fstop, Npoints)\n",
        ")\n",
        "\n",
        "# Extract the frequency axis and the magnitude of Hf(f)\n",
        "f_2, Hf_noIMC = out2.x1, np.abs(out2['TF'])"
      ]
    },
    {
      "cell_type": "markdown",
      "id": "3f5cf971",
      "metadata": {
        "id": "3f5cf971"
      },
      "source": [
        "In this simplified example, we use an artificial model of the laser frequency noise (ultra-stable but free-running laser):"
      ]
    },
    {
      "cell_type": "code",
      "execution_count": 5,
      "id": "e271f029",
      "metadata": {
        "id": "e271f029"
      },
      "outputs": [],
      "source": [
        "def frequency_noise_ASD(f):\n",
        "    f = np.array(f)\n",
        "    return 1e4/abs(np.random.normal(f, 0, size=f.size))\n",
        "\n",
        "N_f = frequency_noise_ASD(f_1)"
      ]
    },
    {
      "cell_type": "markdown",
      "id": "602a5ede",
      "metadata": {
        "id": "602a5ede"
      },
      "source": [
        "Goal: Below we aim to plot the strain-equivalent noise spectrum, $S_{\\text{h, no IMC}}(f)$, due to laser frequency noise.\n",
        "\n",
        "Complete the code below by inserting the correct quantities and ensuring the units are consistent."
      ]
    },
    {
      "cell_type": "code",
      "execution_count": 9,
      "id": "a44f8644",
      "metadata": {
        "id": "a44f8644",
        "outputId": "392dfecf-c2cd-4e32-c8c6-f0871b3e4b04",
        "colab": {
          "base_uri": "https://localhost:8080/",
          "height": 351
        }
      },
      "outputs": [
        {
          "output_type": "display_data",
          "data": {
            "text/plain": [
              "<Figure size 576x355.968 with 1 Axes>"
            ],
            "image/svg+xml": "<?xml version=\"1.0\" encoding=\"utf-8\" standalone=\"no\"?>\n<!DOCTYPE svg PUBLIC \"-//W3C//DTD SVG 1.1//EN\"\n  \"http://www.w3.org/Graphics/SVG/1.1/DTD/svg11.dtd\">\n<svg xmlns:xlink=\"http://www.w3.org/1999/xlink\" width=\"419.63186pt\" height=\"246.715375pt\" viewBox=\"0 0 419.63186 246.715375\" xmlns=\"http://www.w3.org/2000/svg\" version=\"1.1\">\n <metadata>\n  <rdf:RDF xmlns:dc=\"http://purl.org/dc/elements/1.1/\" xmlns:cc=\"http://creativecommons.org/ns#\" xmlns:rdf=\"http://www.w3.org/1999/02/22-rdf-syntax-ns#\">\n   <cc:Work>\n    <dc:type rdf:resource=\"http://purl.org/dc/dcmitype/StillImage\"/>\n    <dc:date>2025-10-15T09:30:28.623231</dc:date>\n    <dc:format>image/svg+xml</dc:format>\n    <dc:creator>\n     <cc:Agent>\n      <dc:title>Matplotlib v3.10.0, https://matplotlib.org/</dc:title>\n     </cc:Agent>\n    </dc:creator>\n   </cc:Work>\n  </rdf:RDF>\n </metadata>\n <defs>\n  <style type=\"text/css\">*{stroke-linejoin: round; stroke-linecap: butt}</style>\n </defs>\n <g id=\"figure_1\">\n  <g id=\"patch_1\">\n   <path d=\"M 0 246.715375 \nL 419.63186 246.715375 \nL 419.63186 0 \nL 0 0 \nz\n\" style=\"fill: #ffffff\"/>\n  </g>\n  <g id=\"axes_1\">\n   <g id=\"patch_2\">\n    <path d=\"M 50.355937 212.759125 \nL 402.676533 212.759125 \nL 402.676533 18.718125 \nL 50.355937 18.718125 \nz\n\" style=\"fill: #ffffff\"/>\n   </g>\n   <g id=\"matplotlib.axis_1\">\n    <g id=\"xtick_1\">\n     <g id=\"line2d_1\">\n      <path d=\"M 75.01493 212.759125 \nL 75.01493 18.718125 \n\" clip-path=\"url(#p4393191930)\" style=\"fill: none; stroke: #000000; stroke-opacity: 0.3; stroke-width: 0.25; stroke-linecap: square\"/>\n     </g>\n     <g id=\"line2d_2\">\n      <defs>\n       <path id=\"m5861c7f78a\" d=\"M 0 0 \nL 0 3.5 \n\" style=\"stroke: #000000; stroke-width: 0.8\"/>\n      </defs>\n      <g>\n       <use xlink:href=\"#m5861c7f78a\" x=\"75.01493\" y=\"212.759125\" style=\"stroke: #000000; stroke-width: 0.8\"/>\n      </g>\n     </g>\n     <g id=\"text_1\">\n      <!-- $\\mathdefault{10^{1}}$ -->\n      <g transform=\"translate(67.09493 226.597719) scale(0.09 -0.09)\">\n       <defs>\n        <path id=\"DejaVuSerif-31\" d=\"M 909 0 \nL 909 331 \nL 1722 331 \nL 1722 4213 \nL 781 3603 \nL 781 4013 \nL 1919 4750 \nL 2350 4750 \nL 2350 331 \nL 3163 331 \nL 3163 0 \nL 909 0 \nz\n\" transform=\"scale(0.015625)\"/>\n        <path id=\"DejaVuSerif-30\" d=\"M 2034 219 \nQ 2513 219 2750 744 \nQ 2988 1269 2988 2328 \nQ 2988 3391 2750 3916 \nQ 2513 4441 2034 4441 \nQ 1556 4441 1318 3916 \nQ 1081 3391 1081 2328 \nQ 1081 1269 1318 744 \nQ 1556 219 2034 219 \nz\nM 2034 -91 \nQ 1275 -91 848 546 \nQ 422 1184 422 2328 \nQ 422 3475 848 4112 \nQ 1275 4750 2034 4750 \nQ 2797 4750 3222 4112 \nQ 3647 3475 3647 2328 \nQ 3647 1184 3222 546 \nQ 2797 -91 2034 -91 \nz\n\" transform=\"scale(0.015625)\"/>\n       </defs>\n       <use xlink:href=\"#DejaVuSerif-31\" transform=\"translate(0 0.7125)\"/>\n       <use xlink:href=\"#DejaVuSerif-30\" transform=\"translate(63.623047 0.7125)\"/>\n       <use xlink:href=\"#DejaVuSerif-31\" transform=\"translate(128.154453 37.046875) scale(0.7)\"/>\n      </g>\n     </g>\n    </g>\n    <g id=\"xtick_2\">\n     <g id=\"line2d_3\">\n      <path d=\"M 156.930331 212.759125 \nL 156.930331 18.718125 \n\" clip-path=\"url(#p4393191930)\" style=\"fill: none; stroke: #000000; stroke-opacity: 0.3; stroke-width: 0.25; stroke-linecap: square\"/>\n     </g>\n     <g id=\"line2d_4\">\n      <g>\n       <use xlink:href=\"#m5861c7f78a\" x=\"156.930331\" y=\"212.759125\" style=\"stroke: #000000; stroke-width: 0.8\"/>\n      </g>\n     </g>\n     <g id=\"text_2\">\n      <!-- $\\mathdefault{10^{2}}$ -->\n      <g transform=\"translate(149.010331 226.597719) scale(0.09 -0.09)\">\n       <defs>\n        <path id=\"DejaVuSerif-32\" d=\"M 819 3553 \nL 469 3553 \nL 469 4384 \nQ 803 4563 1142 4656 \nQ 1481 4750 1806 4750 \nQ 2534 4750 2956 4397 \nQ 3378 4044 3378 3438 \nQ 3378 2753 2422 1800 \nQ 2347 1728 2309 1691 \nL 1131 513 \nL 3078 513 \nL 3078 1088 \nL 3444 1088 \nL 3444 0 \nL 434 0 \nL 434 341 \nL 1850 1753 \nQ 2319 2222 2519 2614 \nQ 2719 3006 2719 3438 \nQ 2719 3909 2473 4175 \nQ 2228 4441 1797 4441 \nQ 1350 4441 1106 4219 \nQ 863 3997 819 3553 \nz\n\" transform=\"scale(0.015625)\"/>\n       </defs>\n       <use xlink:href=\"#DejaVuSerif-31\" transform=\"translate(0 0.7125)\"/>\n       <use xlink:href=\"#DejaVuSerif-30\" transform=\"translate(63.623047 0.7125)\"/>\n       <use xlink:href=\"#DejaVuSerif-32\" transform=\"translate(128.154453 37.046875) scale(0.7)\"/>\n      </g>\n     </g>\n    </g>\n    <g id=\"xtick_3\">\n     <g id=\"line2d_5\">\n      <path d=\"M 238.845732 212.759125 \nL 238.845732 18.718125 \n\" clip-path=\"url(#p4393191930)\" style=\"fill: none; stroke: #000000; stroke-opacity: 0.3; stroke-width: 0.25; stroke-linecap: square\"/>\n     </g>\n     <g id=\"line2d_6\">\n      <g>\n       <use xlink:href=\"#m5861c7f78a\" x=\"238.845732\" y=\"212.759125\" style=\"stroke: #000000; stroke-width: 0.8\"/>\n      </g>\n     </g>\n     <g id=\"text_3\">\n      <!-- $\\mathdefault{10^{3}}$ -->\n      <g transform=\"translate(230.925732 226.597719) scale(0.09 -0.09)\">\n       <defs>\n        <path id=\"DejaVuSerif-33\" d=\"M 622 4469 \nQ 988 4606 1323 4678 \nQ 1659 4750 1953 4750 \nQ 2638 4750 3022 4454 \nQ 3406 4159 3406 3634 \nQ 3406 3213 3140 2930 \nQ 2875 2647 2388 2547 \nQ 2963 2466 3280 2130 \nQ 3597 1794 3597 1259 \nQ 3597 606 3158 257 \nQ 2719 -91 1894 -91 \nQ 1528 -91 1179 -12 \nQ 831 66 488 225 \nL 488 1131 \nL 838 1131 \nQ 869 681 1141 450 \nQ 1413 219 1906 219 \nQ 2384 219 2661 495 \nQ 2938 772 2938 1253 \nQ 2938 1803 2653 2086 \nQ 2369 2369 1819 2369 \nL 1522 2369 \nL 1522 2688 \nL 1678 2688 \nQ 2225 2688 2498 2914 \nQ 2772 3141 2772 3597 \nQ 2772 4006 2547 4223 \nQ 2322 4441 1900 4441 \nQ 1478 4441 1245 4241 \nQ 1013 4041 972 3647 \nL 622 3647 \nL 622 4469 \nz\n\" transform=\"scale(0.015625)\"/>\n       </defs>\n       <use xlink:href=\"#DejaVuSerif-31\" transform=\"translate(0 0.7125)\"/>\n       <use xlink:href=\"#DejaVuSerif-30\" transform=\"translate(63.623047 0.7125)\"/>\n       <use xlink:href=\"#DejaVuSerif-33\" transform=\"translate(128.154453 37.046875) scale(0.7)\"/>\n      </g>\n     </g>\n    </g>\n    <g id=\"xtick_4\">\n     <g id=\"line2d_7\">\n      <path d=\"M 320.761132 212.759125 \nL 320.761132 18.718125 \n\" clip-path=\"url(#p4393191930)\" style=\"fill: none; stroke: #000000; stroke-opacity: 0.3; stroke-width: 0.25; stroke-linecap: square\"/>\n     </g>\n     <g id=\"line2d_8\">\n      <g>\n       <use xlink:href=\"#m5861c7f78a\" x=\"320.761132\" y=\"212.759125\" style=\"stroke: #000000; stroke-width: 0.8\"/>\n      </g>\n     </g>\n     <g id=\"text_4\">\n      <!-- $\\mathdefault{10^{4}}$ -->\n      <g transform=\"translate(312.841132 226.597719) scale(0.09 -0.09)\">\n       <defs>\n        <path id=\"DejaVuSerif-34\" d=\"M 2234 1581 \nL 2234 4063 \nL 641 1581 \nL 2234 1581 \nz\nM 3609 0 \nL 1484 0 \nL 1484 331 \nL 2234 331 \nL 2234 1247 \nL 197 1247 \nL 197 1588 \nL 2241 4750 \nL 2859 4750 \nL 2859 1581 \nL 3750 1581 \nL 3750 1247 \nL 2859 1247 \nL 2859 331 \nL 3609 331 \nL 3609 0 \nz\n\" transform=\"scale(0.015625)\"/>\n       </defs>\n       <use xlink:href=\"#DejaVuSerif-31\" transform=\"translate(0 0.7125)\"/>\n       <use xlink:href=\"#DejaVuSerif-30\" transform=\"translate(63.623047 0.7125)\"/>\n       <use xlink:href=\"#DejaVuSerif-34\" transform=\"translate(128.154453 37.046875) scale(0.7)\"/>\n      </g>\n     </g>\n    </g>\n    <g id=\"xtick_5\">\n     <g id=\"line2d_9\">\n      <path d=\"M 402.676533 212.759125 \nL 402.676533 18.718125 \n\" clip-path=\"url(#p4393191930)\" style=\"fill: none; stroke: #000000; stroke-opacity: 0.3; stroke-width: 0.25; stroke-linecap: square\"/>\n     </g>\n     <g id=\"line2d_10\">\n      <g>\n       <use xlink:href=\"#m5861c7f78a\" x=\"402.676533\" y=\"212.759125\" style=\"stroke: #000000; stroke-width: 0.8\"/>\n      </g>\n     </g>\n     <g id=\"text_5\">\n      <!-- $\\mathdefault{10^{5}}$ -->\n      <g transform=\"translate(394.756533 226.597719) scale(0.09 -0.09)\">\n       <defs>\n        <path id=\"DejaVuSerif-35\" d=\"M 3219 4666 \nL 3219 4153 \nL 1081 4153 \nL 1081 2816 \nQ 1244 2928 1461 2984 \nQ 1678 3041 1947 3041 \nQ 2703 3041 3140 2622 \nQ 3578 2203 3578 1478 \nQ 3578 738 3136 323 \nQ 2694 -91 1894 -91 \nQ 1572 -91 1234 -12 \nQ 897 66 544 225 \nL 544 1131 \nL 897 1131 \nQ 925 688 1179 453 \nQ 1434 219 1894 219 \nQ 2388 219 2653 544 \nQ 2919 869 2919 1478 \nQ 2919 2084 2655 2407 \nQ 2391 2731 1894 2731 \nQ 1613 2731 1398 2631 \nQ 1184 2531 1019 2322 \nL 750 2322 \nL 750 4666 \nL 3219 4666 \nz\n\" transform=\"scale(0.015625)\"/>\n       </defs>\n       <use xlink:href=\"#DejaVuSerif-31\" transform=\"translate(0 0.63125)\"/>\n       <use xlink:href=\"#DejaVuSerif-30\" transform=\"translate(63.623047 0.63125)\"/>\n       <use xlink:href=\"#DejaVuSerif-35\" transform=\"translate(128.154453 36.965625) scale(0.7)\"/>\n      </g>\n     </g>\n    </g>\n    <g id=\"xtick_6\">\n     <g id=\"line2d_11\">\n      <path d=\"M 50.355937 212.759125 \nL 50.355937 18.718125 \n\" clip-path=\"url(#p4393191930)\" style=\"fill: none; stroke: #000000; stroke-opacity: 0.3; stroke-width: 0.25; stroke-linecap: square\"/>\n     </g>\n     <g id=\"line2d_12\">\n      <defs>\n       <path id=\"mf1046c5eed\" d=\"M 0 0 \nL 0 2 \n\" style=\"stroke: #000000; stroke-width: 0.6\"/>\n      </defs>\n      <g>\n       <use xlink:href=\"#mf1046c5eed\" x=\"50.355937\" y=\"212.759125\" style=\"stroke: #000000; stroke-width: 0.6\"/>\n      </g>\n     </g>\n    </g>\n    <g id=\"xtick_7\">\n     <g id=\"line2d_13\">\n      <path d=\"M 56.842101 212.759125 \nL 56.842101 18.718125 \n\" clip-path=\"url(#p4393191930)\" style=\"fill: none; stroke: #000000; stroke-opacity: 0.3; stroke-width: 0.25; stroke-linecap: square\"/>\n     </g>\n     <g id=\"line2d_14\">\n      <g>\n       <use xlink:href=\"#mf1046c5eed\" x=\"56.842101\" y=\"212.759125\" style=\"stroke: #000000; stroke-width: 0.6\"/>\n      </g>\n     </g>\n    </g>\n    <g id=\"xtick_8\">\n     <g id=\"line2d_15\">\n      <path d=\"M 62.326074 212.759125 \nL 62.326074 18.718125 \n\" clip-path=\"url(#p4393191930)\" style=\"fill: none; stroke: #000000; stroke-opacity: 0.3; stroke-width: 0.25; stroke-linecap: square\"/>\n     </g>\n     <g id=\"line2d_16\">\n      <g>\n       <use xlink:href=\"#mf1046c5eed\" x=\"62.326074\" y=\"212.759125\" style=\"stroke: #000000; stroke-width: 0.6\"/>\n      </g>\n     </g>\n    </g>\n    <g id=\"xtick_9\">\n     <g id=\"line2d_17\">\n      <path d=\"M 67.076508 212.759125 \nL 67.076508 18.718125 \n\" clip-path=\"url(#p4393191930)\" style=\"fill: none; stroke: #000000; stroke-opacity: 0.3; stroke-width: 0.25; stroke-linecap: square\"/>\n     </g>\n     <g id=\"line2d_18\">\n      <g>\n       <use xlink:href=\"#mf1046c5eed\" x=\"67.076508\" y=\"212.759125\" style=\"stroke: #000000; stroke-width: 0.6\"/>\n      </g>\n     </g>\n    </g>\n    <g id=\"xtick_10\">\n     <g id=\"line2d_19\">\n      <path d=\"M 71.266687 212.759125 \nL 71.266687 18.718125 \n\" clip-path=\"url(#p4393191930)\" style=\"fill: none; stroke: #000000; stroke-opacity: 0.3; stroke-width: 0.25; stroke-linecap: square\"/>\n     </g>\n     <g id=\"line2d_20\">\n      <g>\n       <use xlink:href=\"#mf1046c5eed\" x=\"71.266687\" y=\"212.759125\" style=\"stroke: #000000; stroke-width: 0.6\"/>\n      </g>\n     </g>\n    </g>\n    <g id=\"xtick_11\">\n     <g id=\"line2d_21\">\n      <path d=\"M 99.673923 212.759125 \nL 99.673923 18.718125 \n\" clip-path=\"url(#p4393191930)\" style=\"fill: none; stroke: #000000; stroke-opacity: 0.3; stroke-width: 0.25; stroke-linecap: square\"/>\n     </g>\n     <g id=\"line2d_22\">\n      <g>\n       <use xlink:href=\"#mf1046c5eed\" x=\"99.673923\" y=\"212.759125\" style=\"stroke: #000000; stroke-width: 0.6\"/>\n      </g>\n     </g>\n    </g>\n    <g id=\"xtick_12\">\n     <g id=\"line2d_23\">\n      <path d=\"M 114.098509 212.759125 \nL 114.098509 18.718125 \n\" clip-path=\"url(#p4393191930)\" style=\"fill: none; stroke: #000000; stroke-opacity: 0.3; stroke-width: 0.25; stroke-linecap: square\"/>\n     </g>\n     <g id=\"line2d_24\">\n      <g>\n       <use xlink:href=\"#mf1046c5eed\" x=\"114.098509\" y=\"212.759125\" style=\"stroke: #000000; stroke-width: 0.6\"/>\n      </g>\n     </g>\n    </g>\n    <g id=\"xtick_13\">\n     <g id=\"line2d_25\">\n      <path d=\"M 124.332916 212.759125 \nL 124.332916 18.718125 \n\" clip-path=\"url(#p4393191930)\" style=\"fill: none; stroke: #000000; stroke-opacity: 0.3; stroke-width: 0.25; stroke-linecap: square\"/>\n     </g>\n     <g id=\"line2d_26\">\n      <g>\n       <use xlink:href=\"#mf1046c5eed\" x=\"124.332916\" y=\"212.759125\" style=\"stroke: #000000; stroke-width: 0.6\"/>\n      </g>\n     </g>\n    </g>\n    <g id=\"xtick_14\">\n     <g id=\"line2d_27\">\n      <path d=\"M 132.271338 212.759125 \nL 132.271338 18.718125 \n\" clip-path=\"url(#p4393191930)\" style=\"fill: none; stroke: #000000; stroke-opacity: 0.3; stroke-width: 0.25; stroke-linecap: square\"/>\n     </g>\n     <g id=\"line2d_28\">\n      <g>\n       <use xlink:href=\"#mf1046c5eed\" x=\"132.271338\" y=\"212.759125\" style=\"stroke: #000000; stroke-width: 0.6\"/>\n      </g>\n     </g>\n    </g>\n    <g id=\"xtick_15\">\n     <g id=\"line2d_29\">\n      <path d=\"M 138.757502 212.759125 \nL 138.757502 18.718125 \n\" clip-path=\"url(#p4393191930)\" style=\"fill: none; stroke: #000000; stroke-opacity: 0.3; stroke-width: 0.25; stroke-linecap: square\"/>\n     </g>\n     <g id=\"line2d_30\">\n      <g>\n       <use xlink:href=\"#mf1046c5eed\" x=\"138.757502\" y=\"212.759125\" style=\"stroke: #000000; stroke-width: 0.6\"/>\n      </g>\n     </g>\n    </g>\n    <g id=\"xtick_16\">\n     <g id=\"line2d_31\">\n      <path d=\"M 144.241475 212.759125 \nL 144.241475 18.718125 \n\" clip-path=\"url(#p4393191930)\" style=\"fill: none; stroke: #000000; stroke-opacity: 0.3; stroke-width: 0.25; stroke-linecap: square\"/>\n     </g>\n     <g id=\"line2d_32\">\n      <g>\n       <use xlink:href=\"#mf1046c5eed\" x=\"144.241475\" y=\"212.759125\" style=\"stroke: #000000; stroke-width: 0.6\"/>\n      </g>\n     </g>\n    </g>\n    <g id=\"xtick_17\">\n     <g id=\"line2d_33\">\n      <path d=\"M 148.991908 212.759125 \nL 148.991908 18.718125 \n\" clip-path=\"url(#p4393191930)\" style=\"fill: none; stroke: #000000; stroke-opacity: 0.3; stroke-width: 0.25; stroke-linecap: square\"/>\n     </g>\n     <g id=\"line2d_34\">\n      <g>\n       <use xlink:href=\"#mf1046c5eed\" x=\"148.991908\" y=\"212.759125\" style=\"stroke: #000000; stroke-width: 0.6\"/>\n      </g>\n     </g>\n    </g>\n    <g id=\"xtick_18\">\n     <g id=\"line2d_35\">\n      <path d=\"M 153.182088 212.759125 \nL 153.182088 18.718125 \n\" clip-path=\"url(#p4393191930)\" style=\"fill: none; stroke: #000000; stroke-opacity: 0.3; stroke-width: 0.25; stroke-linecap: square\"/>\n     </g>\n     <g id=\"line2d_36\">\n      <g>\n       <use xlink:href=\"#mf1046c5eed\" x=\"153.182088\" y=\"212.759125\" style=\"stroke: #000000; stroke-width: 0.6\"/>\n      </g>\n     </g>\n    </g>\n    <g id=\"xtick_19\">\n     <g id=\"line2d_37\">\n      <path d=\"M 181.589324 212.759125 \nL 181.589324 18.718125 \n\" clip-path=\"url(#p4393191930)\" style=\"fill: none; stroke: #000000; stroke-opacity: 0.3; stroke-width: 0.25; stroke-linecap: square\"/>\n     </g>\n     <g id=\"line2d_38\">\n      <g>\n       <use xlink:href=\"#mf1046c5eed\" x=\"181.589324\" y=\"212.759125\" style=\"stroke: #000000; stroke-width: 0.6\"/>\n      </g>\n     </g>\n    </g>\n    <g id=\"xtick_20\">\n     <g id=\"line2d_39\">\n      <path d=\"M 196.01391 212.759125 \nL 196.01391 18.718125 \n\" clip-path=\"url(#p4393191930)\" style=\"fill: none; stroke: #000000; stroke-opacity: 0.3; stroke-width: 0.25; stroke-linecap: square\"/>\n     </g>\n     <g id=\"line2d_40\">\n      <g>\n       <use xlink:href=\"#mf1046c5eed\" x=\"196.01391\" y=\"212.759125\" style=\"stroke: #000000; stroke-width: 0.6\"/>\n      </g>\n     </g>\n    </g>\n    <g id=\"xtick_21\">\n     <g id=\"line2d_41\">\n      <path d=\"M 206.248316 212.759125 \nL 206.248316 18.718125 \n\" clip-path=\"url(#p4393191930)\" style=\"fill: none; stroke: #000000; stroke-opacity: 0.3; stroke-width: 0.25; stroke-linecap: square\"/>\n     </g>\n     <g id=\"line2d_42\">\n      <g>\n       <use xlink:href=\"#mf1046c5eed\" x=\"206.248316\" y=\"212.759125\" style=\"stroke: #000000; stroke-width: 0.6\"/>\n      </g>\n     </g>\n    </g>\n    <g id=\"xtick_22\">\n     <g id=\"line2d_43\">\n      <path d=\"M 214.186739 212.759125 \nL 214.186739 18.718125 \n\" clip-path=\"url(#p4393191930)\" style=\"fill: none; stroke: #000000; stroke-opacity: 0.3; stroke-width: 0.25; stroke-linecap: square\"/>\n     </g>\n     <g id=\"line2d_44\">\n      <g>\n       <use xlink:href=\"#mf1046c5eed\" x=\"214.186739\" y=\"212.759125\" style=\"stroke: #000000; stroke-width: 0.6\"/>\n      </g>\n     </g>\n    </g>\n    <g id=\"xtick_23\">\n     <g id=\"line2d_45\">\n      <path d=\"M 220.672902 212.759125 \nL 220.672902 18.718125 \n\" clip-path=\"url(#p4393191930)\" style=\"fill: none; stroke: #000000; stroke-opacity: 0.3; stroke-width: 0.25; stroke-linecap: square\"/>\n     </g>\n     <g id=\"line2d_46\">\n      <g>\n       <use xlink:href=\"#mf1046c5eed\" x=\"220.672902\" y=\"212.759125\" style=\"stroke: #000000; stroke-width: 0.6\"/>\n      </g>\n     </g>\n    </g>\n    <g id=\"xtick_24\">\n     <g id=\"line2d_47\">\n      <path d=\"M 226.156876 212.759125 \nL 226.156876 18.718125 \n\" clip-path=\"url(#p4393191930)\" style=\"fill: none; stroke: #000000; stroke-opacity: 0.3; stroke-width: 0.25; stroke-linecap: square\"/>\n     </g>\n     <g id=\"line2d_48\">\n      <g>\n       <use xlink:href=\"#mf1046c5eed\" x=\"226.156876\" y=\"212.759125\" style=\"stroke: #000000; stroke-width: 0.6\"/>\n      </g>\n     </g>\n    </g>\n    <g id=\"xtick_25\">\n     <g id=\"line2d_49\">\n      <path d=\"M 230.907309 212.759125 \nL 230.907309 18.718125 \n\" clip-path=\"url(#p4393191930)\" style=\"fill: none; stroke: #000000; stroke-opacity: 0.3; stroke-width: 0.25; stroke-linecap: square\"/>\n     </g>\n     <g id=\"line2d_50\">\n      <g>\n       <use xlink:href=\"#mf1046c5eed\" x=\"230.907309\" y=\"212.759125\" style=\"stroke: #000000; stroke-width: 0.6\"/>\n      </g>\n     </g>\n    </g>\n    <g id=\"xtick_26\">\n     <g id=\"line2d_51\">\n      <path d=\"M 235.097489 212.759125 \nL 235.097489 18.718125 \n\" clip-path=\"url(#p4393191930)\" style=\"fill: none; stroke: #000000; stroke-opacity: 0.3; stroke-width: 0.25; stroke-linecap: square\"/>\n     </g>\n     <g id=\"line2d_52\">\n      <g>\n       <use xlink:href=\"#mf1046c5eed\" x=\"235.097489\" y=\"212.759125\" style=\"stroke: #000000; stroke-width: 0.6\"/>\n      </g>\n     </g>\n    </g>\n    <g id=\"xtick_27\">\n     <g id=\"line2d_53\">\n      <path d=\"M 263.504724 212.759125 \nL 263.504724 18.718125 \n\" clip-path=\"url(#p4393191930)\" style=\"fill: none; stroke: #000000; stroke-opacity: 0.3; stroke-width: 0.25; stroke-linecap: square\"/>\n     </g>\n     <g id=\"line2d_54\">\n      <g>\n       <use xlink:href=\"#mf1046c5eed\" x=\"263.504724\" y=\"212.759125\" style=\"stroke: #000000; stroke-width: 0.6\"/>\n      </g>\n     </g>\n    </g>\n    <g id=\"xtick_28\">\n     <g id=\"line2d_55\">\n      <path d=\"M 277.929311 212.759125 \nL 277.929311 18.718125 \n\" clip-path=\"url(#p4393191930)\" style=\"fill: none; stroke: #000000; stroke-opacity: 0.3; stroke-width: 0.25; stroke-linecap: square\"/>\n     </g>\n     <g id=\"line2d_56\">\n      <g>\n       <use xlink:href=\"#mf1046c5eed\" x=\"277.929311\" y=\"212.759125\" style=\"stroke: #000000; stroke-width: 0.6\"/>\n      </g>\n     </g>\n    </g>\n    <g id=\"xtick_29\">\n     <g id=\"line2d_57\">\n      <path d=\"M 288.163717 212.759125 \nL 288.163717 18.718125 \n\" clip-path=\"url(#p4393191930)\" style=\"fill: none; stroke: #000000; stroke-opacity: 0.3; stroke-width: 0.25; stroke-linecap: square\"/>\n     </g>\n     <g id=\"line2d_58\">\n      <g>\n       <use xlink:href=\"#mf1046c5eed\" x=\"288.163717\" y=\"212.759125\" style=\"stroke: #000000; stroke-width: 0.6\"/>\n      </g>\n     </g>\n    </g>\n    <g id=\"xtick_30\">\n     <g id=\"line2d_59\">\n      <path d=\"M 296.10214 212.759125 \nL 296.10214 18.718125 \n\" clip-path=\"url(#p4393191930)\" style=\"fill: none; stroke: #000000; stroke-opacity: 0.3; stroke-width: 0.25; stroke-linecap: square\"/>\n     </g>\n     <g id=\"line2d_60\">\n      <g>\n       <use xlink:href=\"#mf1046c5eed\" x=\"296.10214\" y=\"212.759125\" style=\"stroke: #000000; stroke-width: 0.6\"/>\n      </g>\n     </g>\n    </g>\n    <g id=\"xtick_31\">\n     <g id=\"line2d_61\">\n      <path d=\"M 302.588303 212.759125 \nL 302.588303 18.718125 \n\" clip-path=\"url(#p4393191930)\" style=\"fill: none; stroke: #000000; stroke-opacity: 0.3; stroke-width: 0.25; stroke-linecap: square\"/>\n     </g>\n     <g id=\"line2d_62\">\n      <g>\n       <use xlink:href=\"#mf1046c5eed\" x=\"302.588303\" y=\"212.759125\" style=\"stroke: #000000; stroke-width: 0.6\"/>\n      </g>\n     </g>\n    </g>\n    <g id=\"xtick_32\">\n     <g id=\"line2d_63\">\n      <path d=\"M 308.072276 212.759125 \nL 308.072276 18.718125 \n\" clip-path=\"url(#p4393191930)\" style=\"fill: none; stroke: #000000; stroke-opacity: 0.3; stroke-width: 0.25; stroke-linecap: square\"/>\n     </g>\n     <g id=\"line2d_64\">\n      <g>\n       <use xlink:href=\"#mf1046c5eed\" x=\"308.072276\" y=\"212.759125\" style=\"stroke: #000000; stroke-width: 0.6\"/>\n      </g>\n     </g>\n    </g>\n    <g id=\"xtick_33\">\n     <g id=\"line2d_65\">\n      <path d=\"M 312.82271 212.759125 \nL 312.82271 18.718125 \n\" clip-path=\"url(#p4393191930)\" style=\"fill: none; stroke: #000000; stroke-opacity: 0.3; stroke-width: 0.25; stroke-linecap: square\"/>\n     </g>\n     <g id=\"line2d_66\">\n      <g>\n       <use xlink:href=\"#mf1046c5eed\" x=\"312.82271\" y=\"212.759125\" style=\"stroke: #000000; stroke-width: 0.6\"/>\n      </g>\n     </g>\n    </g>\n    <g id=\"xtick_34\">\n     <g id=\"line2d_67\">\n      <path d=\"M 317.012889 212.759125 \nL 317.012889 18.718125 \n\" clip-path=\"url(#p4393191930)\" style=\"fill: none; stroke: #000000; stroke-opacity: 0.3; stroke-width: 0.25; stroke-linecap: square\"/>\n     </g>\n     <g id=\"line2d_68\">\n      <g>\n       <use xlink:href=\"#mf1046c5eed\" x=\"317.012889\" y=\"212.759125\" style=\"stroke: #000000; stroke-width: 0.6\"/>\n      </g>\n     </g>\n    </g>\n    <g id=\"xtick_35\">\n     <g id=\"line2d_69\">\n      <path d=\"M 345.420125 212.759125 \nL 345.420125 18.718125 \n\" clip-path=\"url(#p4393191930)\" style=\"fill: none; stroke: #000000; stroke-opacity: 0.3; stroke-width: 0.25; stroke-linecap: square\"/>\n     </g>\n     <g id=\"line2d_70\">\n      <g>\n       <use xlink:href=\"#mf1046c5eed\" x=\"345.420125\" y=\"212.759125\" style=\"stroke: #000000; stroke-width: 0.6\"/>\n      </g>\n     </g>\n    </g>\n    <g id=\"xtick_36\">\n     <g id=\"line2d_71\">\n      <path d=\"M 359.844711 212.759125 \nL 359.844711 18.718125 \n\" clip-path=\"url(#p4393191930)\" style=\"fill: none; stroke: #000000; stroke-opacity: 0.3; stroke-width: 0.25; stroke-linecap: square\"/>\n     </g>\n     <g id=\"line2d_72\">\n      <g>\n       <use xlink:href=\"#mf1046c5eed\" x=\"359.844711\" y=\"212.759125\" style=\"stroke: #000000; stroke-width: 0.6\"/>\n      </g>\n     </g>\n    </g>\n    <g id=\"xtick_37\">\n     <g id=\"line2d_73\">\n      <path d=\"M 370.079118 212.759125 \nL 370.079118 18.718125 \n\" clip-path=\"url(#p4393191930)\" style=\"fill: none; stroke: #000000; stroke-opacity: 0.3; stroke-width: 0.25; stroke-linecap: square\"/>\n     </g>\n     <g id=\"line2d_74\">\n      <g>\n       <use xlink:href=\"#mf1046c5eed\" x=\"370.079118\" y=\"212.759125\" style=\"stroke: #000000; stroke-width: 0.6\"/>\n      </g>\n     </g>\n    </g>\n    <g id=\"xtick_38\">\n     <g id=\"line2d_75\">\n      <path d=\"M 378.01754 212.759125 \nL 378.01754 18.718125 \n\" clip-path=\"url(#p4393191930)\" style=\"fill: none; stroke: #000000; stroke-opacity: 0.3; stroke-width: 0.25; stroke-linecap: square\"/>\n     </g>\n     <g id=\"line2d_76\">\n      <g>\n       <use xlink:href=\"#mf1046c5eed\" x=\"378.01754\" y=\"212.759125\" style=\"stroke: #000000; stroke-width: 0.6\"/>\n      </g>\n     </g>\n    </g>\n    <g id=\"xtick_39\">\n     <g id=\"line2d_77\">\n      <path d=\"M 384.503704 212.759125 \nL 384.503704 18.718125 \n\" clip-path=\"url(#p4393191930)\" style=\"fill: none; stroke: #000000; stroke-opacity: 0.3; stroke-width: 0.25; stroke-linecap: square\"/>\n     </g>\n     <g id=\"line2d_78\">\n      <g>\n       <use xlink:href=\"#mf1046c5eed\" x=\"384.503704\" y=\"212.759125\" style=\"stroke: #000000; stroke-width: 0.6\"/>\n      </g>\n     </g>\n    </g>\n    <g id=\"xtick_40\">\n     <g id=\"line2d_79\">\n      <path d=\"M 389.987677 212.759125 \nL 389.987677 18.718125 \n\" clip-path=\"url(#p4393191930)\" style=\"fill: none; stroke: #000000; stroke-opacity: 0.3; stroke-width: 0.25; stroke-linecap: square\"/>\n     </g>\n     <g id=\"line2d_80\">\n      <g>\n       <use xlink:href=\"#mf1046c5eed\" x=\"389.987677\" y=\"212.759125\" style=\"stroke: #000000; stroke-width: 0.6\"/>\n      </g>\n     </g>\n    </g>\n    <g id=\"xtick_41\">\n     <g id=\"line2d_81\">\n      <path d=\"M 394.738111 212.759125 \nL 394.738111 18.718125 \n\" clip-path=\"url(#p4393191930)\" style=\"fill: none; stroke: #000000; stroke-opacity: 0.3; stroke-width: 0.25; stroke-linecap: square\"/>\n     </g>\n     <g id=\"line2d_82\">\n      <g>\n       <use xlink:href=\"#mf1046c5eed\" x=\"394.738111\" y=\"212.759125\" style=\"stroke: #000000; stroke-width: 0.6\"/>\n      </g>\n     </g>\n    </g>\n    <g id=\"xtick_42\">\n     <g id=\"line2d_83\">\n      <path d=\"M 398.92829 212.759125 \nL 398.92829 18.718125 \n\" clip-path=\"url(#p4393191930)\" style=\"fill: none; stroke: #000000; stroke-opacity: 0.3; stroke-width: 0.25; stroke-linecap: square\"/>\n     </g>\n     <g id=\"line2d_84\">\n      <g>\n       <use xlink:href=\"#mf1046c5eed\" x=\"398.92829\" y=\"212.759125\" style=\"stroke: #000000; stroke-width: 0.6\"/>\n      </g>\n     </g>\n    </g>\n    <g id=\"text_6\">\n     <!-- frq -->\n     <g transform=\"translate(218.330688 240.827719) scale(0.11 -0.11)\">\n      <defs>\n       <path id=\"DejaVuSerif-66\" d=\"M 2753 4078 \nL 2450 4078 \nQ 2447 4313 2317 4434 \nQ 2188 4556 1941 4556 \nQ 1619 4556 1487 4379 \nQ 1356 4203 1356 3750 \nL 1356 3322 \nL 2284 3322 \nL 2284 2988 \nL 1356 2988 \nL 1356 331 \nL 2094 331 \nL 2094 0 \nL 231 0 \nL 231 331 \nL 781 331 \nL 781 2988 \nL 231 2988 \nL 231 3322 \nL 781 3322 \nL 781 3738 \nQ 781 4294 1070 4578 \nQ 1359 4863 1919 4863 \nQ 2128 4863 2337 4825 \nQ 2547 4788 2753 4709 \nL 2753 4078 \nz\n\" transform=\"scale(0.015625)\"/>\n       <path id=\"DejaVuSerif-72\" d=\"M 3059 3328 \nL 3059 2497 \nL 2728 2497 \nQ 2713 2744 2591 2866 \nQ 2469 2988 2234 2988 \nQ 1809 2988 1582 2694 \nQ 1356 2400 1356 1850 \nL 1356 331 \nL 2022 331 \nL 2022 0 \nL 263 0 \nL 263 331 \nL 781 331 \nL 781 2994 \nL 231 2994 \nL 231 3322 \nL 1356 3322 \nL 1356 2731 \nQ 1525 3078 1790 3245 \nQ 2056 3413 2438 3413 \nQ 2578 3413 2733 3391 \nQ 2888 3369 3059 3328 \nz\n\" transform=\"scale(0.015625)\"/>\n       <path id=\"DejaVuSerif-71\" d=\"M 3359 2988 \nL 3359 -997 \nL 3909 -997 \nL 3909 -1331 \nL 2241 -1331 \nL 2241 -997 \nL 2784 -997 \nL 2784 519 \nQ 2616 206 2355 57 \nQ 2094 -91 1709 -91 \nQ 1097 -91 708 395 \nQ 319 881 319 1663 \nQ 319 2444 706 2928 \nQ 1094 3413 1709 3413 \nQ 2094 3413 2355 3264 \nQ 2616 3116 2784 2803 \nL 2784 3322 \nL 3909 3322 \nL 3909 2988 \nL 3359 2988 \nz\nM 2784 1825 \nQ 2784 2422 2554 2737 \nQ 2325 3053 1888 3053 \nQ 1444 3053 1217 2703 \nQ 991 2353 991 1663 \nQ 991 975 1217 622 \nQ 1444 269 1888 269 \nQ 2325 269 2554 583 \nQ 2784 897 2784 1497 \nL 2784 1825 \nz\n\" transform=\"scale(0.015625)\"/>\n      </defs>\n      <use xlink:href=\"#DejaVuSerif-66\"/>\n      <use xlink:href=\"#DejaVuSerif-72\" transform=\"translate(37.011719 0)\"/>\n      <use xlink:href=\"#DejaVuSerif-71\" transform=\"translate(84.814453 0)\"/>\n     </g>\n    </g>\n   </g>\n   <g id=\"matplotlib.axis_2\">\n    <g id=\"ytick_1\">\n     <g id=\"line2d_85\">\n      <path d=\"M 50.355937 192.57528 \nL 402.676533 192.57528 \n\" clip-path=\"url(#p4393191930)\" style=\"fill: none; stroke: #000000; stroke-opacity: 0.3; stroke-width: 0.25; stroke-linecap: square\"/>\n     </g>\n     <g id=\"line2d_86\">\n      <defs>\n       <path id=\"m625b9b0be4\" d=\"M 0 0 \nL -3.5 0 \n\" style=\"stroke: #000000; stroke-width: 0.8\"/>\n      </defs>\n      <g>\n       <use xlink:href=\"#m625b9b0be4\" x=\"50.355937\" y=\"192.57528\" style=\"stroke: #000000; stroke-width: 0.8\"/>\n      </g>\n     </g>\n     <g id=\"text_7\">\n      <!-- $\\mathdefault{10^{-21}}$ -->\n      <g transform=\"translate(18.245937 195.994577) scale(0.09 -0.09)\">\n       <defs>\n        <path id=\"DejaVuSerif-2212\" d=\"M 678 2259 \nL 4684 2259 \nL 4684 1753 \nL 678 1753 \nL 678 2259 \nz\n\" transform=\"scale(0.015625)\"/>\n       </defs>\n       <use xlink:href=\"#DejaVuSerif-31\" transform=\"translate(0 0.7125)\"/>\n       <use xlink:href=\"#DejaVuSerif-30\" transform=\"translate(63.623047 0.7125)\"/>\n       <use xlink:href=\"#DejaVuSerif-2212\" transform=\"translate(128.154453 37.046875) scale(0.7)\"/>\n       <use xlink:href=\"#DejaVuSerif-32\" transform=\"translate(186.806797 37.046875) scale(0.7)\"/>\n       <use xlink:href=\"#DejaVuSerif-31\" transform=\"translate(231.34293 37.046875) scale(0.7)\"/>\n      </g>\n     </g>\n    </g>\n    <g id=\"ytick_2\">\n     <g id=\"line2d_87\">\n      <path d=\"M 50.355937 171.58563 \nL 402.676533 171.58563 \n\" clip-path=\"url(#p4393191930)\" style=\"fill: none; stroke: #000000; stroke-opacity: 0.3; stroke-width: 0.25; stroke-linecap: square\"/>\n     </g>\n     <g id=\"line2d_88\">\n      <g>\n       <use xlink:href=\"#m625b9b0be4\" x=\"50.355937\" y=\"171.58563\" style=\"stroke: #000000; stroke-width: 0.8\"/>\n      </g>\n     </g>\n     <g id=\"text_8\">\n      <!-- $\\mathdefault{10^{-20}}$ -->\n      <g transform=\"translate(18.245937 175.004927) scale(0.09 -0.09)\">\n       <use xlink:href=\"#DejaVuSerif-31\" transform=\"translate(0 0.7125)\"/>\n       <use xlink:href=\"#DejaVuSerif-30\" transform=\"translate(63.623047 0.7125)\"/>\n       <use xlink:href=\"#DejaVuSerif-2212\" transform=\"translate(128.154453 37.046875) scale(0.7)\"/>\n       <use xlink:href=\"#DejaVuSerif-32\" transform=\"translate(186.806797 37.046875) scale(0.7)\"/>\n       <use xlink:href=\"#DejaVuSerif-30\" transform=\"translate(231.34293 37.046875) scale(0.7)\"/>\n      </g>\n     </g>\n    </g>\n    <g id=\"ytick_3\">\n     <g id=\"line2d_89\">\n      <path d=\"M 50.355937 150.59598 \nL 402.676533 150.59598 \n\" clip-path=\"url(#p4393191930)\" style=\"fill: none; stroke: #000000; stroke-opacity: 0.3; stroke-width: 0.25; stroke-linecap: square\"/>\n     </g>\n     <g id=\"line2d_90\">\n      <g>\n       <use xlink:href=\"#m625b9b0be4\" x=\"50.355937\" y=\"150.59598\" style=\"stroke: #000000; stroke-width: 0.8\"/>\n      </g>\n     </g>\n     <g id=\"text_9\">\n      <!-- $\\mathdefault{10^{-19}}$ -->\n      <g transform=\"translate(18.245937 154.015277) scale(0.09 -0.09)\">\n       <defs>\n        <path id=\"DejaVuSerif-39\" d=\"M 2994 2091 \nQ 2784 1856 2512 1740 \nQ 2241 1625 1900 1625 \nQ 1206 1625 804 2044 \nQ 403 2463 403 3188 \nQ 403 3897 839 4323 \nQ 1275 4750 2003 4750 \nQ 2794 4750 3217 4161 \nQ 3641 3572 3641 2478 \nQ 3641 1253 3137 581 \nQ 2634 -91 1722 -91 \nQ 1475 -91 1203 -44 \nQ 931 3 647 97 \nL 647 872 \nL 997 872 \nQ 1038 556 1241 387 \nQ 1444 219 1784 219 \nQ 2391 219 2687 676 \nQ 2984 1134 2994 2091 \nz\nM 1978 4441 \nQ 1534 4441 1298 4117 \nQ 1063 3794 1063 3188 \nQ 1063 2581 1298 2256 \nQ 1534 1931 1978 1931 \nQ 2422 1931 2658 2245 \nQ 2894 2559 2894 3150 \nQ 2894 3772 2656 4106 \nQ 2419 4441 1978 4441 \nz\n\" transform=\"scale(0.015625)\"/>\n       </defs>\n       <use xlink:href=\"#DejaVuSerif-31\" transform=\"translate(0 0.7125)\"/>\n       <use xlink:href=\"#DejaVuSerif-30\" transform=\"translate(63.623047 0.7125)\"/>\n       <use xlink:href=\"#DejaVuSerif-2212\" transform=\"translate(128.154453 37.046875) scale(0.7)\"/>\n       <use xlink:href=\"#DejaVuSerif-31\" transform=\"translate(186.806797 37.046875) scale(0.7)\"/>\n       <use xlink:href=\"#DejaVuSerif-39\" transform=\"translate(231.34293 37.046875) scale(0.7)\"/>\n      </g>\n     </g>\n    </g>\n    <g id=\"ytick_4\">\n     <g id=\"line2d_91\">\n      <path d=\"M 50.355937 129.606331 \nL 402.676533 129.606331 \n\" clip-path=\"url(#p4393191930)\" style=\"fill: none; stroke: #000000; stroke-opacity: 0.3; stroke-width: 0.25; stroke-linecap: square\"/>\n     </g>\n     <g id=\"line2d_92\">\n      <g>\n       <use xlink:href=\"#m625b9b0be4\" x=\"50.355937\" y=\"129.606331\" style=\"stroke: #000000; stroke-width: 0.8\"/>\n      </g>\n     </g>\n     <g id=\"text_10\">\n      <!-- $\\mathdefault{10^{-18}}$ -->\n      <g transform=\"translate(18.245937 133.025627) scale(0.09 -0.09)\">\n       <defs>\n        <path id=\"DejaVuSerif-38\" d=\"M 2981 1275 \nQ 2981 1775 2732 2051 \nQ 2484 2328 2034 2328 \nQ 1584 2328 1336 2051 \nQ 1088 1775 1088 1275 \nQ 1088 772 1336 495 \nQ 1584 219 2034 219 \nQ 2484 219 2732 495 \nQ 2981 772 2981 1275 \nz\nM 2853 3541 \nQ 2853 3966 2637 4203 \nQ 2422 4441 2034 4441 \nQ 1650 4441 1433 4203 \nQ 1216 3966 1216 3541 \nQ 1216 3113 1433 2875 \nQ 1650 2638 2034 2638 \nQ 2422 2638 2637 2875 \nQ 2853 3113 2853 3541 \nz\nM 2516 2484 \nQ 3047 2413 3344 2092 \nQ 3641 1772 3641 1275 \nQ 3641 619 3225 264 \nQ 2809 -91 2034 -91 \nQ 1263 -91 845 264 \nQ 428 619 428 1275 \nQ 428 1772 725 2092 \nQ 1022 2413 1556 2484 \nQ 1084 2569 832 2842 \nQ 581 3116 581 3541 \nQ 581 4103 968 4426 \nQ 1356 4750 2034 4750 \nQ 2713 4750 3100 4426 \nQ 3488 4103 3488 3541 \nQ 3488 3116 3236 2842 \nQ 2984 2569 2516 2484 \nz\n\" transform=\"scale(0.015625)\"/>\n       </defs>\n       <use xlink:href=\"#DejaVuSerif-31\" transform=\"translate(0 0.7125)\"/>\n       <use xlink:href=\"#DejaVuSerif-30\" transform=\"translate(63.623047 0.7125)\"/>\n       <use xlink:href=\"#DejaVuSerif-2212\" transform=\"translate(128.154453 37.046875) scale(0.7)\"/>\n       <use xlink:href=\"#DejaVuSerif-31\" transform=\"translate(186.806797 37.046875) scale(0.7)\"/>\n       <use xlink:href=\"#DejaVuSerif-38\" transform=\"translate(231.34293 37.046875) scale(0.7)\"/>\n      </g>\n     </g>\n    </g>\n    <g id=\"ytick_5\">\n     <g id=\"line2d_93\">\n      <path d=\"M 50.355937 108.616681 \nL 402.676533 108.616681 \n\" clip-path=\"url(#p4393191930)\" style=\"fill: none; stroke: #000000; stroke-opacity: 0.3; stroke-width: 0.25; stroke-linecap: square\"/>\n     </g>\n     <g id=\"line2d_94\">\n      <g>\n       <use xlink:href=\"#m625b9b0be4\" x=\"50.355937\" y=\"108.616681\" style=\"stroke: #000000; stroke-width: 0.8\"/>\n      </g>\n     </g>\n     <g id=\"text_11\">\n      <!-- $\\mathdefault{10^{-17}}$ -->\n      <g transform=\"translate(18.245937 112.035978) scale(0.09 -0.09)\">\n       <defs>\n        <path id=\"DejaVuSerif-37\" d=\"M 3609 4347 \nL 1784 0 \nL 1319 0 \nL 3059 4153 \nL 903 4153 \nL 903 3578 \nL 538 3578 \nL 538 4666 \nL 3609 4666 \nL 3609 4347 \nz\n\" transform=\"scale(0.015625)\"/>\n       </defs>\n       <use xlink:href=\"#DejaVuSerif-31\" transform=\"translate(0 0.7125)\"/>\n       <use xlink:href=\"#DejaVuSerif-30\" transform=\"translate(63.623047 0.7125)\"/>\n       <use xlink:href=\"#DejaVuSerif-2212\" transform=\"translate(128.154453 37.046875) scale(0.7)\"/>\n       <use xlink:href=\"#DejaVuSerif-31\" transform=\"translate(186.806797 37.046875) scale(0.7)\"/>\n       <use xlink:href=\"#DejaVuSerif-37\" transform=\"translate(231.34293 37.046875) scale(0.7)\"/>\n      </g>\n     </g>\n    </g>\n    <g id=\"ytick_6\">\n     <g id=\"line2d_95\">\n      <path d=\"M 50.355937 87.627031 \nL 402.676533 87.627031 \n\" clip-path=\"url(#p4393191930)\" style=\"fill: none; stroke: #000000; stroke-opacity: 0.3; stroke-width: 0.25; stroke-linecap: square\"/>\n     </g>\n     <g id=\"line2d_96\">\n      <g>\n       <use xlink:href=\"#m625b9b0be4\" x=\"50.355937\" y=\"87.627031\" style=\"stroke: #000000; stroke-width: 0.8\"/>\n      </g>\n     </g>\n     <g id=\"text_12\">\n      <!-- $\\mathdefault{10^{-16}}$ -->\n      <g transform=\"translate(18.245937 91.046328) scale(0.09 -0.09)\">\n       <defs>\n        <path id=\"DejaVuSerif-36\" d=\"M 2094 219 \nQ 2534 219 2771 542 \nQ 3009 866 3009 1472 \nQ 3009 2078 2771 2401 \nQ 2534 2725 2094 2725 \nQ 1647 2725 1412 2412 \nQ 1178 2100 1178 1509 \nQ 1178 888 1415 553 \nQ 1653 219 2094 219 \nz\nM 1075 2569 \nQ 1288 2803 1556 2918 \nQ 1825 3034 2163 3034 \nQ 2859 3034 3264 2615 \nQ 3669 2197 3669 1472 \nQ 3669 763 3233 336 \nQ 2797 -91 2069 -91 \nQ 1278 -91 853 498 \nQ 428 1088 428 2181 \nQ 428 3406 931 4078 \nQ 1434 4750 2350 4750 \nQ 2597 4750 2869 4703 \nQ 3141 4656 3425 4563 \nL 3425 3794 \nL 3072 3794 \nQ 3034 4109 2831 4275 \nQ 2628 4441 2284 4441 \nQ 1678 4441 1381 3981 \nQ 1084 3522 1075 2569 \nz\n\" transform=\"scale(0.015625)\"/>\n       </defs>\n       <use xlink:href=\"#DejaVuSerif-31\" transform=\"translate(0 0.7125)\"/>\n       <use xlink:href=\"#DejaVuSerif-30\" transform=\"translate(63.623047 0.7125)\"/>\n       <use xlink:href=\"#DejaVuSerif-2212\" transform=\"translate(128.154453 37.046875) scale(0.7)\"/>\n       <use xlink:href=\"#DejaVuSerif-31\" transform=\"translate(186.806797 37.046875) scale(0.7)\"/>\n       <use xlink:href=\"#DejaVuSerif-36\" transform=\"translate(231.34293 37.046875) scale(0.7)\"/>\n      </g>\n     </g>\n    </g>\n    <g id=\"ytick_7\">\n     <g id=\"line2d_97\">\n      <path d=\"M 50.355937 66.637381 \nL 402.676533 66.637381 \n\" clip-path=\"url(#p4393191930)\" style=\"fill: none; stroke: #000000; stroke-opacity: 0.3; stroke-width: 0.25; stroke-linecap: square\"/>\n     </g>\n     <g id=\"line2d_98\">\n      <g>\n       <use xlink:href=\"#m625b9b0be4\" x=\"50.355937\" y=\"66.637381\" style=\"stroke: #000000; stroke-width: 0.8\"/>\n      </g>\n     </g>\n     <g id=\"text_13\">\n      <!-- $\\mathdefault{10^{-15}}$ -->\n      <g transform=\"translate(18.245937 70.056678) scale(0.09 -0.09)\">\n       <use xlink:href=\"#DejaVuSerif-31\" transform=\"translate(0 0.7125)\"/>\n       <use xlink:href=\"#DejaVuSerif-30\" transform=\"translate(63.623047 0.7125)\"/>\n       <use xlink:href=\"#DejaVuSerif-2212\" transform=\"translate(128.154453 37.046875) scale(0.7)\"/>\n       <use xlink:href=\"#DejaVuSerif-31\" transform=\"translate(186.806797 37.046875) scale(0.7)\"/>\n       <use xlink:href=\"#DejaVuSerif-35\" transform=\"translate(231.34293 37.046875) scale(0.7)\"/>\n      </g>\n     </g>\n    </g>\n    <g id=\"ytick_8\">\n     <g id=\"line2d_99\">\n      <path d=\"M 50.355937 45.647732 \nL 402.676533 45.647732 \n\" clip-path=\"url(#p4393191930)\" style=\"fill: none; stroke: #000000; stroke-opacity: 0.3; stroke-width: 0.25; stroke-linecap: square\"/>\n     </g>\n     <g id=\"line2d_100\">\n      <g>\n       <use xlink:href=\"#m625b9b0be4\" x=\"50.355937\" y=\"45.647732\" style=\"stroke: #000000; stroke-width: 0.8\"/>\n      </g>\n     </g>\n     <g id=\"text_14\">\n      <!-- $\\mathdefault{10^{-14}}$ -->\n      <g transform=\"translate(18.245937 49.067029) scale(0.09 -0.09)\">\n       <use xlink:href=\"#DejaVuSerif-31\" transform=\"translate(0 0.7125)\"/>\n       <use xlink:href=\"#DejaVuSerif-30\" transform=\"translate(63.623047 0.7125)\"/>\n       <use xlink:href=\"#DejaVuSerif-2212\" transform=\"translate(128.154453 37.046875) scale(0.7)\"/>\n       <use xlink:href=\"#DejaVuSerif-31\" transform=\"translate(186.806797 37.046875) scale(0.7)\"/>\n       <use xlink:href=\"#DejaVuSerif-34\" transform=\"translate(231.34293 37.046875) scale(0.7)\"/>\n      </g>\n     </g>\n    </g>\n    <g id=\"ytick_9\">\n     <g id=\"line2d_101\">\n      <path d=\"M 50.355937 24.658082 \nL 402.676533 24.658082 \n\" clip-path=\"url(#p4393191930)\" style=\"fill: none; stroke: #000000; stroke-opacity: 0.3; stroke-width: 0.25; stroke-linecap: square\"/>\n     </g>\n     <g id=\"line2d_102\">\n      <g>\n       <use xlink:href=\"#m625b9b0be4\" x=\"50.355937\" y=\"24.658082\" style=\"stroke: #000000; stroke-width: 0.8\"/>\n      </g>\n     </g>\n     <g id=\"text_15\">\n      <!-- $\\mathdefault{10^{-13}}$ -->\n      <g transform=\"translate(18.245937 28.077379) scale(0.09 -0.09)\">\n       <use xlink:href=\"#DejaVuSerif-31\" transform=\"translate(0 0.7125)\"/>\n       <use xlink:href=\"#DejaVuSerif-30\" transform=\"translate(63.623047 0.7125)\"/>\n       <use xlink:href=\"#DejaVuSerif-2212\" transform=\"translate(128.154453 37.046875) scale(0.7)\"/>\n       <use xlink:href=\"#DejaVuSerif-31\" transform=\"translate(186.806797 37.046875) scale(0.7)\"/>\n       <use xlink:href=\"#DejaVuSerif-33\" transform=\"translate(231.34293 37.046875) scale(0.7)\"/>\n      </g>\n     </g>\n    </g>\n    <g id=\"ytick_10\">\n     <g id=\"line2d_103\">\n      <path d=\"M 50.355937 207.246415 \nL 402.676533 207.246415 \n\" clip-path=\"url(#p4393191930)\" style=\"fill: none; stroke: #000000; stroke-opacity: 0.3; stroke-width: 0.25; stroke-linecap: square\"/>\n     </g>\n     <g id=\"line2d_104\">\n      <defs>\n       <path id=\"mf28f4315e8\" d=\"M 0 0 \nL -2 0 \n\" style=\"stroke: #000000; stroke-width: 0.6\"/>\n      </defs>\n      <g>\n       <use xlink:href=\"#mf28f4315e8\" x=\"50.355937\" y=\"207.246415\" style=\"stroke: #000000; stroke-width: 0.6\"/>\n      </g>\n     </g>\n    </g>\n    <g id=\"ytick_11\">\n     <g id=\"line2d_105\">\n      <path d=\"M 50.355937 203.550322 \nL 402.676533 203.550322 \n\" clip-path=\"url(#p4393191930)\" style=\"fill: none; stroke: #000000; stroke-opacity: 0.3; stroke-width: 0.25; stroke-linecap: square\"/>\n     </g>\n     <g id=\"line2d_106\">\n      <g>\n       <use xlink:href=\"#mf28f4315e8\" x=\"50.355937\" y=\"203.550322\" style=\"stroke: #000000; stroke-width: 0.6\"/>\n      </g>\n     </g>\n    </g>\n    <g id=\"ytick_12\">\n     <g id=\"line2d_107\">\n      <path d=\"M 50.355937 200.927901 \nL 402.676533 200.927901 \n\" clip-path=\"url(#p4393191930)\" style=\"fill: none; stroke: #000000; stroke-opacity: 0.3; stroke-width: 0.25; stroke-linecap: square\"/>\n     </g>\n     <g id=\"line2d_108\">\n      <g>\n       <use xlink:href=\"#mf28f4315e8\" x=\"50.355937\" y=\"200.927901\" style=\"stroke: #000000; stroke-width: 0.6\"/>\n      </g>\n     </g>\n    </g>\n    <g id=\"ytick_13\">\n     <g id=\"line2d_109\">\n      <path d=\"M 50.355937 198.893794 \nL 402.676533 198.893794 \n\" clip-path=\"url(#p4393191930)\" style=\"fill: none; stroke: #000000; stroke-opacity: 0.3; stroke-width: 0.25; stroke-linecap: square\"/>\n     </g>\n     <g id=\"line2d_110\">\n      <g>\n       <use xlink:href=\"#mf28f4315e8\" x=\"50.355937\" y=\"198.893794\" style=\"stroke: #000000; stroke-width: 0.6\"/>\n      </g>\n     </g>\n    </g>\n    <g id=\"ytick_14\">\n     <g id=\"line2d_111\">\n      <path d=\"M 50.355937 197.231807 \nL 402.676533 197.231807 \n\" clip-path=\"url(#p4393191930)\" style=\"fill: none; stroke: #000000; stroke-opacity: 0.3; stroke-width: 0.25; stroke-linecap: square\"/>\n     </g>\n     <g id=\"line2d_112\">\n      <g>\n       <use xlink:href=\"#mf28f4315e8\" x=\"50.355937\" y=\"197.231807\" style=\"stroke: #000000; stroke-width: 0.6\"/>\n      </g>\n     </g>\n    </g>\n    <g id=\"ytick_15\">\n     <g id=\"line2d_113\">\n      <path d=\"M 50.355937 195.826618 \nL 402.676533 195.826618 \n\" clip-path=\"url(#p4393191930)\" style=\"fill: none; stroke: #000000; stroke-opacity: 0.3; stroke-width: 0.25; stroke-linecap: square\"/>\n     </g>\n     <g id=\"line2d_114\">\n      <g>\n       <use xlink:href=\"#mf28f4315e8\" x=\"50.355937\" y=\"195.826618\" style=\"stroke: #000000; stroke-width: 0.6\"/>\n      </g>\n     </g>\n    </g>\n    <g id=\"ytick_16\">\n     <g id=\"line2d_115\">\n      <path d=\"M 50.355937 194.609387 \nL 402.676533 194.609387 \n\" clip-path=\"url(#p4393191930)\" style=\"fill: none; stroke: #000000; stroke-opacity: 0.3; stroke-width: 0.25; stroke-linecap: square\"/>\n     </g>\n     <g id=\"line2d_116\">\n      <g>\n       <use xlink:href=\"#mf28f4315e8\" x=\"50.355937\" y=\"194.609387\" style=\"stroke: #000000; stroke-width: 0.6\"/>\n      </g>\n     </g>\n    </g>\n    <g id=\"ytick_17\">\n     <g id=\"line2d_117\">\n      <path d=\"M 50.355937 193.535714 \nL 402.676533 193.535714 \n\" clip-path=\"url(#p4393191930)\" style=\"fill: none; stroke: #000000; stroke-opacity: 0.3; stroke-width: 0.25; stroke-linecap: square\"/>\n     </g>\n     <g id=\"line2d_118\">\n      <g>\n       <use xlink:href=\"#mf28f4315e8\" x=\"50.355937\" y=\"193.535714\" style=\"stroke: #000000; stroke-width: 0.6\"/>\n      </g>\n     </g>\n    </g>\n    <g id=\"ytick_18\">\n     <g id=\"line2d_119\">\n      <path d=\"M 50.355937 186.256766 \nL 402.676533 186.256766 \n\" clip-path=\"url(#p4393191930)\" style=\"fill: none; stroke: #000000; stroke-opacity: 0.3; stroke-width: 0.25; stroke-linecap: square\"/>\n     </g>\n     <g id=\"line2d_120\">\n      <g>\n       <use xlink:href=\"#mf28f4315e8\" x=\"50.355937\" y=\"186.256766\" style=\"stroke: #000000; stroke-width: 0.6\"/>\n      </g>\n     </g>\n    </g>\n    <g id=\"ytick_19\">\n     <g id=\"line2d_121\">\n      <path d=\"M 50.355937 182.560672 \nL 402.676533 182.560672 \n\" clip-path=\"url(#p4393191930)\" style=\"fill: none; stroke: #000000; stroke-opacity: 0.3; stroke-width: 0.25; stroke-linecap: square\"/>\n     </g>\n     <g id=\"line2d_122\">\n      <g>\n       <use xlink:href=\"#mf28f4315e8\" x=\"50.355937\" y=\"182.560672\" style=\"stroke: #000000; stroke-width: 0.6\"/>\n      </g>\n     </g>\n    </g>\n    <g id=\"ytick_20\">\n     <g id=\"line2d_123\">\n      <path d=\"M 50.355937 179.938252 \nL 402.676533 179.938252 \n\" clip-path=\"url(#p4393191930)\" style=\"fill: none; stroke: #000000; stroke-opacity: 0.3; stroke-width: 0.25; stroke-linecap: square\"/>\n     </g>\n     <g id=\"line2d_124\">\n      <g>\n       <use xlink:href=\"#mf28f4315e8\" x=\"50.355937\" y=\"179.938252\" style=\"stroke: #000000; stroke-width: 0.6\"/>\n      </g>\n     </g>\n    </g>\n    <g id=\"ytick_21\">\n     <g id=\"line2d_125\">\n      <path d=\"M 50.355937 177.904144 \nL 402.676533 177.904144 \n\" clip-path=\"url(#p4393191930)\" style=\"fill: none; stroke: #000000; stroke-opacity: 0.3; stroke-width: 0.25; stroke-linecap: square\"/>\n     </g>\n     <g id=\"line2d_126\">\n      <g>\n       <use xlink:href=\"#mf28f4315e8\" x=\"50.355937\" y=\"177.904144\" style=\"stroke: #000000; stroke-width: 0.6\"/>\n      </g>\n     </g>\n    </g>\n    <g id=\"ytick_22\">\n     <g id=\"line2d_127\">\n      <path d=\"M 50.355937 176.242158 \nL 402.676533 176.242158 \n\" clip-path=\"url(#p4393191930)\" style=\"fill: none; stroke: #000000; stroke-opacity: 0.3; stroke-width: 0.25; stroke-linecap: square\"/>\n     </g>\n     <g id=\"line2d_128\">\n      <g>\n       <use xlink:href=\"#mf28f4315e8\" x=\"50.355937\" y=\"176.242158\" style=\"stroke: #000000; stroke-width: 0.6\"/>\n      </g>\n     </g>\n    </g>\n    <g id=\"ytick_23\">\n     <g id=\"line2d_129\">\n      <path d=\"M 50.355937 174.836968 \nL 402.676533 174.836968 \n\" clip-path=\"url(#p4393191930)\" style=\"fill: none; stroke: #000000; stroke-opacity: 0.3; stroke-width: 0.25; stroke-linecap: square\"/>\n     </g>\n     <g id=\"line2d_130\">\n      <g>\n       <use xlink:href=\"#mf28f4315e8\" x=\"50.355937\" y=\"174.836968\" style=\"stroke: #000000; stroke-width: 0.6\"/>\n      </g>\n     </g>\n    </g>\n    <g id=\"ytick_24\">\n     <g id=\"line2d_131\">\n      <path d=\"M 50.355937 173.619737 \nL 402.676533 173.619737 \n\" clip-path=\"url(#p4393191930)\" style=\"fill: none; stroke: #000000; stroke-opacity: 0.3; stroke-width: 0.25; stroke-linecap: square\"/>\n     </g>\n     <g id=\"line2d_132\">\n      <g>\n       <use xlink:href=\"#mf28f4315e8\" x=\"50.355937\" y=\"173.619737\" style=\"stroke: #000000; stroke-width: 0.6\"/>\n      </g>\n     </g>\n    </g>\n    <g id=\"ytick_25\">\n     <g id=\"line2d_133\">\n      <path d=\"M 50.355937 172.546064 \nL 402.676533 172.546064 \n\" clip-path=\"url(#p4393191930)\" style=\"fill: none; stroke: #000000; stroke-opacity: 0.3; stroke-width: 0.25; stroke-linecap: square\"/>\n     </g>\n     <g id=\"line2d_134\">\n      <g>\n       <use xlink:href=\"#mf28f4315e8\" x=\"50.355937\" y=\"172.546064\" style=\"stroke: #000000; stroke-width: 0.6\"/>\n      </g>\n     </g>\n    </g>\n    <g id=\"ytick_26\">\n     <g id=\"line2d_135\">\n      <path d=\"M 50.355937 165.267116 \nL 402.676533 165.267116 \n\" clip-path=\"url(#p4393191930)\" style=\"fill: none; stroke: #000000; stroke-opacity: 0.3; stroke-width: 0.25; stroke-linecap: square\"/>\n     </g>\n     <g id=\"line2d_136\">\n      <g>\n       <use xlink:href=\"#mf28f4315e8\" x=\"50.355937\" y=\"165.267116\" style=\"stroke: #000000; stroke-width: 0.6\"/>\n      </g>\n     </g>\n    </g>\n    <g id=\"ytick_27\">\n     <g id=\"line2d_137\">\n      <path d=\"M 50.355937 161.571022 \nL 402.676533 161.571022 \n\" clip-path=\"url(#p4393191930)\" style=\"fill: none; stroke: #000000; stroke-opacity: 0.3; stroke-width: 0.25; stroke-linecap: square\"/>\n     </g>\n     <g id=\"line2d_138\">\n      <g>\n       <use xlink:href=\"#mf28f4315e8\" x=\"50.355937\" y=\"161.571022\" style=\"stroke: #000000; stroke-width: 0.6\"/>\n      </g>\n     </g>\n    </g>\n    <g id=\"ytick_28\">\n     <g id=\"line2d_139\">\n      <path d=\"M 50.355937 158.948602 \nL 402.676533 158.948602 \n\" clip-path=\"url(#p4393191930)\" style=\"fill: none; stroke: #000000; stroke-opacity: 0.3; stroke-width: 0.25; stroke-linecap: square\"/>\n     </g>\n     <g id=\"line2d_140\">\n      <g>\n       <use xlink:href=\"#mf28f4315e8\" x=\"50.355937\" y=\"158.948602\" style=\"stroke: #000000; stroke-width: 0.6\"/>\n      </g>\n     </g>\n    </g>\n    <g id=\"ytick_29\">\n     <g id=\"line2d_141\">\n      <path d=\"M 50.355937 156.914495 \nL 402.676533 156.914495 \n\" clip-path=\"url(#p4393191930)\" style=\"fill: none; stroke: #000000; stroke-opacity: 0.3; stroke-width: 0.25; stroke-linecap: square\"/>\n     </g>\n     <g id=\"line2d_142\">\n      <g>\n       <use xlink:href=\"#mf28f4315e8\" x=\"50.355937\" y=\"156.914495\" style=\"stroke: #000000; stroke-width: 0.6\"/>\n      </g>\n     </g>\n    </g>\n    <g id=\"ytick_30\">\n     <g id=\"line2d_143\">\n      <path d=\"M 50.355937 155.252508 \nL 402.676533 155.252508 \n\" clip-path=\"url(#p4393191930)\" style=\"fill: none; stroke: #000000; stroke-opacity: 0.3; stroke-width: 0.25; stroke-linecap: square\"/>\n     </g>\n     <g id=\"line2d_144\">\n      <g>\n       <use xlink:href=\"#mf28f4315e8\" x=\"50.355937\" y=\"155.252508\" style=\"stroke: #000000; stroke-width: 0.6\"/>\n      </g>\n     </g>\n    </g>\n    <g id=\"ytick_31\">\n     <g id=\"line2d_145\">\n      <path d=\"M 50.355937 153.847318 \nL 402.676533 153.847318 \n\" clip-path=\"url(#p4393191930)\" style=\"fill: none; stroke: #000000; stroke-opacity: 0.3; stroke-width: 0.25; stroke-linecap: square\"/>\n     </g>\n     <g id=\"line2d_146\">\n      <g>\n       <use xlink:href=\"#mf28f4315e8\" x=\"50.355937\" y=\"153.847318\" style=\"stroke: #000000; stroke-width: 0.6\"/>\n      </g>\n     </g>\n    </g>\n    <g id=\"ytick_32\">\n     <g id=\"line2d_147\">\n      <path d=\"M 50.355937 152.630088 \nL 402.676533 152.630088 \n\" clip-path=\"url(#p4393191930)\" style=\"fill: none; stroke: #000000; stroke-opacity: 0.3; stroke-width: 0.25; stroke-linecap: square\"/>\n     </g>\n     <g id=\"line2d_148\">\n      <g>\n       <use xlink:href=\"#mf28f4315e8\" x=\"50.355937\" y=\"152.630088\" style=\"stroke: #000000; stroke-width: 0.6\"/>\n      </g>\n     </g>\n    </g>\n    <g id=\"ytick_33\">\n     <g id=\"line2d_149\">\n      <path d=\"M 50.355937 151.556414 \nL 402.676533 151.556414 \n\" clip-path=\"url(#p4393191930)\" style=\"fill: none; stroke: #000000; stroke-opacity: 0.3; stroke-width: 0.25; stroke-linecap: square\"/>\n     </g>\n     <g id=\"line2d_150\">\n      <g>\n       <use xlink:href=\"#mf28f4315e8\" x=\"50.355937\" y=\"151.556414\" style=\"stroke: #000000; stroke-width: 0.6\"/>\n      </g>\n     </g>\n    </g>\n    <g id=\"ytick_34\">\n     <g id=\"line2d_151\">\n      <path d=\"M 50.355937 144.277466 \nL 402.676533 144.277466 \n\" clip-path=\"url(#p4393191930)\" style=\"fill: none; stroke: #000000; stroke-opacity: 0.3; stroke-width: 0.25; stroke-linecap: square\"/>\n     </g>\n     <g id=\"line2d_152\">\n      <g>\n       <use xlink:href=\"#mf28f4315e8\" x=\"50.355937\" y=\"144.277466\" style=\"stroke: #000000; stroke-width: 0.6\"/>\n      </g>\n     </g>\n    </g>\n    <g id=\"ytick_35\">\n     <g id=\"line2d_153\">\n      <path d=\"M 50.355937 140.581372 \nL 402.676533 140.581372 \n\" clip-path=\"url(#p4393191930)\" style=\"fill: none; stroke: #000000; stroke-opacity: 0.3; stroke-width: 0.25; stroke-linecap: square\"/>\n     </g>\n     <g id=\"line2d_154\">\n      <g>\n       <use xlink:href=\"#mf28f4315e8\" x=\"50.355937\" y=\"140.581372\" style=\"stroke: #000000; stroke-width: 0.6\"/>\n      </g>\n     </g>\n    </g>\n    <g id=\"ytick_36\">\n     <g id=\"line2d_155\">\n      <path d=\"M 50.355937 137.958952 \nL 402.676533 137.958952 \n\" clip-path=\"url(#p4393191930)\" style=\"fill: none; stroke: #000000; stroke-opacity: 0.3; stroke-width: 0.25; stroke-linecap: square\"/>\n     </g>\n     <g id=\"line2d_156\">\n      <g>\n       <use xlink:href=\"#mf28f4315e8\" x=\"50.355937\" y=\"137.958952\" style=\"stroke: #000000; stroke-width: 0.6\"/>\n      </g>\n     </g>\n    </g>\n    <g id=\"ytick_37\">\n     <g id=\"line2d_157\">\n      <path d=\"M 50.355937 135.924845 \nL 402.676533 135.924845 \n\" clip-path=\"url(#p4393191930)\" style=\"fill: none; stroke: #000000; stroke-opacity: 0.3; stroke-width: 0.25; stroke-linecap: square\"/>\n     </g>\n     <g id=\"line2d_158\">\n      <g>\n       <use xlink:href=\"#mf28f4315e8\" x=\"50.355937\" y=\"135.924845\" style=\"stroke: #000000; stroke-width: 0.6\"/>\n      </g>\n     </g>\n    </g>\n    <g id=\"ytick_38\">\n     <g id=\"line2d_159\">\n      <path d=\"M 50.355937 134.262858 \nL 402.676533 134.262858 \n\" clip-path=\"url(#p4393191930)\" style=\"fill: none; stroke: #000000; stroke-opacity: 0.3; stroke-width: 0.25; stroke-linecap: square\"/>\n     </g>\n     <g id=\"line2d_160\">\n      <g>\n       <use xlink:href=\"#mf28f4315e8\" x=\"50.355937\" y=\"134.262858\" style=\"stroke: #000000; stroke-width: 0.6\"/>\n      </g>\n     </g>\n    </g>\n    <g id=\"ytick_39\">\n     <g id=\"line2d_161\">\n      <path d=\"M 50.355937 132.857668 \nL 402.676533 132.857668 \n\" clip-path=\"url(#p4393191930)\" style=\"fill: none; stroke: #000000; stroke-opacity: 0.3; stroke-width: 0.25; stroke-linecap: square\"/>\n     </g>\n     <g id=\"line2d_162\">\n      <g>\n       <use xlink:href=\"#mf28f4315e8\" x=\"50.355937\" y=\"132.857668\" style=\"stroke: #000000; stroke-width: 0.6\"/>\n      </g>\n     </g>\n    </g>\n    <g id=\"ytick_40\">\n     <g id=\"line2d_163\">\n      <path d=\"M 50.355937 131.640438 \nL 402.676533 131.640438 \n\" clip-path=\"url(#p4393191930)\" style=\"fill: none; stroke: #000000; stroke-opacity: 0.3; stroke-width: 0.25; stroke-linecap: square\"/>\n     </g>\n     <g id=\"line2d_164\">\n      <g>\n       <use xlink:href=\"#mf28f4315e8\" x=\"50.355937\" y=\"131.640438\" style=\"stroke: #000000; stroke-width: 0.6\"/>\n      </g>\n     </g>\n    </g>\n    <g id=\"ytick_41\">\n     <g id=\"line2d_165\">\n      <path d=\"M 50.355937 130.566764 \nL 402.676533 130.566764 \n\" clip-path=\"url(#p4393191930)\" style=\"fill: none; stroke: #000000; stroke-opacity: 0.3; stroke-width: 0.25; stroke-linecap: square\"/>\n     </g>\n     <g id=\"line2d_166\">\n      <g>\n       <use xlink:href=\"#mf28f4315e8\" x=\"50.355937\" y=\"130.566764\" style=\"stroke: #000000; stroke-width: 0.6\"/>\n      </g>\n     </g>\n    </g>\n    <g id=\"ytick_42\">\n     <g id=\"line2d_167\">\n      <path d=\"M 50.355937 123.287816 \nL 402.676533 123.287816 \n\" clip-path=\"url(#p4393191930)\" style=\"fill: none; stroke: #000000; stroke-opacity: 0.3; stroke-width: 0.25; stroke-linecap: square\"/>\n     </g>\n     <g id=\"line2d_168\">\n      <g>\n       <use xlink:href=\"#mf28f4315e8\" x=\"50.355937\" y=\"123.287816\" style=\"stroke: #000000; stroke-width: 0.6\"/>\n      </g>\n     </g>\n    </g>\n    <g id=\"ytick_43\">\n     <g id=\"line2d_169\">\n      <path d=\"M 50.355937 119.591723 \nL 402.676533 119.591723 \n\" clip-path=\"url(#p4393191930)\" style=\"fill: none; stroke: #000000; stroke-opacity: 0.3; stroke-width: 0.25; stroke-linecap: square\"/>\n     </g>\n     <g id=\"line2d_170\">\n      <g>\n       <use xlink:href=\"#mf28f4315e8\" x=\"50.355937\" y=\"119.591723\" style=\"stroke: #000000; stroke-width: 0.6\"/>\n      </g>\n     </g>\n    </g>\n    <g id=\"ytick_44\">\n     <g id=\"line2d_171\">\n      <path d=\"M 50.355937 116.969302 \nL 402.676533 116.969302 \n\" clip-path=\"url(#p4393191930)\" style=\"fill: none; stroke: #000000; stroke-opacity: 0.3; stroke-width: 0.25; stroke-linecap: square\"/>\n     </g>\n     <g id=\"line2d_172\">\n      <g>\n       <use xlink:href=\"#mf28f4315e8\" x=\"50.355937\" y=\"116.969302\" style=\"stroke: #000000; stroke-width: 0.6\"/>\n      </g>\n     </g>\n    </g>\n    <g id=\"ytick_45\">\n     <g id=\"line2d_173\">\n      <path d=\"M 50.355937 114.935195 \nL 402.676533 114.935195 \n\" clip-path=\"url(#p4393191930)\" style=\"fill: none; stroke: #000000; stroke-opacity: 0.3; stroke-width: 0.25; stroke-linecap: square\"/>\n     </g>\n     <g id=\"line2d_174\">\n      <g>\n       <use xlink:href=\"#mf28f4315e8\" x=\"50.355937\" y=\"114.935195\" style=\"stroke: #000000; stroke-width: 0.6\"/>\n      </g>\n     </g>\n    </g>\n    <g id=\"ytick_46\">\n     <g id=\"line2d_175\">\n      <path d=\"M 50.355937 113.273208 \nL 402.676533 113.273208 \n\" clip-path=\"url(#p4393191930)\" style=\"fill: none; stroke: #000000; stroke-opacity: 0.3; stroke-width: 0.25; stroke-linecap: square\"/>\n     </g>\n     <g id=\"line2d_176\">\n      <g>\n       <use xlink:href=\"#mf28f4315e8\" x=\"50.355937\" y=\"113.273208\" style=\"stroke: #000000; stroke-width: 0.6\"/>\n      </g>\n     </g>\n    </g>\n    <g id=\"ytick_47\">\n     <g id=\"line2d_177\">\n      <path d=\"M 50.355937 111.868019 \nL 402.676533 111.868019 \n\" clip-path=\"url(#p4393191930)\" style=\"fill: none; stroke: #000000; stroke-opacity: 0.3; stroke-width: 0.25; stroke-linecap: square\"/>\n     </g>\n     <g id=\"line2d_178\">\n      <g>\n       <use xlink:href=\"#mf28f4315e8\" x=\"50.355937\" y=\"111.868019\" style=\"stroke: #000000; stroke-width: 0.6\"/>\n      </g>\n     </g>\n    </g>\n    <g id=\"ytick_48\">\n     <g id=\"line2d_179\">\n      <path d=\"M 50.355937 110.650788 \nL 402.676533 110.650788 \n\" clip-path=\"url(#p4393191930)\" style=\"fill: none; stroke: #000000; stroke-opacity: 0.3; stroke-width: 0.25; stroke-linecap: square\"/>\n     </g>\n     <g id=\"line2d_180\">\n      <g>\n       <use xlink:href=\"#mf28f4315e8\" x=\"50.355937\" y=\"110.650788\" style=\"stroke: #000000; stroke-width: 0.6\"/>\n      </g>\n     </g>\n    </g>\n    <g id=\"ytick_49\">\n     <g id=\"line2d_181\">\n      <path d=\"M 50.355937 109.577115 \nL 402.676533 109.577115 \n\" clip-path=\"url(#p4393191930)\" style=\"fill: none; stroke: #000000; stroke-opacity: 0.3; stroke-width: 0.25; stroke-linecap: square\"/>\n     </g>\n     <g id=\"line2d_182\">\n      <g>\n       <use xlink:href=\"#mf28f4315e8\" x=\"50.355937\" y=\"109.577115\" style=\"stroke: #000000; stroke-width: 0.6\"/>\n      </g>\n     </g>\n    </g>\n    <g id=\"ytick_50\">\n     <g id=\"line2d_183\">\n      <path d=\"M 50.355937 102.298167 \nL 402.676533 102.298167 \n\" clip-path=\"url(#p4393191930)\" style=\"fill: none; stroke: #000000; stroke-opacity: 0.3; stroke-width: 0.25; stroke-linecap: square\"/>\n     </g>\n     <g id=\"line2d_184\">\n      <g>\n       <use xlink:href=\"#mf28f4315e8\" x=\"50.355937\" y=\"102.298167\" style=\"stroke: #000000; stroke-width: 0.6\"/>\n      </g>\n     </g>\n    </g>\n    <g id=\"ytick_51\">\n     <g id=\"line2d_185\">\n      <path d=\"M 50.355937 98.602073 \nL 402.676533 98.602073 \n\" clip-path=\"url(#p4393191930)\" style=\"fill: none; stroke: #000000; stroke-opacity: 0.3; stroke-width: 0.25; stroke-linecap: square\"/>\n     </g>\n     <g id=\"line2d_186\">\n      <g>\n       <use xlink:href=\"#mf28f4315e8\" x=\"50.355937\" y=\"98.602073\" style=\"stroke: #000000; stroke-width: 0.6\"/>\n      </g>\n     </g>\n    </g>\n    <g id=\"ytick_52\">\n     <g id=\"line2d_187\">\n      <path d=\"M 50.355937 95.979653 \nL 402.676533 95.979653 \n\" clip-path=\"url(#p4393191930)\" style=\"fill: none; stroke: #000000; stroke-opacity: 0.3; stroke-width: 0.25; stroke-linecap: square\"/>\n     </g>\n     <g id=\"line2d_188\">\n      <g>\n       <use xlink:href=\"#mf28f4315e8\" x=\"50.355937\" y=\"95.979653\" style=\"stroke: #000000; stroke-width: 0.6\"/>\n      </g>\n     </g>\n    </g>\n    <g id=\"ytick_53\">\n     <g id=\"line2d_189\">\n      <path d=\"M 50.355937 93.945545 \nL 402.676533 93.945545 \n\" clip-path=\"url(#p4393191930)\" style=\"fill: none; stroke: #000000; stroke-opacity: 0.3; stroke-width: 0.25; stroke-linecap: square\"/>\n     </g>\n     <g id=\"line2d_190\">\n      <g>\n       <use xlink:href=\"#mf28f4315e8\" x=\"50.355937\" y=\"93.945545\" style=\"stroke: #000000; stroke-width: 0.6\"/>\n      </g>\n     </g>\n    </g>\n    <g id=\"ytick_54\">\n     <g id=\"line2d_191\">\n      <path d=\"M 50.355937 92.283559 \nL 402.676533 92.283559 \n\" clip-path=\"url(#p4393191930)\" style=\"fill: none; stroke: #000000; stroke-opacity: 0.3; stroke-width: 0.25; stroke-linecap: square\"/>\n     </g>\n     <g id=\"line2d_192\">\n      <g>\n       <use xlink:href=\"#mf28f4315e8\" x=\"50.355937\" y=\"92.283559\" style=\"stroke: #000000; stroke-width: 0.6\"/>\n      </g>\n     </g>\n    </g>\n    <g id=\"ytick_55\">\n     <g id=\"line2d_193\">\n      <path d=\"M 50.355937 90.878369 \nL 402.676533 90.878369 \n\" clip-path=\"url(#p4393191930)\" style=\"fill: none; stroke: #000000; stroke-opacity: 0.3; stroke-width: 0.25; stroke-linecap: square\"/>\n     </g>\n     <g id=\"line2d_194\">\n      <g>\n       <use xlink:href=\"#mf28f4315e8\" x=\"50.355937\" y=\"90.878369\" style=\"stroke: #000000; stroke-width: 0.6\"/>\n      </g>\n     </g>\n    </g>\n    <g id=\"ytick_56\">\n     <g id=\"line2d_195\">\n      <path d=\"M 50.355937 89.661138 \nL 402.676533 89.661138 \n\" clip-path=\"url(#p4393191930)\" style=\"fill: none; stroke: #000000; stroke-opacity: 0.3; stroke-width: 0.25; stroke-linecap: square\"/>\n     </g>\n     <g id=\"line2d_196\">\n      <g>\n       <use xlink:href=\"#mf28f4315e8\" x=\"50.355937\" y=\"89.661138\" style=\"stroke: #000000; stroke-width: 0.6\"/>\n      </g>\n     </g>\n    </g>\n    <g id=\"ytick_57\">\n     <g id=\"line2d_197\">\n      <path d=\"M 50.355937 88.587465 \nL 402.676533 88.587465 \n\" clip-path=\"url(#p4393191930)\" style=\"fill: none; stroke: #000000; stroke-opacity: 0.3; stroke-width: 0.25; stroke-linecap: square\"/>\n     </g>\n     <g id=\"line2d_198\">\n      <g>\n       <use xlink:href=\"#mf28f4315e8\" x=\"50.355937\" y=\"88.587465\" style=\"stroke: #000000; stroke-width: 0.6\"/>\n      </g>\n     </g>\n    </g>\n    <g id=\"ytick_58\">\n     <g id=\"line2d_199\">\n      <path d=\"M 50.355937 81.308517 \nL 402.676533 81.308517 \n\" clip-path=\"url(#p4393191930)\" style=\"fill: none; stroke: #000000; stroke-opacity: 0.3; stroke-width: 0.25; stroke-linecap: square\"/>\n     </g>\n     <g id=\"line2d_200\">\n      <g>\n       <use xlink:href=\"#mf28f4315e8\" x=\"50.355937\" y=\"81.308517\" style=\"stroke: #000000; stroke-width: 0.6\"/>\n      </g>\n     </g>\n    </g>\n    <g id=\"ytick_59\">\n     <g id=\"line2d_201\">\n      <path d=\"M 50.355937 77.612423 \nL 402.676533 77.612423 \n\" clip-path=\"url(#p4393191930)\" style=\"fill: none; stroke: #000000; stroke-opacity: 0.3; stroke-width: 0.25; stroke-linecap: square\"/>\n     </g>\n     <g id=\"line2d_202\">\n      <g>\n       <use xlink:href=\"#mf28f4315e8\" x=\"50.355937\" y=\"77.612423\" style=\"stroke: #000000; stroke-width: 0.6\"/>\n      </g>\n     </g>\n    </g>\n    <g id=\"ytick_60\">\n     <g id=\"line2d_203\">\n      <path d=\"M 50.355937 74.990003 \nL 402.676533 74.990003 \n\" clip-path=\"url(#p4393191930)\" style=\"fill: none; stroke: #000000; stroke-opacity: 0.3; stroke-width: 0.25; stroke-linecap: square\"/>\n     </g>\n     <g id=\"line2d_204\">\n      <g>\n       <use xlink:href=\"#mf28f4315e8\" x=\"50.355937\" y=\"74.990003\" style=\"stroke: #000000; stroke-width: 0.6\"/>\n      </g>\n     </g>\n    </g>\n    <g id=\"ytick_61\">\n     <g id=\"line2d_205\">\n      <path d=\"M 50.355937 72.955896 \nL 402.676533 72.955896 \n\" clip-path=\"url(#p4393191930)\" style=\"fill: none; stroke: #000000; stroke-opacity: 0.3; stroke-width: 0.25; stroke-linecap: square\"/>\n     </g>\n     <g id=\"line2d_206\">\n      <g>\n       <use xlink:href=\"#mf28f4315e8\" x=\"50.355937\" y=\"72.955896\" style=\"stroke: #000000; stroke-width: 0.6\"/>\n      </g>\n     </g>\n    </g>\n    <g id=\"ytick_62\">\n     <g id=\"line2d_207\">\n      <path d=\"M 50.355937 71.293909 \nL 402.676533 71.293909 \n\" clip-path=\"url(#p4393191930)\" style=\"fill: none; stroke: #000000; stroke-opacity: 0.3; stroke-width: 0.25; stroke-linecap: square\"/>\n     </g>\n     <g id=\"line2d_208\">\n      <g>\n       <use xlink:href=\"#mf28f4315e8\" x=\"50.355937\" y=\"71.293909\" style=\"stroke: #000000; stroke-width: 0.6\"/>\n      </g>\n     </g>\n    </g>\n    <g id=\"ytick_63\">\n     <g id=\"line2d_209\">\n      <path d=\"M 50.355937 69.888719 \nL 402.676533 69.888719 \n\" clip-path=\"url(#p4393191930)\" style=\"fill: none; stroke: #000000; stroke-opacity: 0.3; stroke-width: 0.25; stroke-linecap: square\"/>\n     </g>\n     <g id=\"line2d_210\">\n      <g>\n       <use xlink:href=\"#mf28f4315e8\" x=\"50.355937\" y=\"69.888719\" style=\"stroke: #000000; stroke-width: 0.6\"/>\n      </g>\n     </g>\n    </g>\n    <g id=\"ytick_64\">\n     <g id=\"line2d_211\">\n      <path d=\"M 50.355937 68.671489 \nL 402.676533 68.671489 \n\" clip-path=\"url(#p4393191930)\" style=\"fill: none; stroke: #000000; stroke-opacity: 0.3; stroke-width: 0.25; stroke-linecap: square\"/>\n     </g>\n     <g id=\"line2d_212\">\n      <g>\n       <use xlink:href=\"#mf28f4315e8\" x=\"50.355937\" y=\"68.671489\" style=\"stroke: #000000; stroke-width: 0.6\"/>\n      </g>\n     </g>\n    </g>\n    <g id=\"ytick_65\">\n     <g id=\"line2d_213\">\n      <path d=\"M 50.355937 67.597815 \nL 402.676533 67.597815 \n\" clip-path=\"url(#p4393191930)\" style=\"fill: none; stroke: #000000; stroke-opacity: 0.3; stroke-width: 0.25; stroke-linecap: square\"/>\n     </g>\n     <g id=\"line2d_214\">\n      <g>\n       <use xlink:href=\"#mf28f4315e8\" x=\"50.355937\" y=\"67.597815\" style=\"stroke: #000000; stroke-width: 0.6\"/>\n      </g>\n     </g>\n    </g>\n    <g id=\"ytick_66\">\n     <g id=\"line2d_215\">\n      <path d=\"M 50.355937 60.318867 \nL 402.676533 60.318867 \n\" clip-path=\"url(#p4393191930)\" style=\"fill: none; stroke: #000000; stroke-opacity: 0.3; stroke-width: 0.25; stroke-linecap: square\"/>\n     </g>\n     <g id=\"line2d_216\">\n      <g>\n       <use xlink:href=\"#mf28f4315e8\" x=\"50.355937\" y=\"60.318867\" style=\"stroke: #000000; stroke-width: 0.6\"/>\n      </g>\n     </g>\n    </g>\n    <g id=\"ytick_67\">\n     <g id=\"line2d_217\">\n      <path d=\"M 50.355937 56.622773 \nL 402.676533 56.622773 \n\" clip-path=\"url(#p4393191930)\" style=\"fill: none; stroke: #000000; stroke-opacity: 0.3; stroke-width: 0.25; stroke-linecap: square\"/>\n     </g>\n     <g id=\"line2d_218\">\n      <g>\n       <use xlink:href=\"#mf28f4315e8\" x=\"50.355937\" y=\"56.622773\" style=\"stroke: #000000; stroke-width: 0.6\"/>\n      </g>\n     </g>\n    </g>\n    <g id=\"ytick_68\">\n     <g id=\"line2d_219\">\n      <path d=\"M 50.355937 54.000353 \nL 402.676533 54.000353 \n\" clip-path=\"url(#p4393191930)\" style=\"fill: none; stroke: #000000; stroke-opacity: 0.3; stroke-width: 0.25; stroke-linecap: square\"/>\n     </g>\n     <g id=\"line2d_220\">\n      <g>\n       <use xlink:href=\"#mf28f4315e8\" x=\"50.355937\" y=\"54.000353\" style=\"stroke: #000000; stroke-width: 0.6\"/>\n      </g>\n     </g>\n    </g>\n    <g id=\"ytick_69\">\n     <g id=\"line2d_221\">\n      <path d=\"M 50.355937 51.966246 \nL 402.676533 51.966246 \n\" clip-path=\"url(#p4393191930)\" style=\"fill: none; stroke: #000000; stroke-opacity: 0.3; stroke-width: 0.25; stroke-linecap: square\"/>\n     </g>\n     <g id=\"line2d_222\">\n      <g>\n       <use xlink:href=\"#mf28f4315e8\" x=\"50.355937\" y=\"51.966246\" style=\"stroke: #000000; stroke-width: 0.6\"/>\n      </g>\n     </g>\n    </g>\n    <g id=\"ytick_70\">\n     <g id=\"line2d_223\">\n      <path d=\"M 50.355937 50.304259 \nL 402.676533 50.304259 \n\" clip-path=\"url(#p4393191930)\" style=\"fill: none; stroke: #000000; stroke-opacity: 0.3; stroke-width: 0.25; stroke-linecap: square\"/>\n     </g>\n     <g id=\"line2d_224\">\n      <g>\n       <use xlink:href=\"#mf28f4315e8\" x=\"50.355937\" y=\"50.304259\" style=\"stroke: #000000; stroke-width: 0.6\"/>\n      </g>\n     </g>\n    </g>\n    <g id=\"ytick_71\">\n     <g id=\"line2d_225\">\n      <path d=\"M 50.355937 48.89907 \nL 402.676533 48.89907 \n\" clip-path=\"url(#p4393191930)\" style=\"fill: none; stroke: #000000; stroke-opacity: 0.3; stroke-width: 0.25; stroke-linecap: square\"/>\n     </g>\n     <g id=\"line2d_226\">\n      <g>\n       <use xlink:href=\"#mf28f4315e8\" x=\"50.355937\" y=\"48.89907\" style=\"stroke: #000000; stroke-width: 0.6\"/>\n      </g>\n     </g>\n    </g>\n    <g id=\"ytick_72\">\n     <g id=\"line2d_227\">\n      <path d=\"M 50.355937 47.681839 \nL 402.676533 47.681839 \n\" clip-path=\"url(#p4393191930)\" style=\"fill: none; stroke: #000000; stroke-opacity: 0.3; stroke-width: 0.25; stroke-linecap: square\"/>\n     </g>\n     <g id=\"line2d_228\">\n      <g>\n       <use xlink:href=\"#mf28f4315e8\" x=\"50.355937\" y=\"47.681839\" style=\"stroke: #000000; stroke-width: 0.6\"/>\n      </g>\n     </g>\n    </g>\n    <g id=\"ytick_73\">\n     <g id=\"line2d_229\">\n      <path d=\"M 50.355937 46.608165 \nL 402.676533 46.608165 \n\" clip-path=\"url(#p4393191930)\" style=\"fill: none; stroke: #000000; stroke-opacity: 0.3; stroke-width: 0.25; stroke-linecap: square\"/>\n     </g>\n     <g id=\"line2d_230\">\n      <g>\n       <use xlink:href=\"#mf28f4315e8\" x=\"50.355937\" y=\"46.608165\" style=\"stroke: #000000; stroke-width: 0.6\"/>\n      </g>\n     </g>\n    </g>\n    <g id=\"ytick_74\">\n     <g id=\"line2d_231\">\n      <path d=\"M 50.355937 39.329217 \nL 402.676533 39.329217 \n\" clip-path=\"url(#p4393191930)\" style=\"fill: none; stroke: #000000; stroke-opacity: 0.3; stroke-width: 0.25; stroke-linecap: square\"/>\n     </g>\n     <g id=\"line2d_232\">\n      <g>\n       <use xlink:href=\"#mf28f4315e8\" x=\"50.355937\" y=\"39.329217\" style=\"stroke: #000000; stroke-width: 0.6\"/>\n      </g>\n     </g>\n    </g>\n    <g id=\"ytick_75\">\n     <g id=\"line2d_233\">\n      <path d=\"M 50.355937 35.633124 \nL 402.676533 35.633124 \n\" clip-path=\"url(#p4393191930)\" style=\"fill: none; stroke: #000000; stroke-opacity: 0.3; stroke-width: 0.25; stroke-linecap: square\"/>\n     </g>\n     <g id=\"line2d_234\">\n      <g>\n       <use xlink:href=\"#mf28f4315e8\" x=\"50.355937\" y=\"35.633124\" style=\"stroke: #000000; stroke-width: 0.6\"/>\n      </g>\n     </g>\n    </g>\n    <g id=\"ytick_76\">\n     <g id=\"line2d_235\">\n      <path d=\"M 50.355937 33.010703 \nL 402.676533 33.010703 \n\" clip-path=\"url(#p4393191930)\" style=\"fill: none; stroke: #000000; stroke-opacity: 0.3; stroke-width: 0.25; stroke-linecap: square\"/>\n     </g>\n     <g id=\"line2d_236\">\n      <g>\n       <use xlink:href=\"#mf28f4315e8\" x=\"50.355937\" y=\"33.010703\" style=\"stroke: #000000; stroke-width: 0.6\"/>\n      </g>\n     </g>\n    </g>\n    <g id=\"ytick_77\">\n     <g id=\"line2d_237\">\n      <path d=\"M 50.355937 30.976596 \nL 402.676533 30.976596 \n\" clip-path=\"url(#p4393191930)\" style=\"fill: none; stroke: #000000; stroke-opacity: 0.3; stroke-width: 0.25; stroke-linecap: square\"/>\n     </g>\n     <g id=\"line2d_238\">\n      <g>\n       <use xlink:href=\"#mf28f4315e8\" x=\"50.355937\" y=\"30.976596\" style=\"stroke: #000000; stroke-width: 0.6\"/>\n      </g>\n     </g>\n    </g>\n    <g id=\"ytick_78\">\n     <g id=\"line2d_239\">\n      <path d=\"M 50.355937 29.314609 \nL 402.676533 29.314609 \n\" clip-path=\"url(#p4393191930)\" style=\"fill: none; stroke: #000000; stroke-opacity: 0.3; stroke-width: 0.25; stroke-linecap: square\"/>\n     </g>\n     <g id=\"line2d_240\">\n      <g>\n       <use xlink:href=\"#mf28f4315e8\" x=\"50.355937\" y=\"29.314609\" style=\"stroke: #000000; stroke-width: 0.6\"/>\n      </g>\n     </g>\n    </g>\n    <g id=\"ytick_79\">\n     <g id=\"line2d_241\">\n      <path d=\"M 50.355937 27.90942 \nL 402.676533 27.90942 \n\" clip-path=\"url(#p4393191930)\" style=\"fill: none; stroke: #000000; stroke-opacity: 0.3; stroke-width: 0.25; stroke-linecap: square\"/>\n     </g>\n     <g id=\"line2d_242\">\n      <g>\n       <use xlink:href=\"#mf28f4315e8\" x=\"50.355937\" y=\"27.90942\" style=\"stroke: #000000; stroke-width: 0.6\"/>\n      </g>\n     </g>\n    </g>\n    <g id=\"ytick_80\">\n     <g id=\"line2d_243\">\n      <path d=\"M 50.355937 26.692189 \nL 402.676533 26.692189 \n\" clip-path=\"url(#p4393191930)\" style=\"fill: none; stroke: #000000; stroke-opacity: 0.3; stroke-width: 0.25; stroke-linecap: square\"/>\n     </g>\n     <g id=\"line2d_244\">\n      <g>\n       <use xlink:href=\"#mf28f4315e8\" x=\"50.355937\" y=\"26.692189\" style=\"stroke: #000000; stroke-width: 0.6\"/>\n      </g>\n     </g>\n    </g>\n    <g id=\"ytick_81\">\n     <g id=\"line2d_245\">\n      <path d=\"M 50.355937 25.618516 \nL 402.676533 25.618516 \n\" clip-path=\"url(#p4393191930)\" style=\"fill: none; stroke: #000000; stroke-opacity: 0.3; stroke-width: 0.25; stroke-linecap: square\"/>\n     </g>\n     <g id=\"line2d_246\">\n      <g>\n       <use xlink:href=\"#mf28f4315e8\" x=\"50.355937\" y=\"25.618516\" style=\"stroke: #000000; stroke-width: 0.6\"/>\n      </g>\n     </g>\n    </g>\n    <g id=\"text_16\">\n     <!-- sd -->\n     <g transform=\"translate(11.958281 122.081672) rotate(-90) scale(0.11 -0.11)\">\n      <defs>\n       <path id=\"DejaVuSerif-73\" d=\"M 359 184 \nL 359 959 \nL 691 959 \nQ 703 588 923 403 \nQ 1144 219 1575 219 \nQ 1963 219 2166 364 \nQ 2369 509 2369 788 \nQ 2369 1006 2220 1140 \nQ 2072 1275 1594 1428 \nL 1178 1569 \nQ 750 1706 558 1912 \nQ 366 2119 366 2438 \nQ 366 2894 700 3153 \nQ 1034 3413 1625 3413 \nQ 1888 3413 2178 3344 \nQ 2469 3275 2778 3144 \nL 2778 2419 \nL 2447 2419 \nQ 2434 2741 2221 2922 \nQ 2009 3103 1644 3103 \nQ 1281 3103 1095 2975 \nQ 909 2847 909 2591 \nQ 909 2381 1050 2254 \nQ 1191 2128 1613 1997 \nL 2069 1856 \nQ 2541 1709 2748 1489 \nQ 2956 1269 2956 922 \nQ 2956 450 2595 179 \nQ 2234 -91 1600 -91 \nQ 1278 -91 972 -22 \nQ 666 47 359 184 \nz\n\" transform=\"scale(0.015625)\"/>\n       <path id=\"DejaVuSerif-64\" d=\"M 3359 331 \nL 3909 331 \nL 3909 0 \nL 2784 0 \nL 2784 519 \nQ 2616 206 2355 57 \nQ 2094 -91 1709 -91 \nQ 1097 -91 708 395 \nQ 319 881 319 1663 \nQ 319 2444 706 2928 \nQ 1094 3413 1709 3413 \nQ 2094 3413 2355 3264 \nQ 2616 3116 2784 2803 \nL 2784 4531 \nL 2241 4531 \nL 2241 4863 \nL 3359 4863 \nL 3359 331 \nz\nM 2784 1497 \nL 2784 1825 \nQ 2784 2422 2554 2737 \nQ 2325 3053 1888 3053 \nQ 1444 3053 1217 2703 \nQ 991 2353 991 1663 \nQ 991 975 1217 622 \nQ 1444 269 1888 269 \nQ 2325 269 2554 583 \nQ 2784 897 2784 1497 \nz\n\" transform=\"scale(0.015625)\"/>\n      </defs>\n      <use xlink:href=\"#DejaVuSerif-73\"/>\n      <use xlink:href=\"#DejaVuSerif-64\" transform=\"translate(51.318359 0)\"/>\n     </g>\n    </g>\n   </g>\n   <g id=\"line2d_247\">\n    <path d=\"M 50.355937 27.53817 \nL 119.058454 97.910894 \nL 169.264139 149.552137 \nL 183.356962 164.328138 \nL 191.284176 172.909565 \nL 197.449786 179.911872 \nL 201.853794 185.252009 \nL 205.377 189.863489 \nL 208.900206 194.894403 \nL 213.304213 201.33616 \nL 214.185015 202.365646 \nL 215.065816 203.168333 \nL 215.946617 203.694975 \nL 216.827419 203.938821 \nL 217.70822 203.93908 \nL 219.469823 203.474949 \nL 224.754632 201.490784 \nL 227.397037 200.799176 \nL 230.039441 200.308249 \nL 233.562647 199.876635 \nL 237.966655 199.565492 \nL 244.132265 199.359244 \nL 255.582684 199.249558 \nL 296.980354 199.232427 \nL 366.563672 199.201284 \nL 367.444474 199.064444 \nL 368.325275 199.202546 \nL 372.729283 199.223261 \nL 402.676533 199.163965 \nL 402.676533 199.163965 \n\" clip-path=\"url(#p4393191930)\" style=\"fill: none; stroke: #0000ff; stroke-width: 1.5; stroke-linecap: square\"/>\n   </g>\n   <g id=\"patch_3\">\n    <path d=\"M 50.355937 212.759125 \nL 50.355937 18.718125 \n\" style=\"fill: none; stroke: #000000; stroke-width: 0.8; stroke-linejoin: miter; stroke-linecap: square\"/>\n   </g>\n   <g id=\"patch_4\">\n    <path d=\"M 402.676533 212.759125 \nL 402.676533 18.718125 \n\" style=\"fill: none; stroke: #000000; stroke-width: 0.8; stroke-linejoin: miter; stroke-linecap: square\"/>\n   </g>\n   <g id=\"patch_5\">\n    <path d=\"M 50.355937 212.759125 \nL 402.676533 212.759125 \n\" style=\"fill: none; stroke: #000000; stroke-width: 0.8; stroke-linejoin: miter; stroke-linecap: square\"/>\n   </g>\n   <g id=\"patch_6\">\n    <path d=\"M 50.355937 18.718125 \nL 402.676533 18.718125 \n\" style=\"fill: none; stroke: #000000; stroke-width: 0.8; stroke-linejoin: miter; stroke-linecap: square\"/>\n   </g>\n   <g id=\"text_17\">\n    <!-- Strain-equivalent noise spectrum due to laser frequency noise -->\n    <g transform=\"translate(37.00061 12.718125) scale(0.12 -0.12)\">\n     <defs>\n      <path id=\"DejaVuSerif-53\" d=\"M 594 225 \nL 594 1288 \nL 953 1284 \nQ 969 753 1261 498 \nQ 1553 244 2150 244 \nQ 2706 244 2998 464 \nQ 3291 684 3291 1106 \nQ 3291 1444 3114 1625 \nQ 2938 1806 2369 1978 \nL 1753 2163 \nQ 1084 2366 811 2669 \nQ 538 2972 538 3500 \nQ 538 4094 959 4422 \nQ 1381 4750 2144 4750 \nQ 2469 4750 2856 4679 \nQ 3244 4609 3681 4475 \nL 3681 3481 \nL 3328 3481 \nQ 3275 3975 2998 4195 \nQ 2722 4416 2156 4416 \nQ 1663 4416 1405 4214 \nQ 1147 4013 1147 3628 \nQ 1147 3294 1340 3103 \nQ 1534 2913 2163 2725 \nL 2741 2553 \nQ 3375 2363 3645 2067 \nQ 3916 1772 3916 1275 \nQ 3916 597 3481 253 \nQ 3047 -91 2188 -91 \nQ 1803 -91 1404 -12 \nQ 1006 66 594 225 \nz\n\" transform=\"scale(0.015625)\"/>\n      <path id=\"DejaVuSerif-74\" d=\"M 691 2988 \nL 184 2988 \nL 184 3322 \nL 691 3322 \nL 691 4353 \nL 1269 4353 \nL 1269 3322 \nL 2350 3322 \nL 2350 2988 \nL 1269 2988 \nL 1269 878 \nQ 1269 456 1350 337 \nQ 1431 219 1650 219 \nQ 1875 219 1978 351 \nQ 2081 484 2088 781 \nL 2522 781 \nQ 2497 328 2275 118 \nQ 2053 -91 1600 -91 \nQ 1103 -91 897 129 \nQ 691 350 691 878 \nL 691 2988 \nz\n\" transform=\"scale(0.015625)\"/>\n      <path id=\"DejaVuSerif-61\" d=\"M 2547 1044 \nL 2547 1747 \nL 1806 1747 \nQ 1378 1747 1168 1562 \nQ 959 1378 959 997 \nQ 959 650 1171 447 \nQ 1384 244 1747 244 \nQ 2106 244 2326 466 \nQ 2547 688 2547 1044 \nz\nM 3122 2075 \nL 3122 331 \nL 3634 331 \nL 3634 0 \nL 2547 0 \nL 2547 359 \nQ 2356 128 2106 18 \nQ 1856 -91 1522 -91 \nQ 969 -91 644 203 \nQ 319 497 319 997 \nQ 319 1513 691 1797 \nQ 1063 2081 1741 2081 \nL 2547 2081 \nL 2547 2309 \nQ 2547 2688 2317 2895 \nQ 2088 3103 1672 3103 \nQ 1328 3103 1125 2947 \nQ 922 2791 872 2484 \nL 575 2484 \nL 575 3156 \nQ 875 3284 1158 3348 \nQ 1441 3413 1709 3413 \nQ 2400 3413 2761 3070 \nQ 3122 2728 3122 2075 \nz\n\" transform=\"scale(0.015625)\"/>\n      <path id=\"DejaVuSerif-69\" d=\"M 622 4353 \nQ 622 4497 726 4603 \nQ 831 4709 978 4709 \nQ 1122 4709 1226 4603 \nQ 1331 4497 1331 4353 \nQ 1331 4206 1228 4103 \nQ 1125 4000 978 4000 \nQ 831 4000 726 4103 \nQ 622 4206 622 4353 \nz\nM 1356 331 \nL 1900 331 \nL 1900 0 \nL 231 0 \nL 231 331 \nL 781 331 \nL 781 2988 \nL 231 2988 \nL 231 3322 \nL 1356 3322 \nL 1356 331 \nz\n\" transform=\"scale(0.015625)\"/>\n      <path id=\"DejaVuSerif-6e\" d=\"M 263 0 \nL 263 331 \nL 781 331 \nL 781 2988 \nL 231 2988 \nL 231 3322 \nL 1356 3322 \nL 1356 2731 \nQ 1516 3069 1770 3241 \nQ 2025 3413 2363 3413 \nQ 2913 3413 3172 3097 \nQ 3431 2781 3431 2113 \nL 3431 331 \nL 3944 331 \nL 3944 0 \nL 2356 0 \nL 2356 331 \nL 2853 331 \nL 2853 1931 \nQ 2853 2541 2703 2767 \nQ 2553 2994 2175 2994 \nQ 1775 2994 1565 2701 \nQ 1356 2409 1356 1850 \nL 1356 331 \nL 1856 331 \nL 1856 0 \nL 263 0 \nz\n\" transform=\"scale(0.015625)\"/>\n      <path id=\"DejaVuSerif-2d\" d=\"M 281 1959 \nL 1881 1959 \nL 1881 1472 \nL 281 1472 \nL 281 1959 \nz\n\" transform=\"scale(0.015625)\"/>\n      <path id=\"DejaVuSerif-65\" d=\"M 3469 1600 \nL 991 1600 \nL 991 1575 \nQ 991 903 1244 561 \nQ 1497 219 1991 219 \nQ 2369 219 2611 417 \nQ 2853 616 2950 1006 \nL 3413 1006 \nQ 3275 459 2904 184 \nQ 2534 -91 1931 -91 \nQ 1203 -91 761 389 \nQ 319 869 319 1663 \nQ 319 2450 753 2931 \nQ 1188 3413 1894 3413 \nQ 2647 3413 3050 2948 \nQ 3453 2484 3469 1600 \nz\nM 2791 1931 \nQ 2772 2513 2545 2808 \nQ 2319 3103 1894 3103 \nQ 1497 3103 1269 2806 \nQ 1041 2509 991 1931 \nL 2791 1931 \nz\n\" transform=\"scale(0.015625)\"/>\n      <path id=\"DejaVuSerif-75\" d=\"M 2266 3322 \nL 3341 3322 \nL 3341 331 \nL 3884 331 \nL 3884 0 \nL 2766 0 \nL 2766 588 \nQ 2606 256 2353 82 \nQ 2100 -91 1766 -91 \nQ 1213 -91 952 223 \nQ 691 538 691 1209 \nL 691 2988 \nL 172 2988 \nL 172 3322 \nL 1269 3322 \nL 1269 1388 \nQ 1269 781 1417 556 \nQ 1566 331 1947 331 \nQ 2347 331 2556 625 \nQ 2766 919 2766 1478 \nL 2766 2988 \nL 2266 2988 \nL 2266 3322 \nz\n\" transform=\"scale(0.015625)\"/>\n      <path id=\"DejaVuSerif-76\" d=\"M 1581 0 \nL 359 2988 \nL -19 2988 \nL -19 3322 \nL 1509 3322 \nL 1509 2988 \nL 978 2988 \nL 1913 703 \nL 2847 2988 \nL 2350 2988 \nL 2350 3322 \nL 3597 3322 \nL 3597 2988 \nL 3225 2988 \nL 2003 0 \nL 1581 0 \nz\n\" transform=\"scale(0.015625)\"/>\n      <path id=\"DejaVuSerif-6c\" d=\"M 1313 331 \nL 1856 331 \nL 1856 0 \nL 184 0 \nL 184 331 \nL 738 331 \nL 738 4531 \nL 184 4531 \nL 184 4863 \nL 1313 4863 \nL 1313 331 \nz\n\" transform=\"scale(0.015625)\"/>\n      <path id=\"DejaVuSerif-20\" transform=\"scale(0.015625)\"/>\n      <path id=\"DejaVuSerif-6f\" d=\"M 1925 219 \nQ 2388 219 2623 584 \nQ 2859 950 2859 1663 \nQ 2859 2375 2623 2739 \nQ 2388 3103 1925 3103 \nQ 1463 3103 1227 2739 \nQ 991 2375 991 1663 \nQ 991 950 1228 584 \nQ 1466 219 1925 219 \nz\nM 1925 -91 \nQ 1200 -91 759 389 \nQ 319 869 319 1663 \nQ 319 2456 758 2934 \nQ 1197 3413 1925 3413 \nQ 2653 3413 3092 2934 \nQ 3531 2456 3531 1663 \nQ 3531 869 3092 389 \nQ 2653 -91 1925 -91 \nz\n\" transform=\"scale(0.015625)\"/>\n      <path id=\"DejaVuSerif-70\" d=\"M 1313 1825 \nL 1313 1497 \nQ 1313 897 1542 583 \nQ 1772 269 2209 269 \nQ 2650 269 2876 622 \nQ 3103 975 3103 1663 \nQ 3103 2353 2876 2703 \nQ 2650 3053 2209 3053 \nQ 1772 3053 1542 2737 \nQ 1313 2422 1313 1825 \nz\nM 738 2988 \nL 184 2988 \nL 184 3322 \nL 1313 3322 \nL 1313 2803 \nQ 1481 3116 1742 3264 \nQ 2003 3413 2388 3413 \nQ 3000 3413 3387 2928 \nQ 3775 2444 3775 1663 \nQ 3775 881 3387 395 \nQ 3000 -91 2388 -91 \nQ 2003 -91 1742 57 \nQ 1481 206 1313 519 \nL 1313 -997 \nL 1856 -997 \nL 1856 -1331 \nL 184 -1331 \nL 184 -997 \nL 738 -997 \nL 738 2988 \nz\n\" transform=\"scale(0.015625)\"/>\n      <path id=\"DejaVuSerif-63\" d=\"M 3291 997 \nQ 3169 466 2822 187 \nQ 2475 -91 1925 -91 \nQ 1200 -91 759 389 \nQ 319 869 319 1663 \nQ 319 2459 759 2936 \nQ 1200 3413 1925 3413 \nQ 2241 3413 2553 3339 \nQ 2866 3266 3181 3116 \nL 3181 2266 \nL 2847 2266 \nQ 2781 2703 2561 2903 \nQ 2341 3103 1931 3103 \nQ 1466 3103 1228 2742 \nQ 991 2381 991 1663 \nQ 991 944 1227 581 \nQ 1463 219 1931 219 \nQ 2303 219 2525 412 \nQ 2747 606 2828 997 \nL 3291 997 \nz\n\" transform=\"scale(0.015625)\"/>\n      <path id=\"DejaVuSerif-6d\" d=\"M 3316 2675 \nQ 3481 3041 3739 3227 \nQ 3997 3413 4341 3413 \nQ 4863 3413 5119 3089 \nQ 5375 2766 5375 2113 \nL 5375 331 \nL 5894 331 \nL 5894 0 \nL 4300 0 \nL 4300 331 \nL 4800 331 \nL 4800 2047 \nQ 4800 2556 4650 2772 \nQ 4500 2988 4153 2988 \nQ 3769 2988 3567 2697 \nQ 3366 2406 3366 1850 \nL 3366 331 \nL 3866 331 \nL 3866 0 \nL 2291 0 \nL 2291 331 \nL 2791 331 \nL 2791 2069 \nQ 2791 2566 2641 2777 \nQ 2491 2988 2144 2988 \nQ 1759 2988 1557 2697 \nQ 1356 2406 1356 1850 \nL 1356 331 \nL 1856 331 \nL 1856 0 \nL 263 0 \nL 263 331 \nL 781 331 \nL 781 2994 \nL 231 2994 \nL 231 3322 \nL 1356 3322 \nL 1356 2731 \nQ 1516 3063 1762 3238 \nQ 2009 3413 2322 3413 \nQ 2709 3413 2968 3220 \nQ 3228 3028 3316 2675 \nz\n\" transform=\"scale(0.015625)\"/>\n      <path id=\"DejaVuSerif-79\" d=\"M 1381 -609 \nL 1600 -56 \nL 359 2988 \nL -19 2988 \nL -19 3322 \nL 1509 3322 \nL 1509 2988 \nL 978 2988 \nL 1913 703 \nL 2847 2988 \nL 2350 2988 \nL 2350 3322 \nL 3597 3322 \nL 3597 2988 \nL 3225 2988 \nL 1703 -750 \nQ 1547 -1138 1356 -1280 \nQ 1166 -1422 819 -1422 \nQ 672 -1422 517 -1397 \nQ 363 -1372 206 -1325 \nL 206 -691 \nL 500 -691 \nQ 519 -903 608 -995 \nQ 697 -1088 884 -1088 \nQ 1056 -1088 1161 -992 \nQ 1266 -897 1381 -609 \nz\n\" transform=\"scale(0.015625)\"/>\n     </defs>\n     <use xlink:href=\"#DejaVuSerif-53\"/>\n     <use xlink:href=\"#DejaVuSerif-74\" transform=\"translate(68.505859 0)\"/>\n     <use xlink:href=\"#DejaVuSerif-72\" transform=\"translate(108.691406 0)\"/>\n     <use xlink:href=\"#DejaVuSerif-61\" transform=\"translate(156.494141 0)\"/>\n     <use xlink:href=\"#DejaVuSerif-69\" transform=\"translate(216.113281 0)\"/>\n     <use xlink:href=\"#DejaVuSerif-6e\" transform=\"translate(248.095703 0)\"/>\n     <use xlink:href=\"#DejaVuSerif-2d\" transform=\"translate(312.5 0)\"/>\n     <use xlink:href=\"#DejaVuSerif-65\" transform=\"translate(346.289062 0)\"/>\n     <use xlink:href=\"#DejaVuSerif-71\" transform=\"translate(405.46875 0)\"/>\n     <use xlink:href=\"#DejaVuSerif-75\" transform=\"translate(469.482422 0)\"/>\n     <use xlink:href=\"#DejaVuSerif-69\" transform=\"translate(533.886719 0)\"/>\n     <use xlink:href=\"#DejaVuSerif-76\" transform=\"translate(565.869141 0)\"/>\n     <use xlink:href=\"#DejaVuSerif-61\" transform=\"translate(622.363281 0)\"/>\n     <use xlink:href=\"#DejaVuSerif-6c\" transform=\"translate(681.982422 0)\"/>\n     <use xlink:href=\"#DejaVuSerif-65\" transform=\"translate(713.964844 0)\"/>\n     <use xlink:href=\"#DejaVuSerif-6e\" transform=\"translate(773.144531 0)\"/>\n     <use xlink:href=\"#DejaVuSerif-74\" transform=\"translate(837.548828 0)\"/>\n     <use xlink:href=\"#DejaVuSerif-20\" transform=\"translate(877.734375 0)\"/>\n     <use xlink:href=\"#DejaVuSerif-6e\" transform=\"translate(909.521484 0)\"/>\n     <use xlink:href=\"#DejaVuSerif-6f\" transform=\"translate(973.925781 0)\"/>\n     <use xlink:href=\"#DejaVuSerif-69\" transform=\"translate(1034.130859 0)\"/>\n     <use xlink:href=\"#DejaVuSerif-73\" transform=\"translate(1066.113281 0)\"/>\n     <use xlink:href=\"#DejaVuSerif-65\" transform=\"translate(1117.431641 0)\"/>\n     <use xlink:href=\"#DejaVuSerif-20\" transform=\"translate(1176.611328 0)\"/>\n     <use xlink:href=\"#DejaVuSerif-73\" transform=\"translate(1208.398438 0)\"/>\n     <use xlink:href=\"#DejaVuSerif-70\" transform=\"translate(1259.716797 0)\"/>\n     <use xlink:href=\"#DejaVuSerif-65\" transform=\"translate(1323.730469 0)\"/>\n     <use xlink:href=\"#DejaVuSerif-63\" transform=\"translate(1382.910156 0)\"/>\n     <use xlink:href=\"#DejaVuSerif-74\" transform=\"translate(1438.916016 0)\"/>\n     <use xlink:href=\"#DejaVuSerif-72\" transform=\"translate(1479.101562 0)\"/>\n     <use xlink:href=\"#DejaVuSerif-75\" transform=\"translate(1526.904297 0)\"/>\n     <use xlink:href=\"#DejaVuSerif-6d\" transform=\"translate(1591.308594 0)\"/>\n     <use xlink:href=\"#DejaVuSerif-20\" transform=\"translate(1686.132812 0)\"/>\n     <use xlink:href=\"#DejaVuSerif-64\" transform=\"translate(1717.919922 0)\"/>\n     <use xlink:href=\"#DejaVuSerif-75\" transform=\"translate(1781.933594 0)\"/>\n     <use xlink:href=\"#DejaVuSerif-65\" transform=\"translate(1846.337891 0)\"/>\n     <use xlink:href=\"#DejaVuSerif-20\" transform=\"translate(1905.517578 0)\"/>\n     <use xlink:href=\"#DejaVuSerif-74\" transform=\"translate(1937.304688 0)\"/>\n     <use xlink:href=\"#DejaVuSerif-6f\" transform=\"translate(1977.490234 0)\"/>\n     <use xlink:href=\"#DejaVuSerif-20\" transform=\"translate(2037.695312 0)\"/>\n     <use xlink:href=\"#DejaVuSerif-6c\" transform=\"translate(2069.482422 0)\"/>\n     <use xlink:href=\"#DejaVuSerif-61\" transform=\"translate(2101.464844 0)\"/>\n     <use xlink:href=\"#DejaVuSerif-73\" transform=\"translate(2161.083984 0)\"/>\n     <use xlink:href=\"#DejaVuSerif-65\" transform=\"translate(2212.402344 0)\"/>\n     <use xlink:href=\"#DejaVuSerif-72\" transform=\"translate(2271.582031 0)\"/>\n     <use xlink:href=\"#DejaVuSerif-20\" transform=\"translate(2319.384766 0)\"/>\n     <use xlink:href=\"#DejaVuSerif-66\" transform=\"translate(2351.171875 0)\"/>\n     <use xlink:href=\"#DejaVuSerif-72\" transform=\"translate(2388.183594 0)\"/>\n     <use xlink:href=\"#DejaVuSerif-65\" transform=\"translate(2435.986328 0)\"/>\n     <use xlink:href=\"#DejaVuSerif-71\" transform=\"translate(2495.166016 0)\"/>\n     <use xlink:href=\"#DejaVuSerif-75\" transform=\"translate(2559.179688 0)\"/>\n     <use xlink:href=\"#DejaVuSerif-65\" transform=\"translate(2623.583984 0)\"/>\n     <use xlink:href=\"#DejaVuSerif-6e\" transform=\"translate(2682.763672 0)\"/>\n     <use xlink:href=\"#DejaVuSerif-63\" transform=\"translate(2747.167969 0)\"/>\n     <use xlink:href=\"#DejaVuSerif-79\" transform=\"translate(2803.173828 0)\"/>\n     <use xlink:href=\"#DejaVuSerif-20\" transform=\"translate(2859.667969 0)\"/>\n     <use xlink:href=\"#DejaVuSerif-6e\" transform=\"translate(2891.455078 0)\"/>\n     <use xlink:href=\"#DejaVuSerif-6f\" transform=\"translate(2955.859375 0)\"/>\n     <use xlink:href=\"#DejaVuSerif-69\" transform=\"translate(3016.064453 0)\"/>\n     <use xlink:href=\"#DejaVuSerif-73\" transform=\"translate(3048.046875 0)\"/>\n     <use xlink:href=\"#DejaVuSerif-65\" transform=\"translate(3099.365234 0)\"/>\n    </g>\n   </g>\n  </g>\n </g>\n <defs>\n  <clipPath id=\"p4393191930\">\n   <rect x=\"50.355937\" y=\"18.718125\" width=\"352.320596\" height=\"194.041\"/>\n  </clipPath>\n </defs>\n</svg>\n"
          },
          "metadata": {}
        }
      ],
      "source": [
        "Sh_noIMC = Hf_noIMC * N_f / Hs_noIMC\n",
        "plt.figure()\n",
        "plt.loglog(f_1,Sh_noIMC)\n",
        "plt.xlabel('frq')\n",
        "plt.ylabel('sd')\n",
        "plt.title(\"Strain-equivalent noise spectrum due to laser frequency noise\")\n",
        "plt.tight_layout()\n",
        "plt.show()"
      ]
    },
    {
      "cell_type": "markdown",
      "id": "7bf55005",
      "metadata": {
        "id": "7bf55005"
      },
      "source": [
        "# Task 2: build an Input Mode Cleaner\n",
        "\n",
        "Goal: construct a triangular cavity in Finesse, with LIGO parameters from  https://finesse.docs.ligo.org/finesse-ligo/parameter_files/llo.html.\n",
        "\n",
        "Questions:\n",
        "\n",
        "1) What does a triangular optical cavity look like? Sketch it by hand on paper.\n",
        "\n",
        "2) How do you connect the mirror ports so that the beam path forms a closed triangular path?\n",
        "\n",
        "3) What do you think is the main difference between a linear and a triangular cavity?"
      ]
    },
    {
      "cell_type": "code",
      "execution_count": 10,
      "id": "2cab508f",
      "metadata": {
        "id": "2cab508f",
        "outputId": "bf2e7463-b04f-4b9e-e6d0-64b393adb380",
        "colab": {
          "base_uri": "https://localhost:8080/",
          "height": 1000
        }
      },
      "outputs": [
        {
          "output_type": "error",
          "ename": "KatDirectiveBuildError",
          "evalue": "\nline 13: Port <Port MC1.p1 Type=NodeType.OPTICAL @ 0x7e9dd1f06270> has already been connected to\n   12: s MC3_MC2 MC3.p2   MC2.p1     L=16.24057   # fill ports\n-->13: s MC2_MC1 MC2.p2   MC1.p1     L=16.24057   # fill ports\n       ^^^^^^^^^^^^^^^^^^^^^^^^^^^^^^^^^^^^^^^^\n   14: cav IMC MC2.p2.o  ",
          "traceback": [
            "\u001b[0;31m---------------------------------------------------------------------------\u001b[0m",
            "\u001b[0;31mException\u001b[0m                                 Traceback (most recent call last)",
            "\u001b[0;32m/usr/local/lib/python3.12/dist-packages/finesse/script/compiler.py\u001b[0m in \u001b[0;36m_\u001b[0;34m(self, node, data, model)\u001b[0m\n\u001b[1;32m    742\u001b[0m         \u001b[0;32mtry\u001b[0m\u001b[0;34m:\u001b[0m\u001b[0;34m\u001b[0m\u001b[0;34m\u001b[0m\u001b[0m\n\u001b[0;32m--> 743\u001b[0;31m             \u001b[0;32mreturn\u001b[0m \u001b[0madapter\u001b[0m\u001b[0;34m.\u001b[0m\u001b[0mfactory\u001b[0m\u001b[0;34m(\u001b[0m\u001b[0;34m*\u001b[0m\u001b[0margs\u001b[0m\u001b[0;34m,\u001b[0m \u001b[0;34m**\u001b[0m\u001b[0mkwargs\u001b[0m\u001b[0;34m)\u001b[0m\u001b[0;34m\u001b[0m\u001b[0;34m\u001b[0m\u001b[0m\n\u001b[0m\u001b[1;32m    744\u001b[0m         \u001b[0;32mexcept\u001b[0m \u001b[0mException\u001b[0m \u001b[0;32mas\u001b[0m \u001b[0me\u001b[0m\u001b[0;34m:\u001b[0m\u001b[0;34m\u001b[0m\u001b[0;34m\u001b[0m\u001b[0m\n",
            "\u001b[0;32m/usr/local/lib/python3.12/dist-packages/finesse/script/adapter.py\u001b[0m in \u001b[0;36m__call__\u001b[0;34m(self, *args, **kwargs)\u001b[0m\n\u001b[1;32m    873\u001b[0m     \u001b[0;32mdef\u001b[0m \u001b[0m__call__\u001b[0m\u001b[0;34m(\u001b[0m\u001b[0mself\u001b[0m\u001b[0;34m,\u001b[0m \u001b[0;34m*\u001b[0m\u001b[0margs\u001b[0m\u001b[0;34m,\u001b[0m \u001b[0;34m**\u001b[0m\u001b[0mkwargs\u001b[0m\u001b[0;34m)\u001b[0m\u001b[0;34m:\u001b[0m\u001b[0;34m\u001b[0m\u001b[0;34m\u001b[0m\u001b[0m\n\u001b[0;32m--> 874\u001b[0;31m         \u001b[0;32mreturn\u001b[0m \u001b[0mself\u001b[0m\u001b[0;34m.\u001b[0m\u001b[0mitem_type\u001b[0m\u001b[0;34m(\u001b[0m\u001b[0;34m*\u001b[0m\u001b[0margs\u001b[0m\u001b[0;34m,\u001b[0m \u001b[0;34m**\u001b[0m\u001b[0mkwargs\u001b[0m\u001b[0;34m)\u001b[0m\u001b[0;34m\u001b[0m\u001b[0;34m\u001b[0m\u001b[0m\n\u001b[0m\u001b[1;32m    875\u001b[0m \u001b[0;34m\u001b[0m\u001b[0m\n",
            "\u001b[0;32m/usr/local/lib/python3.12/dist-packages/finesse/components/space.py\u001b[0m in \u001b[0;36m__init__\u001b[0;34m(self, name, portA, portB, L, nr, user_gouy_x, user_gouy_y)\u001b[0m\n\u001b[1;32m    161\u001b[0m         \u001b[0;32mif\u001b[0m \u001b[0mportA\u001b[0m \u001b[0;32mis\u001b[0m \u001b[0;32mnot\u001b[0m \u001b[0;32mNone\u001b[0m \u001b[0;32mand\u001b[0m \u001b[0mportB\u001b[0m \u001b[0;32mis\u001b[0m \u001b[0;32mnot\u001b[0m \u001b[0;32mNone\u001b[0m\u001b[0;34m:\u001b[0m\u001b[0;34m\u001b[0m\u001b[0;34m\u001b[0m\u001b[0m\n\u001b[0;32m--> 162\u001b[0;31m             \u001b[0mself\u001b[0m\u001b[0;34m.\u001b[0m\u001b[0mconnect\u001b[0m\u001b[0;34m(\u001b[0m\u001b[0mportA\u001b[0m\u001b[0;34m,\u001b[0m \u001b[0mportB\u001b[0m\u001b[0;34m)\u001b[0m\u001b[0;34m\u001b[0m\u001b[0;34m\u001b[0m\u001b[0m\n\u001b[0m\u001b[1;32m    163\u001b[0m \u001b[0;34m\u001b[0m\u001b[0m\n",
            "\u001b[0;32m/usr/local/lib/python3.12/dist-packages/finesse/components/space.py\u001b[0m in \u001b[0;36mconnect\u001b[0;34m(self, portA, portB)\u001b[0m\n\u001b[1;32m    271\u001b[0m         \u001b[0;32mif\u001b[0m \u001b[0mportB\u001b[0m\u001b[0;34m.\u001b[0m\u001b[0mis_connected\u001b[0m\u001b[0;34m:\u001b[0m\u001b[0;34m\u001b[0m\u001b[0;34m\u001b[0m\u001b[0m\n\u001b[0;32m--> 272\u001b[0;31m             \u001b[0;32mraise\u001b[0m \u001b[0mException\u001b[0m\u001b[0;34m(\u001b[0m\u001b[0;34mf\"Port {portB} has already been connected to\"\u001b[0m\u001b[0;34m)\u001b[0m\u001b[0;34m\u001b[0m\u001b[0;34m\u001b[0m\u001b[0m\n\u001b[0m\u001b[1;32m    273\u001b[0m \u001b[0;34m\u001b[0m\u001b[0m\n",
            "\u001b[0;31mException\u001b[0m: Port <Port MC1.p1 Type=NodeType.OPTICAL @ 0x7e9dd1f06270> has already been connected to",
            "\nThe above exception was the direct cause of the following exception:\n",
            "\u001b[0;31mKatDirectiveBuildError\u001b[0m                    Traceback (most recent call last)",
            "\u001b[0;32m/tmp/ipython-input-3147050282.py\u001b[0m in \u001b[0;36m<cell line: 0>\u001b[0;34m()\u001b[0m\n\u001b[1;32m     11\u001b[0m \u001b[0;34m\u001b[0m\u001b[0m\n\u001b[1;32m     12\u001b[0m \u001b[0mIMC_losses\u001b[0m \u001b[0;34m=\u001b[0m \u001b[0mfinesse\u001b[0m\u001b[0;34m.\u001b[0m\u001b[0mModel\u001b[0m\u001b[0;34m(\u001b[0m\u001b[0;34m)\u001b[0m\u001b[0;34m\u001b[0m\u001b[0;34m\u001b[0m\u001b[0m\n\u001b[0;32m---> 13\u001b[0;31m IMC_losses.parse(f\"\"\" \n\u001b[0m\u001b[1;32m     14\u001b[0m \u001b[0ml\u001b[0m \u001b[0mLI\u001b[0m \u001b[0mP\u001b[0m\u001b[0;34m=\u001b[0m\u001b[0;36m125\u001b[0m\u001b[0;34m\u001b[0m\u001b[0;34m\u001b[0m\u001b[0m\n\u001b[1;32m     15\u001b[0m \u001b[0;34m\u001b[0m\u001b[0m\n",
            "\u001b[0;32m/usr/local/lib/python3.12/dist-packages/finesse/model.py\u001b[0m in \u001b[0;36mwrapper\u001b[0;34m(self, *args, **kwargs)\u001b[0m\n\u001b[1;32m    106\u001b[0m                 \u001b[0;34mf\"Model has been built for a simulation, cannot use {func} here\"\u001b[0m\u001b[0;34m\u001b[0m\u001b[0;34m\u001b[0m\u001b[0m\n\u001b[1;32m    107\u001b[0m             )\n\u001b[0;32m--> 108\u001b[0;31m         \u001b[0;32mreturn\u001b[0m \u001b[0mfunc\u001b[0m\u001b[0;34m(\u001b[0m\u001b[0mself\u001b[0m\u001b[0;34m,\u001b[0m \u001b[0;34m*\u001b[0m\u001b[0margs\u001b[0m\u001b[0;34m,\u001b[0m \u001b[0;34m**\u001b[0m\u001b[0mkwargs\u001b[0m\u001b[0;34m)\u001b[0m\u001b[0;34m\u001b[0m\u001b[0;34m\u001b[0m\u001b[0m\n\u001b[0m\u001b[1;32m    109\u001b[0m \u001b[0;34m\u001b[0m\u001b[0m\n\u001b[1;32m    110\u001b[0m     \u001b[0;32mreturn\u001b[0m \u001b[0mwrapper\u001b[0m\u001b[0;34m\u001b[0m\u001b[0;34m\u001b[0m\u001b[0m\n",
            "\u001b[0;32m/usr/local/lib/python3.12/dist-packages/finesse/model.py\u001b[0m in \u001b[0;36mparse\u001b[0;34m(self, text, spec)\u001b[0m\n\u001b[1;32m   2309\u001b[0m         \u001b[0;32mfrom\u001b[0m \u001b[0;34m.\u001b[0m\u001b[0mscript\u001b[0m \u001b[0;32mimport\u001b[0m \u001b[0mparse\u001b[0m\u001b[0;34m\u001b[0m\u001b[0;34m\u001b[0m\u001b[0m\n\u001b[1;32m   2310\u001b[0m \u001b[0;34m\u001b[0m\u001b[0m\n\u001b[0;32m-> 2311\u001b[0;31m         \u001b[0mparse\u001b[0m\u001b[0;34m(\u001b[0m\u001b[0mtext\u001b[0m\u001b[0;34m,\u001b[0m \u001b[0mmodel\u001b[0m\u001b[0;34m=\u001b[0m\u001b[0mself\u001b[0m\u001b[0;34m,\u001b[0m \u001b[0mspec\u001b[0m\u001b[0;34m=\u001b[0m\u001b[0mspec\u001b[0m\u001b[0;34m)\u001b[0m\u001b[0;34m\u001b[0m\u001b[0;34m\u001b[0m\u001b[0m\n\u001b[0m\u001b[1;32m   2312\u001b[0m \u001b[0;34m\u001b[0m\u001b[0m\n\u001b[1;32m   2313\u001b[0m     \u001b[0;34m@\u001b[0m\u001b[0mlocked_when_built\u001b[0m\u001b[0;34m\u001b[0m\u001b[0;34m\u001b[0m\u001b[0m\n",
            "\u001b[0;32m/usr/local/lib/python3.12/dist-packages/finesse/script/__init__.py\u001b[0m in \u001b[0;36mparse\u001b[0;34m(text, model, spec)\u001b[0m\n\u001b[1;32m     42\u001b[0m \u001b[0;34m\u001b[0m\u001b[0m\n\u001b[1;32m     43\u001b[0m     \u001b[0mcompiler\u001b[0m \u001b[0;34m=\u001b[0m \u001b[0mKatCompiler\u001b[0m\u001b[0;34m(\u001b[0m\u001b[0mspec\u001b[0m\u001b[0;34m=\u001b[0m\u001b[0mspec\u001b[0m\u001b[0;34m)\u001b[0m\u001b[0;34m\u001b[0m\u001b[0;34m\u001b[0m\u001b[0m\n\u001b[0;32m---> 44\u001b[0;31m     \u001b[0;32mreturn\u001b[0m \u001b[0mcompiler\u001b[0m\u001b[0;34m.\u001b[0m\u001b[0mcompile\u001b[0m\u001b[0;34m(\u001b[0m\u001b[0mtext\u001b[0m\u001b[0;34m,\u001b[0m \u001b[0mmodel\u001b[0m\u001b[0;34m=\u001b[0m\u001b[0mmodel\u001b[0m\u001b[0;34m)\u001b[0m\u001b[0;34m\u001b[0m\u001b[0;34m\u001b[0m\u001b[0m\n\u001b[0m\u001b[1;32m     45\u001b[0m \u001b[0;34m\u001b[0m\u001b[0m\n\u001b[1;32m     46\u001b[0m \u001b[0;34m\u001b[0m\u001b[0m\n",
            "\u001b[0;32m/usr/local/lib/python3.12/dist-packages/finesse/script/compiler.py\u001b[0m in \u001b[0;36mcompile\u001b[0;34m(self, string, **kwargs)\u001b[0m\n\u001b[1;32m    164\u001b[0m             \u001b[0mThe\u001b[0m \u001b[0mmodel\u001b[0m \u001b[0mcompiled\u001b[0m \u001b[0;32mfrom\u001b[0m \u001b[0mreading\u001b[0m\u001b[0;31m \u001b[0m\u001b[0;31m`\u001b[0m\u001b[0mstring\u001b[0m\u001b[0;31m`\u001b[0m\u001b[0;34m.\u001b[0m\u001b[0;34m\u001b[0m\u001b[0;34m\u001b[0m\u001b[0m\n\u001b[1;32m    165\u001b[0m         \"\"\"\n\u001b[0;32m--> 166\u001b[0;31m         \u001b[0;32mreturn\u001b[0m \u001b[0mself\u001b[0m\u001b[0;34m.\u001b[0m\u001b[0mcompile_file\u001b[0m\u001b[0;34m(\u001b[0m\u001b[0mStringIO\u001b[0m\u001b[0;34m(\u001b[0m\u001b[0mstring\u001b[0m\u001b[0;34m)\u001b[0m\u001b[0;34m,\u001b[0m \u001b[0;34m**\u001b[0m\u001b[0mkwargs\u001b[0m\u001b[0;34m)\u001b[0m\u001b[0;34m\u001b[0m\u001b[0;34m\u001b[0m\u001b[0m\n\u001b[0m\u001b[1;32m    167\u001b[0m \u001b[0;34m\u001b[0m\u001b[0m\n\u001b[1;32m    168\u001b[0m     \u001b[0;32mdef\u001b[0m \u001b[0mcompile_file\u001b[0m\u001b[0;34m(\u001b[0m\u001b[0mself\u001b[0m\u001b[0;34m,\u001b[0m \u001b[0mfobj\u001b[0m\u001b[0;34m,\u001b[0m \u001b[0mmodel\u001b[0m\u001b[0;34m=\u001b[0m\u001b[0;32mNone\u001b[0m\u001b[0;34m,\u001b[0m \u001b[0mresolve\u001b[0m\u001b[0;34m=\u001b[0m\u001b[0;32mTrue\u001b[0m\u001b[0;34m,\u001b[0m \u001b[0mbuild\u001b[0m\u001b[0;34m=\u001b[0m\u001b[0;32mTrue\u001b[0m\u001b[0;34m)\u001b[0m\u001b[0;34m:\u001b[0m\u001b[0;34m\u001b[0m\u001b[0;34m\u001b[0m\u001b[0m\n",
            "\u001b[0;32m/usr/local/lib/python3.12/dist-packages/finesse/script/compiler.py\u001b[0m in \u001b[0;36mcompile_file\u001b[0;34m(self, fobj, model, resolve, build)\u001b[0m\n\u001b[1;32m    222\u001b[0m \u001b[0;34m\u001b[0m\u001b[0m\n\u001b[1;32m    223\u001b[0m             \u001b[0;32mif\u001b[0m \u001b[0mbuild\u001b[0m\u001b[0;34m:\u001b[0m\u001b[0;34m\u001b[0m\u001b[0;34m\u001b[0m\u001b[0m\n\u001b[0;32m--> 224\u001b[0;31m                 \u001b[0mmodel\u001b[0m \u001b[0;34m=\u001b[0m \u001b[0mself\u001b[0m\u001b[0;34m.\u001b[0m\u001b[0m_build\u001b[0m\u001b[0;34m(\u001b[0m\u001b[0mROOT_NODE_NAME\u001b[0m\u001b[0;34m,\u001b[0m \u001b[0mmodel\u001b[0m\u001b[0;34m)\u001b[0m\u001b[0;34m\u001b[0m\u001b[0;34m\u001b[0m\u001b[0m\n\u001b[0m\u001b[1;32m    225\u001b[0m \u001b[0;34m\u001b[0m\u001b[0m\n\u001b[1;32m    226\u001b[0m                 \u001b[0;31m# Merge the compiled syntax graph into the model.\u001b[0m\u001b[0;34m\u001b[0m\u001b[0;34m\u001b[0m\u001b[0m\n",
            "\u001b[0;32m/usr/local/lib/python3.12/dist-packages/finesse/script/compiler.py\u001b[0m in \u001b[0;36m_build\u001b[0;34m(self, node, model, kwarg_as_dict)\u001b[0m\n\u001b[1;32m    627\u001b[0m         \u001b[0mnodetype\u001b[0m \u001b[0;34m=\u001b[0m \u001b[0mdata\u001b[0m\u001b[0;34m[\u001b[0m\u001b[0;34m\"type\"\u001b[0m\u001b[0;34m]\u001b[0m\u001b[0;34m\u001b[0m\u001b[0;34m\u001b[0m\u001b[0m\n\u001b[1;32m    628\u001b[0m \u001b[0;34m\u001b[0m\u001b[0m\n\u001b[0;32m--> 629\u001b[0;31m         \u001b[0mvalue\u001b[0m \u001b[0;34m=\u001b[0m \u001b[0mself\u001b[0m\u001b[0;34m.\u001b[0m\u001b[0m_do_build\u001b[0m\u001b[0;34m(\u001b[0m\u001b[0mnodetype\u001b[0m\u001b[0;34m,\u001b[0m \u001b[0mnode\u001b[0m\u001b[0;34m,\u001b[0m \u001b[0mdata\u001b[0m\u001b[0;34m,\u001b[0m \u001b[0mmodel\u001b[0m\u001b[0;34m)\u001b[0m\u001b[0;34m\u001b[0m\u001b[0;34m\u001b[0m\u001b[0m\n\u001b[0m\u001b[1;32m    630\u001b[0m \u001b[0;34m\u001b[0m\u001b[0m\n\u001b[1;32m    631\u001b[0m         \u001b[0;31m# Create a dictionary for keyword arguments, if requested.\u001b[0m\u001b[0;34m\u001b[0m\u001b[0;34m\u001b[0m\u001b[0m\n",
            "\u001b[0;32m/usr/local/lib/python3.12/dist-packages/finesse/utilities/functools.py\u001b[0m in \u001b[0;36m_method\u001b[0;34m(*args, **kwargs)\u001b[0m\n\u001b[1;32m     71\u001b[0m \u001b[0;34m\u001b[0m\u001b[0m\n\u001b[1;32m     72\u001b[0m             \u001b[0;32mif\u001b[0m \u001b[0;34m(\u001b[0m\u001b[0mmethod\u001b[0m \u001b[0;34m:=\u001b[0m \u001b[0mself\u001b[0m\u001b[0;34m.\u001b[0m\u001b[0mdispatch\u001b[0m\u001b[0;34m(\u001b[0m\u001b[0mvalue\u001b[0m\u001b[0;34m)\u001b[0m\u001b[0;34m)\u001b[0m \u001b[0;32mis\u001b[0m \u001b[0;32mnot\u001b[0m \u001b[0;32mNone\u001b[0m\u001b[0;34m:\u001b[0m\u001b[0;34m\u001b[0m\u001b[0;34m\u001b[0m\u001b[0m\n\u001b[0;32m---> 73\u001b[0;31m                 \u001b[0;32mreturn\u001b[0m \u001b[0mmethod\u001b[0m\u001b[0;34m.\u001b[0m\u001b[0m__get__\u001b[0m\u001b[0;34m(\u001b[0m\u001b[0mobj\u001b[0m\u001b[0;34m,\u001b[0m \u001b[0mcls\u001b[0m\u001b[0;34m)\u001b[0m\u001b[0;34m(\u001b[0m\u001b[0;34m*\u001b[0m\u001b[0margs\u001b[0m\u001b[0;34m,\u001b[0m \u001b[0;34m**\u001b[0m\u001b[0mkwargs\u001b[0m\u001b[0;34m)\u001b[0m\u001b[0;34m\u001b[0m\u001b[0;34m\u001b[0m\u001b[0m\n\u001b[0m\u001b[1;32m     74\u001b[0m             \u001b[0;32melse\u001b[0m\u001b[0;34m:\u001b[0m\u001b[0;34m\u001b[0m\u001b[0;34m\u001b[0m\u001b[0m\n\u001b[1;32m     75\u001b[0m                 \u001b[0;31m# Call the default with the value.\u001b[0m\u001b[0;34m\u001b[0m\u001b[0;34m\u001b[0m\u001b[0m\n",
            "\u001b[0;32m/usr/local/lib/python3.12/dist-packages/finesse/script/compiler.py\u001b[0m in \u001b[0;36m_\u001b[0;34m(self, node, data, model)\u001b[0m\n\u001b[1;32m    819\u001b[0m         \u001b[0;31m# Use the computed build order, not the argument order.\u001b[0m\u001b[0;34m\u001b[0m\u001b[0;34m\u001b[0m\u001b[0m\n\u001b[1;32m    820\u001b[0m         \u001b[0;32mfor\u001b[0m \u001b[0margument_node\u001b[0m \u001b[0;32min\u001b[0m \u001b[0mself\u001b[0m\u001b[0;34m.\u001b[0m\u001b[0m_build_order\u001b[0m\u001b[0;34m:\u001b[0m\u001b[0;34m\u001b[0m\u001b[0;34m\u001b[0m\u001b[0m\n\u001b[0;32m--> 821\u001b[0;31m             \u001b[0mitem\u001b[0m \u001b[0;34m=\u001b[0m \u001b[0mself\u001b[0m\u001b[0;34m.\u001b[0m\u001b[0m_build\u001b[0m\u001b[0;34m(\u001b[0m\u001b[0margument_node\u001b[0m\u001b[0;34m,\u001b[0m \u001b[0mmodel\u001b[0m\u001b[0;34m)\u001b[0m\u001b[0;34m\u001b[0m\u001b[0;34m\u001b[0m\u001b[0m\n\u001b[0m\u001b[1;32m    822\u001b[0m             \u001b[0mdirective_token\u001b[0m \u001b[0;34m=\u001b[0m \u001b[0mself\u001b[0m\u001b[0;34m.\u001b[0m\u001b[0mgraph\u001b[0m\u001b[0;34m.\u001b[0m\u001b[0mnodes\u001b[0m\u001b[0;34m[\u001b[0m\u001b[0margument_node\u001b[0m\u001b[0;34m]\u001b[0m\u001b[0;34m[\u001b[0m\u001b[0;34m\"token\"\u001b[0m\u001b[0;34m]\u001b[0m\u001b[0;34m\u001b[0m\u001b[0;34m\u001b[0m\u001b[0m\n\u001b[1;32m    823\u001b[0m             \u001b[0mdirective\u001b[0m \u001b[0;34m=\u001b[0m \u001b[0mdirective_token\u001b[0m\u001b[0;34m.\u001b[0m\u001b[0mvalue\u001b[0m\u001b[0;34m\u001b[0m\u001b[0;34m\u001b[0m\u001b[0m\n",
            "\u001b[0;32m/usr/local/lib/python3.12/dist-packages/finesse/script/compiler.py\u001b[0m in \u001b[0;36m_build\u001b[0;34m(self, node, model, kwarg_as_dict)\u001b[0m\n\u001b[1;32m    627\u001b[0m         \u001b[0mnodetype\u001b[0m \u001b[0;34m=\u001b[0m \u001b[0mdata\u001b[0m\u001b[0;34m[\u001b[0m\u001b[0;34m\"type\"\u001b[0m\u001b[0;34m]\u001b[0m\u001b[0;34m\u001b[0m\u001b[0;34m\u001b[0m\u001b[0m\n\u001b[1;32m    628\u001b[0m \u001b[0;34m\u001b[0m\u001b[0m\n\u001b[0;32m--> 629\u001b[0;31m         \u001b[0mvalue\u001b[0m \u001b[0;34m=\u001b[0m \u001b[0mself\u001b[0m\u001b[0;34m.\u001b[0m\u001b[0m_do_build\u001b[0m\u001b[0;34m(\u001b[0m\u001b[0mnodetype\u001b[0m\u001b[0;34m,\u001b[0m \u001b[0mnode\u001b[0m\u001b[0;34m,\u001b[0m \u001b[0mdata\u001b[0m\u001b[0;34m,\u001b[0m \u001b[0mmodel\u001b[0m\u001b[0;34m)\u001b[0m\u001b[0;34m\u001b[0m\u001b[0;34m\u001b[0m\u001b[0m\n\u001b[0m\u001b[1;32m    630\u001b[0m \u001b[0;34m\u001b[0m\u001b[0m\n\u001b[1;32m    631\u001b[0m         \u001b[0;31m# Create a dictionary for keyword arguments, if requested.\u001b[0m\u001b[0;34m\u001b[0m\u001b[0;34m\u001b[0m\u001b[0m\n",
            "\u001b[0;32m/usr/local/lib/python3.12/dist-packages/finesse/utilities/functools.py\u001b[0m in \u001b[0;36m_method\u001b[0;34m(*args, **kwargs)\u001b[0m\n\u001b[1;32m     71\u001b[0m \u001b[0;34m\u001b[0m\u001b[0m\n\u001b[1;32m     72\u001b[0m             \u001b[0;32mif\u001b[0m \u001b[0;34m(\u001b[0m\u001b[0mmethod\u001b[0m \u001b[0;34m:=\u001b[0m \u001b[0mself\u001b[0m\u001b[0;34m.\u001b[0m\u001b[0mdispatch\u001b[0m\u001b[0;34m(\u001b[0m\u001b[0mvalue\u001b[0m\u001b[0;34m)\u001b[0m\u001b[0;34m)\u001b[0m \u001b[0;32mis\u001b[0m \u001b[0;32mnot\u001b[0m \u001b[0;32mNone\u001b[0m\u001b[0;34m:\u001b[0m\u001b[0;34m\u001b[0m\u001b[0;34m\u001b[0m\u001b[0m\n\u001b[0;32m---> 73\u001b[0;31m                 \u001b[0;32mreturn\u001b[0m \u001b[0mmethod\u001b[0m\u001b[0;34m.\u001b[0m\u001b[0m__get__\u001b[0m\u001b[0;34m(\u001b[0m\u001b[0mobj\u001b[0m\u001b[0;34m,\u001b[0m \u001b[0mcls\u001b[0m\u001b[0;34m)\u001b[0m\u001b[0;34m(\u001b[0m\u001b[0;34m*\u001b[0m\u001b[0margs\u001b[0m\u001b[0;34m,\u001b[0m \u001b[0;34m**\u001b[0m\u001b[0mkwargs\u001b[0m\u001b[0;34m)\u001b[0m\u001b[0;34m\u001b[0m\u001b[0;34m\u001b[0m\u001b[0m\n\u001b[0m\u001b[1;32m     74\u001b[0m             \u001b[0;32melse\u001b[0m\u001b[0;34m:\u001b[0m\u001b[0;34m\u001b[0m\u001b[0;34m\u001b[0m\u001b[0m\n\u001b[1;32m     75\u001b[0m                 \u001b[0;31m# Call the default with the value.\u001b[0m\u001b[0;34m\u001b[0m\u001b[0;34m\u001b[0m\u001b[0m\n",
            "\u001b[0;32m/usr/local/lib/python3.12/dist-packages/finesse/script/compiler.py\u001b[0m in \u001b[0;36m_\u001b[0;34m(self, node, data, model)\u001b[0m\n\u001b[1;32m    743\u001b[0m             \u001b[0;32mreturn\u001b[0m \u001b[0madapter\u001b[0m\u001b[0;34m.\u001b[0m\u001b[0mfactory\u001b[0m\u001b[0;34m(\u001b[0m\u001b[0;34m*\u001b[0m\u001b[0margs\u001b[0m\u001b[0;34m,\u001b[0m \u001b[0;34m**\u001b[0m\u001b[0mkwargs\u001b[0m\u001b[0;34m)\u001b[0m\u001b[0;34m\u001b[0m\u001b[0;34m\u001b[0m\u001b[0m\n\u001b[1;32m    744\u001b[0m         \u001b[0;32mexcept\u001b[0m \u001b[0mException\u001b[0m \u001b[0;32mas\u001b[0m \u001b[0me\u001b[0m\u001b[0;34m:\u001b[0m\u001b[0;34m\u001b[0m\u001b[0;34m\u001b[0m\u001b[0m\n\u001b[0;32m--> 745\u001b[0;31m             raise KatDirectiveBuildError(\n\u001b[0m\u001b[1;32m    746\u001b[0m                 \u001b[0me\u001b[0m\u001b[0;34m,\u001b[0m\u001b[0;34m\u001b[0m\u001b[0;34m\u001b[0m\u001b[0m\n\u001b[1;32m    747\u001b[0m                 \u001b[0mdata\u001b[0m\u001b[0;34m[\u001b[0m\u001b[0;34m\"token\"\u001b[0m\u001b[0;34m]\u001b[0m\u001b[0;34m.\u001b[0m\u001b[0mvalue\u001b[0m\u001b[0;34m,\u001b[0m\u001b[0;34m\u001b[0m\u001b[0;34m\u001b[0m\u001b[0m\n",
            "\u001b[0;31mKatDirectiveBuildError\u001b[0m: \nline 13: Port <Port MC1.p1 Type=NodeType.OPTICAL @ 0x7e9dd1f06270> has already been connected to\n   12: s MC3_MC2 MC3.p2   MC2.p1     L=16.24057   # fill ports\n-->13: s MC2_MC1 MC2.p2   MC1.p1     L=16.24057   # fill ports\n       ^^^^^^^^^^^^^^^^^^^^^^^^^^^^^^^^^^^^^^^^\n   14: cav IMC MC2.p2.o  "
          ]
        }
      ],
      "source": [
        "# --- IMC parameters (given) ---\n",
        "T1, L1 = 6150.0e-6 , 20e-6\n",
        "T2, L2 = 3.5e-6 , 20e-6\n",
        "T3, L3 = 6130.0e-6 , 20e-6\n",
        "\n",
        "# TO DO: compute mirror reflectivities from T and L\n",
        "\n",
        "R1 = 1 - T1 - L1\n",
        "R2 = 1 - T2 - L2\n",
        "R3 = 1 - T3 - L3\n",
        "\n",
        "IMC_losses = finesse.Model()\n",
        "IMC_losses.parse(f\"\"\"\n",
        "l LI P=125\n",
        "\n",
        "# -------- IMC mirrors --------\n",
        "bs MC1  R={R1}   T={T1}    L={L1} Rc=101609\n",
        "bs MC2  R={R2}   T={T2}    L={L2} Rc=27.178\n",
        "bs MC3  R={R3}   T={T3}    L={L3} Rc=27.178\n",
        "\n",
        "# --- Connect spaces to form a triangle ---\n",
        "s L_MC1   LI.p1     MC1.p1      L=0\n",
        "s MC1_MC3 MC1.p3   MC3.p1     L=0.465      # fill ports\n",
        "s MC3_MC2 MC3.p2   MC2.p1     L=16.24057   # fill ports\n",
        "s MC2_MC1 MC2.p2   MC1.p1     L=16.24057   # fill ports\n",
        "cav IMC MC2.p2.o\n",
        "nothing test\n",
        "s MC3_test MC3.p3 test.p1\n",
        "\"\"\")\n",
        "\n",
        "\n",
        "print(f'Cavity pole: {IMC_losses.IMC.pole} [Hz]')\n",
        "\n",
        "IMC_losses.plot_graph()"
      ]
    },
    {
      "cell_type": "markdown",
      "id": "d491766b",
      "metadata": {
        "id": "d491766b"
      },
      "source": [
        "# Task 3. Investigate the triangular cavity\n",
        "\n",
        "We take a closer look at the Input Mode Cleaner (IMC) on its own, before adding it to the full interferometer.\n",
        "\n",
        "Goal: understand how the transmitted, circulating, and reflected powers behave when the IMC is on and off resonance, and how optical losses affect them.\n"
      ]
    },
    {
      "cell_type": "markdown",
      "id": "7b9bf640",
      "metadata": {
        "id": "7b9bf640"
      },
      "source": [
        "### Task 3.1. Compute reflected, transmitted and circulating powers\n",
        "\n",
        "Questions:\n",
        "\n",
        "1) Where should you place photodetectors to measure: reflected, transmitted and circulating power?\n",
        "2) How can you vary the resonance condition of the cavity?\n",
        "\n",
        "(Hint: scanning the phase of one mirror, e.g. MC3.phi, is equivalent to sweeping the laser frequency.)"
      ]
    },
    {
      "cell_type": "code",
      "execution_count": null,
      "id": "51d3e0fa",
      "metadata": {
        "id": "51d3e0fa"
      },
      "outputs": [],
      "source": [
        "IMC_losses1 = IMC_losses.deepcopy()\n",
        "IMC_losses1.parse(\"\"\"\n",
        "# TODO: place three photodiodes to measure:\n",
        "#  - Reflected power from the cavity\n",
        "#  - Transmitted power through the cavity\n",
        "#  - Circulating power inside the cavity\n",
        "# (Hint: think about MC1 and MC3 ports)\n",
        "pd power_reflected   ...\n",
        "pd power_transmitted ...\n",
        "pd power_circulating ...\n",
        "\"\"\")\n",
        "\n",
        "sol_IMC_1 = IMC_losses1.run(Xaxis( your code here ))\n",
        "sol_IMC_1.plot(logy= True)"
      ]
    },
    {
      "cell_type": "markdown",
      "id": "018c7ddb",
      "metadata": {
        "id": "018c7ddb"
      },
      "source": [
        "### Task 3.2. Compare the transmitted power by the IMC with the laser power\n",
        "\n",
        "Now that you can compute the transmitted power through the Input Mode Cleaner, let’s compare it to the input laser power.\n",
        "\n",
        "Questions:\n",
        "\n",
        "1) Do you expect the power transmitted by the IMC to be exactly equal to the input laser power? If not, where do you think the missing power goes?\n",
        "\n",
        "2) How would the transmitted power change if the mirrors had no optical losses, or if one mirror were perfectly reflective?"
      ]
    },
    {
      "cell_type": "code",
      "execution_count": null,
      "id": "409f8949",
      "metadata": {
        "id": "409f8949"
      },
      "outputs": [],
      "source": [
        "IMC_comparison = IMC_losses.deepcopy()\n",
        "IMC_comparison.parse(\"\"\"\n",
        "# TODO: add a photodiode to measure the transmitted power at the IMC output\n",
        "pd power_transmitted ...\n",
        "\"\"\")\n",
        "\n",
        "# Compare the TRANSMITTED power to the original laser power in this model WITH losses.\n",
        "\n",
        "sol_comparison = IMC_comparison.run()\n",
        "\n",
        "power_incident = float(IMC_losses.LI.P)\n",
        "print(f\"Incident laser power (for model base IMC): {power_incident:.3f} W\")\n",
        "print(f\"Power transmitted by IMC [W] (for model base IMC): {sol_comparison['power_transmitted']:.3f}\")"
      ]
    },
    {
      "cell_type": "markdown",
      "id": "afad6399",
      "metadata": {
        "id": "afad6399"
      },
      "source": [
        "# Task 4. Add the IMC to the full interferometric model\n",
        "\n",
        "Now it’s time to integrate the IMC into the full interferometer model.\n",
        "\n",
        "Questions:\n",
        "\n",
        "1) Where do you think the IMC should be placed in the interferometer, and why?\n",
        "\n",
        "2) Like any cavity, the IMC acts as a filter: it stores light for a short time and only lets certain “well-behaved” light through. What do you expect the IMC to do to the laser frequency noise?\n"
      ]
    },
    {
      "cell_type": "code",
      "execution_count": null,
      "id": "b3a7296f",
      "metadata": {
        "id": "b3a7296f"
      },
      "outputs": [],
      "source": [
        "T1, L1 = # your code here\n",
        "T2, L2 = # your code here\n",
        "T3, L3 = # your code here\n",
        "\n",
        "R1 = # your code here\n",
        "R2 = # your code here\n",
        "R3 = # your code here\n",
        "\n",
        "\n",
        "complete_IMC = finesse.Model()\n",
        "\n",
        "complete_IMC.parse(f\"\"\"\n",
        "l LI P=125\n",
        "\n",
        "# -------- IMC mirrors --------\n",
        "# from https://finesse.docs.ligo.org/finesse-ligo/parameter_files/llo.html\n",
        "# L = 20 ppm on all three; R = 1 - T - L\n",
        "# Light transmitted through MC1 (from p1 to p3))enters MC2 (through p1, then reflected through p2), then goes into MC3 (enters in p1, reflected in p2).\n",
        "# Finally returns from MC3.p2 into MC1.p4, which reflects into MC1.p3, closing the triangular cavity.\n",
        "bs MC1  R={R1}   T={T1}    L={L1} Rc= # your code here\n",
        "bs MC2  R={R2}   T={T2}    L={L2} Rc= # your code here\n",
        "bs MC3  R={R3}   T={T3}    L={L3} Rc= # your code here\n",
        "\n",
        "\n",
        "s L_MC1 LI.p1 MC1.p1 L=0\n",
        "s MC1_MC3 MC1.p__   MC3.p__     L=   # fill ports and lengths\n",
        "s MC3_MC2 MC3.p__   MC2.p__     L=   # fill ports and lengths\n",
        "s MC2_MC1 MC2.p__   MC1.p__     L=   # fill ports and lengths\n",
        "s IMC_to_PRM # your code here (missing ports connection) L=4\n",
        "\n",
        "\n",
        "# Power recycling mirror\n",
        "m PRM T=0.03 L=37.5u phi=90 #loss is 37.5 x 10^-6\n",
        "s prc PRM.p2 bs1.p1 L=53\n",
        "\n",
        "# Central beamsplitter\n",
        "bs bs1 R=0.5 T=0.5 phi=0 alpha=45\n",
        "\n",
        "# X-arm\n",
        "s sx bs1.p3 ITMX.p1 L=4.5\n",
        "m ITMX T=0.014 L=37.5u phi=89.997\n",
        "s Lx ITMX.p2 ETMX.p1 L=3995\n",
        "m ETMX T=0 L=37.5u phi=89.997\n",
        "\n",
        "# Y-arm\n",
        "s sy bs1.p2 ITMY.p1 L=4.45\n",
        "m ITMY T=0.014 L=37.5u phi=3m\n",
        "s Ly ITMY.p2 ETMY.p1 L=3995\n",
        "m ETMY T=0 L=37.5u phi=3m\n",
        "\n",
        "# Signal recycling mirror\n",
        "s src bs1.p4 SRM.p1 L=50.525\n",
        "m SRM T=0.2 L=37.5u phi=-90\n",
        "\n",
        "# These commands give the mirrors a mass\n",
        "# by default they are infinitely heavy\n",
        "free_mass ITMX_sus ITMX.mech mass=40\n",
        "free_mass ETMX_sus ETMX.mech mass=40\n",
        "free_mass ITMY_sus ITMY.mech mass=40\n",
        "free_mass ETMY_sus ETMY.mech mass=40\n",
        "\"\"\")"
      ]
    },
    {
      "cell_type": "markdown",
      "id": "82b6dca0",
      "metadata": {
        "id": "82b6dca0"
      },
      "source": [
        "# Task 5. Compute the laser frequency noise for the full interferometric model with IMC (and compare to without IMC)\n",
        "\n",
        "Goal:\n",
        "\n",
        "  Plot the total system transfer functions  $\\text{H}_{\\text{f, IMC}}$  and  $\\text{H}_{\\text{f, no IMC}}$  (with and without the IMC) and highlight the pole frequency (8965 Hz).\n",
        "\n",
        "\n",
        "Questions:\n",
        "\n",
        "\n",
        "1) At what frequency do you expect $H_{\\text{f, IMC}}$ to deviate visibly from $H_{\\text{f, no IMC}}$?\n",
        "\n",
        "2) Why does the pole frequency appear after the slope of the transfer function has already started to decrease?\n"
      ]
    },
    {
      "cell_type": "markdown",
      "id": "f39db80d",
      "metadata": {
        "id": "f39db80d"
      },
      "source": [
        "We start by making two deepcopies of the complete model, with IMC, in order to compute the two transfer functions we need (similar procedure to the model without IMC)."
      ]
    },
    {
      "cell_type": "code",
      "execution_count": null,
      "id": "1d8770af",
      "metadata": {
        "id": "1d8770af"
      },
      "outputs": [],
      "source": [
        "transfer_function_1 = complete_IMC.deepcopy()\n",
        "transfer_function_1.parse(f\"\"\"\n",
        "# your code here\n",
        "\"\"\")\n",
        "out_1 = transfer_function_1.run(Xaxis('fsig.f', 'log', fstart, fstop, Npoints))\n",
        "\n",
        "f_1, Hs_IMC = out_1.x1, np.abs(out_1['TF'])\n",
        "\n",
        "\n",
        "transfer_function_2 = complete_IMC.deepcopy()\n",
        "transfer_function_2.parse(f\"\"\"\n",
        "# your code here\n",
        "\"\"\")\n",
        "\n",
        "out_2 = transfer_function_2.run(Xaxis('fsig.f', 'log', fstart, fstop, Npoints))\n",
        "f_2, Hf_IMC = out_2.x1, np.abs(out_2['TF'])"
      ]
    },
    {
      "cell_type": "code",
      "execution_count": null,
      "id": "e29dc819",
      "metadata": {
        "id": "e29dc819"
      },
      "outputs": [],
      "source": [
        "# Complete the code below by inserting the correct quantities.\n",
        "\n",
        "plt.figure()\n",
        "plt.loglog() # your code here\n",
        "plt.loglog() # your code here\n",
        "# The vertical dashed line marks the IMC pole frequency (8.965 kHz),\n",
        "# which was already computed from the cavity parameters.\n",
        "plt.axvline(x=8965, color='k', linestyle='--', linewidth=1, label='Frequency pole = 8.965 kHz')\n",
        "plt.xlabel() # your code here\n",
        "plt.ylabel() # your code here\n",
        "plt.legend()\n",
        "plt.title('Laser frequency noise transfer function')\n",
        "plt.tight_layout()\n",
        "plt.show()"
      ]
    },
    {
      "cell_type": "markdown",
      "id": "02dffd35",
      "metadata": {
        "id": "02dffd35"
      },
      "source": [
        "In a separate plot, take their ratio,\n",
        "\n",
        "$$R(f)=\n",
        "\n",
        "\\dfrac{\\text{H}_{\\text{f, IMC}} }{\\text{H}_{\\text{f, no IMC}}} $$\n",
        "\n",
        "and compare it to the magnitude of a one-pole low-pass transfer function,\n",
        "\n",
        "\\begin{equation}\n",
        "T_{\\mathrm{LP}}(f) = \\frac{1}{1 + i (f/f_p)},\n",
        "\\qquad\n",
        "|T_{\\mathrm{LP}}(f)| = \\frac{1}{\\sqrt{1+(f/f_p)^2}},\n",
        "\\end{equation}\n",
        "\n",
        " to see how closely the real IMC behaves like a single-pole filter.\n",
        "\n",
        "Remember that $f_p$, the cavity pole frequency, was already computed to be 8.965 kHz."
      ]
    },
    {
      "cell_type": "code",
      "execution_count": null,
      "id": "53ae91cd",
      "metadata": {
        "id": "53ae91cd"
      },
      "outputs": [],
      "source": [
        "f_p = 8965\n",
        "FR_theory = # your code here\n",
        "\n",
        "plt.figure()\n",
        "plt.loglog() # your code here (TF ratio)\n",
        "plt.loglog() # your code here (IMC filter response)\n",
        "plt.axvline(x=8965, color='k', linestyle='--', linewidth=1, label='Frequency pole = 8.965 kHz')\n",
        "plt.legend()\n",
        "plt.show()"
      ]
    },
    {
      "cell_type": "markdown",
      "id": "02f98b82",
      "metadata": {
        "id": "02f98b82"
      },
      "source": [
        "Goal: plot below $\\text{H}_{\\text{s, IMC}}$ and $\\text{H}_{\\text{s,no IMC}}$.\n",
        "\n",
        "\n",
        "Question:\n",
        "\n",
        "- Why do the gravitational-wave signal transfer functions $H_s(f)$ with and without the IMC appear nearly identical?"
      ]
    },
    {
      "cell_type": "code",
      "execution_count": null,
      "id": "4290db5c",
      "metadata": {
        "id": "4290db5c"
      },
      "outputs": [],
      "source": [
        "plt.figure()\n",
        "plt.loglog() # your code here (without IMC)\n",
        "plt.loglog() # your code here (with IMC)\n",
        "plt.xlabel() # your code here (units of measure)\n",
        "plt.ylabel() # your code here (units of measure)\n",
        "plt.legend(); plt.tight_layout(); plt.show()"
      ]
    },
    {
      "cell_type": "markdown",
      "id": "59c48423",
      "metadata": {
        "id": "59c48423"
      },
      "source": [
        "Goal:\n",
        "Below, compute and compare the total strain-equivalent noise spectrum, $S_{\\text{h}}(f)$ arising from laser frequency noise, for the two cases:\n",
        "- Without the IMC, $S_{\\text{h, no IMC}}(f)$ and\n",
        "- With the IMC included, $S_{\\text{h, IMC}}(f)$.\n"
      ]
    },
    {
      "cell_type": "code",
      "execution_count": null,
      "id": "4553fb29",
      "metadata": {
        "id": "4553fb29"
      },
      "outputs": [],
      "source": [
        "Sh_IMC = # your code here\n",
        "\n",
        "plt.figure()\n",
        "plt.loglog() # your code here (without IMC)\n",
        "plt.loglog() # your code here (with IMC)\n",
        "plt.xlabel() # your code here (units of measure)\n",
        "plt.ylabel() # your code here (units of measure)\n",
        "plt.legend(); plt.tight_layout(); plt.show()"
      ]
    }
  ],
  "metadata": {
    "kernelspec": {
      "display_name": "finesse",
      "language": "python",
      "name": "python3"
    },
    "language_info": {
      "codemirror_mode": {
        "name": "ipython",
        "version": 3
      },
      "file_extension": ".py",
      "mimetype": "text/x-python",
      "name": "python",
      "nbconvert_exporter": "python",
      "pygments_lexer": "ipython3",
      "version": "3.12.11"
    },
    "colab": {
      "provenance": []
    }
  },
  "nbformat": 4,
  "nbformat_minor": 5
}